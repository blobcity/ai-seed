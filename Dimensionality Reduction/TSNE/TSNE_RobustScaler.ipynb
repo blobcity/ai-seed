{
 "cells": [
  {
   "cell_type": "markdown",
   "id": "262a80a2",
   "metadata": {},
   "source": [
    "# TSNE with RobustScaler"
   ]
  },
  {
   "cell_type": "markdown",
   "id": "6ca4de68",
   "metadata": {},
   "source": [
    "#### This code template of simple TSNE(t-distributed stochastic neighbor embedding) in python is a non-linear technique for dimensionality reduction that is particularly well suited for the visualization of high-dimensional datasets along with the RobustScaler as a feature rescaling technique."
   ]
  },
  {
   "cell_type": "markdown",
   "id": "f01dd50b",
   "metadata": {},
   "source": [
    "### Required Packages"
   ]
  },
  {
   "cell_type": "code",
   "execution_count": 1,
   "id": "8ef4984a",
   "metadata": {},
   "outputs": [],
   "source": [
    "import warnings \n",
    "import itertools\n",
    "import numpy as np \n",
    "import pandas as pd \n",
    "import seaborn as se\n",
    "import plotly.express as px\n",
    "import matplotlib.pyplot as plt\n",
    "from sklearn.manifold import TSNE\n",
    "from sklearn.preprocessing import LabelEncoder,RobustScaler\n",
    "warnings.filterwarnings('ignore')"
   ]
  },
  {
   "cell_type": "markdown",
   "id": "83773545",
   "metadata": {},
   "source": [
    "### Initialization\n",
    "\n",
    "Filepath of CSV file"
   ]
  },
  {
   "cell_type": "code",
   "execution_count": 13,
   "id": "47c2a16d",
   "metadata": {},
   "outputs": [],
   "source": [
    "#filepath\n",
    "file_path= \"\""
   ]
  },
  {
   "cell_type": "markdown",
   "id": "e23c0f87",
   "metadata": {},
   "source": [
    "List of features which are  required for model training ."
   ]
  },
  {
   "cell_type": "code",
   "execution_count": 14,
   "id": "e57f0ed5",
   "metadata": {},
   "outputs": [],
   "source": [
    "#x_values\n",
    "features=[]"
   ]
  },
  {
   "cell_type": "code",
   "execution_count": 15,
   "id": "b9e07da0",
   "metadata": {},
   "outputs": [],
   "source": [
    "#y_value\n",
    "target=''"
   ]
  },
  {
   "cell_type": "markdown",
   "id": "92fcc867",
   "metadata": {},
   "source": [
    "### Data Fetching\n",
    "\n",
    "Pandas is an open-source, BSD-licensed library providing high-performance, easy-to-use data manipulation and data analysis tools.\n",
    "\n",
    "We will use panda's library to read the CSV file using its storage path.And we use the head function to display the initial row or entry."
   ]
  },
  {
   "cell_type": "code",
   "execution_count": 16,
   "id": "6bb1a672",
   "metadata": {},
   "outputs": [
    {
     "data": {
      "text/html": [
       "<div>\n",
       "<style scoped>\n",
       "    .dataframe tbody tr th:only-of-type {\n",
       "        vertical-align: middle;\n",
       "    }\n",
       "\n",
       "    .dataframe tbody tr th {\n",
       "        vertical-align: top;\n",
       "    }\n",
       "\n",
       "    .dataframe thead th {\n",
       "        text-align: right;\n",
       "    }\n",
       "</style>\n",
       "<table border=\"1\" class=\"dataframe\">\n",
       "  <thead>\n",
       "    <tr style=\"text-align: right;\">\n",
       "      <th></th>\n",
       "      <th>erythema</th>\n",
       "      <th>scaling</th>\n",
       "      <th>definite borders</th>\n",
       "      <th>itching</th>\n",
       "      <th>koebner phenomenon</th>\n",
       "      <th>polygonal papules</th>\n",
       "      <th>follicular papules</th>\n",
       "      <th>oral mucosal involvement</th>\n",
       "      <th>knee and elbow involvement</th>\n",
       "      <th>scalp involvement</th>\n",
       "      <th>...</th>\n",
       "      <th>disappearance of the granular layer</th>\n",
       "      <th>vacuolisation and damage of basal layer</th>\n",
       "      <th>spongiosis</th>\n",
       "      <th>saw-tooth appearance of retes</th>\n",
       "      <th>follicular horn plug</th>\n",
       "      <th>perifollicular parakeratosis</th>\n",
       "      <th>inflammatory monoluclear inflitrate</th>\n",
       "      <th>band-like infiltrate</th>\n",
       "      <th>Age</th>\n",
       "      <th>Disease</th>\n",
       "    </tr>\n",
       "  </thead>\n",
       "  <tbody>\n",
       "    <tr>\n",
       "      <th>0</th>\n",
       "      <td>3</td>\n",
       "      <td>3</td>\n",
       "      <td>3</td>\n",
       "      <td>2</td>\n",
       "      <td>1</td>\n",
       "      <td>0</td>\n",
       "      <td>0</td>\n",
       "      <td>0</td>\n",
       "      <td>1</td>\n",
       "      <td>1</td>\n",
       "      <td>...</td>\n",
       "      <td>0</td>\n",
       "      <td>0</td>\n",
       "      <td>0</td>\n",
       "      <td>0</td>\n",
       "      <td>0</td>\n",
       "      <td>0</td>\n",
       "      <td>1</td>\n",
       "      <td>0</td>\n",
       "      <td>8</td>\n",
       "      <td>1</td>\n",
       "    </tr>\n",
       "    <tr>\n",
       "      <th>1</th>\n",
       "      <td>2</td>\n",
       "      <td>1</td>\n",
       "      <td>2</td>\n",
       "      <td>3</td>\n",
       "      <td>1</td>\n",
       "      <td>3</td>\n",
       "      <td>0</td>\n",
       "      <td>3</td>\n",
       "      <td>0</td>\n",
       "      <td>0</td>\n",
       "      <td>...</td>\n",
       "      <td>0</td>\n",
       "      <td>2</td>\n",
       "      <td>3</td>\n",
       "      <td>2</td>\n",
       "      <td>0</td>\n",
       "      <td>0</td>\n",
       "      <td>2</td>\n",
       "      <td>3</td>\n",
       "      <td>26</td>\n",
       "      <td>3</td>\n",
       "    </tr>\n",
       "    <tr>\n",
       "      <th>2</th>\n",
       "      <td>2</td>\n",
       "      <td>2</td>\n",
       "      <td>2</td>\n",
       "      <td>0</td>\n",
       "      <td>0</td>\n",
       "      <td>0</td>\n",
       "      <td>0</td>\n",
       "      <td>0</td>\n",
       "      <td>3</td>\n",
       "      <td>2</td>\n",
       "      <td>...</td>\n",
       "      <td>3</td>\n",
       "      <td>0</td>\n",
       "      <td>0</td>\n",
       "      <td>0</td>\n",
       "      <td>0</td>\n",
       "      <td>0</td>\n",
       "      <td>3</td>\n",
       "      <td>0</td>\n",
       "      <td>40</td>\n",
       "      <td>1</td>\n",
       "    </tr>\n",
       "    <tr>\n",
       "      <th>3</th>\n",
       "      <td>2</td>\n",
       "      <td>3</td>\n",
       "      <td>2</td>\n",
       "      <td>2</td>\n",
       "      <td>2</td>\n",
       "      <td>2</td>\n",
       "      <td>0</td>\n",
       "      <td>2</td>\n",
       "      <td>0</td>\n",
       "      <td>0</td>\n",
       "      <td>...</td>\n",
       "      <td>2</td>\n",
       "      <td>3</td>\n",
       "      <td>2</td>\n",
       "      <td>3</td>\n",
       "      <td>0</td>\n",
       "      <td>0</td>\n",
       "      <td>2</td>\n",
       "      <td>3</td>\n",
       "      <td>45</td>\n",
       "      <td>3</td>\n",
       "    </tr>\n",
       "    <tr>\n",
       "      <th>4</th>\n",
       "      <td>2</td>\n",
       "      <td>3</td>\n",
       "      <td>2</td>\n",
       "      <td>0</td>\n",
       "      <td>0</td>\n",
       "      <td>0</td>\n",
       "      <td>0</td>\n",
       "      <td>0</td>\n",
       "      <td>0</td>\n",
       "      <td>0</td>\n",
       "      <td>...</td>\n",
       "      <td>0</td>\n",
       "      <td>0</td>\n",
       "      <td>2</td>\n",
       "      <td>0</td>\n",
       "      <td>0</td>\n",
       "      <td>0</td>\n",
       "      <td>1</td>\n",
       "      <td>0</td>\n",
       "      <td>41</td>\n",
       "      <td>2</td>\n",
       "    </tr>\n",
       "  </tbody>\n",
       "</table>\n",
       "<p>5 rows × 35 columns</p>\n",
       "</div>"
      ],
      "text/plain": [
       "   erythema  scaling  definite borders  itching  koebner phenomenon  \\\n",
       "0         3        3                 3        2                   1   \n",
       "1         2        1                 2        3                   1   \n",
       "2         2        2                 2        0                   0   \n",
       "3         2        3                 2        2                   2   \n",
       "4         2        3                 2        0                   0   \n",
       "\n",
       "   polygonal papules  follicular papules  oral mucosal involvement  \\\n",
       "0                  0                   0                         0   \n",
       "1                  3                   0                         3   \n",
       "2                  0                   0                         0   \n",
       "3                  2                   0                         2   \n",
       "4                  0                   0                         0   \n",
       "\n",
       "   knee and elbow involvement  scalp involvement  ...  \\\n",
       "0                           1                  1  ...   \n",
       "1                           0                  0  ...   \n",
       "2                           3                  2  ...   \n",
       "3                           0                  0  ...   \n",
       "4                           0                  0  ...   \n",
       "\n",
       "   disappearance of the granular layer  \\\n",
       "0                                    0   \n",
       "1                                    0   \n",
       "2                                    3   \n",
       "3                                    2   \n",
       "4                                    0   \n",
       "\n",
       "   vacuolisation and damage of basal layer  spongiosis  \\\n",
       "0                                        0           0   \n",
       "1                                        2           3   \n",
       "2                                        0           0   \n",
       "3                                        3           2   \n",
       "4                                        0           2   \n",
       "\n",
       "   saw-tooth appearance of retes  follicular horn plug  \\\n",
       "0                              0                     0   \n",
       "1                              2                     0   \n",
       "2                              0                     0   \n",
       "3                              3                     0   \n",
       "4                              0                     0   \n",
       "\n",
       "   perifollicular parakeratosis  inflammatory monoluclear inflitrate  \\\n",
       "0                             0                                    1   \n",
       "1                             0                                    2   \n",
       "2                             0                                    3   \n",
       "3                             0                                    2   \n",
       "4                             0                                    1   \n",
       "\n",
       "   band-like infiltrate  Age  Disease  \n",
       "0                     0    8        1  \n",
       "1                     3   26        3  \n",
       "2                     0   40        1  \n",
       "3                     3   45        3  \n",
       "4                     0   41        2  \n",
       "\n",
       "[5 rows x 35 columns]"
      ]
     },
     "execution_count": 16,
     "metadata": {},
     "output_type": "execute_result"
    }
   ],
   "source": [
    "df = pd.read_csv(file_path)\n",
    "df.head()"
   ]
  },
  {
   "cell_type": "markdown",
   "id": "443da5af",
   "metadata": {},
   "source": [
    "### Feature Selections\n",
    "\n",
    "It is the process of reducing the number of input variables when developing a predictive model. Used to reduce the number of input variables to both reduce the computational cost of modelling and, in some cases, to improve the performance of the model.\n",
    "\n",
    "We will assign all the required input features to X."
   ]
  },
  {
   "cell_type": "code",
   "execution_count": 17,
   "id": "06174d64",
   "metadata": {},
   "outputs": [],
   "source": [
    "X = df[features]\n",
    "Y = df[target]"
   ]
  },
  {
   "cell_type": "markdown",
   "id": "abaa1008",
   "metadata": {},
   "source": [
    "### Data Preprocessing\n",
    "\n",
    "Since the majority of the machine learning models in the Sklearn library doesn't handle string category data and Null value, we have to explicitly remove or replace null values. The below snippet have functions, which removes the null value if any exists. And convert the string classes data in the datasets by encoding them to integer classes.\n"
   ]
  },
  {
   "cell_type": "code",
   "execution_count": 18,
   "id": "27928878",
   "metadata": {},
   "outputs": [],
   "source": [
    "def NullClearner(df):\n",
    "    if(isinstance(df, pd.Series) and (df.dtype in [\"float64\",\"int64\"])):\n",
    "        df.fillna(df.mean(),inplace=True)\n",
    "        return df\n",
    "    elif(isinstance(df, pd.Series)):\n",
    "        df.fillna(df.mode()[0],inplace=True)\n",
    "        return df\n",
    "    else:return df\n",
    "def EncodeX(df):\n",
    "    return pd.get_dummies(df)\n",
    "def EncodeY(df):\n",
    "    if len(df.unique())<=2:\n",
    "        return df\n",
    "    else:\n",
    "        un_EncodedT=np.sort(pd.unique(df), axis=-1, kind='mergesort')\n",
    "        df=LabelEncoder().fit_transform(df)\n",
    "        EncodedT=[xi for xi in range(len(un_EncodedT))]\n",
    "        print(\"Encoded Target: {} to {}\".format(un_EncodedT,EncodedT))\n",
    "        return df"
   ]
  },
  {
   "cell_type": "markdown",
   "id": "46e9fcea",
   "metadata": {},
   "source": [
    "Calling preprocessing functions on the feature and target set."
   ]
  },
  {
   "cell_type": "code",
   "execution_count": 19,
   "id": "df7fe1b6",
   "metadata": {},
   "outputs": [
    {
     "name": "stdout",
     "output_type": "stream",
     "text": [
      "Encoded Target: [1 2 3 4 5 6] to [0, 1, 2, 3, 4, 5]\n"
     ]
    },
    {
     "data": {
      "text/html": [
       "<div>\n",
       "<style scoped>\n",
       "    .dataframe tbody tr th:only-of-type {\n",
       "        vertical-align: middle;\n",
       "    }\n",
       "\n",
       "    .dataframe tbody tr th {\n",
       "        vertical-align: top;\n",
       "    }\n",
       "\n",
       "    .dataframe thead th {\n",
       "        text-align: right;\n",
       "    }\n",
       "</style>\n",
       "<table border=\"1\" class=\"dataframe\">\n",
       "  <thead>\n",
       "    <tr style=\"text-align: right;\">\n",
       "      <th></th>\n",
       "      <th>erythema</th>\n",
       "      <th>scaling</th>\n",
       "      <th>definite borders</th>\n",
       "      <th>itching</th>\n",
       "      <th>koebner phenomenon</th>\n",
       "      <th>polygonal papules</th>\n",
       "      <th>follicular papules</th>\n",
       "      <th>oral mucosal involvement</th>\n",
       "      <th>knee and elbow involvement</th>\n",
       "      <th>scalp involvement</th>\n",
       "      <th>...</th>\n",
       "      <th>Age_64</th>\n",
       "      <th>Age_65</th>\n",
       "      <th>Age_67</th>\n",
       "      <th>Age_68</th>\n",
       "      <th>Age_7</th>\n",
       "      <th>Age_70</th>\n",
       "      <th>Age_75</th>\n",
       "      <th>Age_8</th>\n",
       "      <th>Age_9</th>\n",
       "      <th>Age_?</th>\n",
       "    </tr>\n",
       "  </thead>\n",
       "  <tbody>\n",
       "    <tr>\n",
       "      <th>0</th>\n",
       "      <td>3</td>\n",
       "      <td>3</td>\n",
       "      <td>3</td>\n",
       "      <td>2</td>\n",
       "      <td>1</td>\n",
       "      <td>0</td>\n",
       "      <td>0</td>\n",
       "      <td>0</td>\n",
       "      <td>1</td>\n",
       "      <td>1</td>\n",
       "      <td>...</td>\n",
       "      <td>0</td>\n",
       "      <td>0</td>\n",
       "      <td>0</td>\n",
       "      <td>0</td>\n",
       "      <td>0</td>\n",
       "      <td>0</td>\n",
       "      <td>0</td>\n",
       "      <td>1</td>\n",
       "      <td>0</td>\n",
       "      <td>0</td>\n",
       "    </tr>\n",
       "    <tr>\n",
       "      <th>1</th>\n",
       "      <td>2</td>\n",
       "      <td>1</td>\n",
       "      <td>2</td>\n",
       "      <td>3</td>\n",
       "      <td>1</td>\n",
       "      <td>3</td>\n",
       "      <td>0</td>\n",
       "      <td>3</td>\n",
       "      <td>0</td>\n",
       "      <td>0</td>\n",
       "      <td>...</td>\n",
       "      <td>0</td>\n",
       "      <td>0</td>\n",
       "      <td>0</td>\n",
       "      <td>0</td>\n",
       "      <td>0</td>\n",
       "      <td>0</td>\n",
       "      <td>0</td>\n",
       "      <td>0</td>\n",
       "      <td>0</td>\n",
       "      <td>0</td>\n",
       "    </tr>\n",
       "    <tr>\n",
       "      <th>2</th>\n",
       "      <td>2</td>\n",
       "      <td>2</td>\n",
       "      <td>2</td>\n",
       "      <td>0</td>\n",
       "      <td>0</td>\n",
       "      <td>0</td>\n",
       "      <td>0</td>\n",
       "      <td>0</td>\n",
       "      <td>3</td>\n",
       "      <td>2</td>\n",
       "      <td>...</td>\n",
       "      <td>0</td>\n",
       "      <td>0</td>\n",
       "      <td>0</td>\n",
       "      <td>0</td>\n",
       "      <td>0</td>\n",
       "      <td>0</td>\n",
       "      <td>0</td>\n",
       "      <td>0</td>\n",
       "      <td>0</td>\n",
       "      <td>0</td>\n",
       "    </tr>\n",
       "    <tr>\n",
       "      <th>3</th>\n",
       "      <td>2</td>\n",
       "      <td>3</td>\n",
       "      <td>2</td>\n",
       "      <td>2</td>\n",
       "      <td>2</td>\n",
       "      <td>2</td>\n",
       "      <td>0</td>\n",
       "      <td>2</td>\n",
       "      <td>0</td>\n",
       "      <td>0</td>\n",
       "      <td>...</td>\n",
       "      <td>0</td>\n",
       "      <td>0</td>\n",
       "      <td>0</td>\n",
       "      <td>0</td>\n",
       "      <td>0</td>\n",
       "      <td>0</td>\n",
       "      <td>0</td>\n",
       "      <td>0</td>\n",
       "      <td>0</td>\n",
       "      <td>0</td>\n",
       "    </tr>\n",
       "    <tr>\n",
       "      <th>4</th>\n",
       "      <td>2</td>\n",
       "      <td>3</td>\n",
       "      <td>2</td>\n",
       "      <td>0</td>\n",
       "      <td>0</td>\n",
       "      <td>0</td>\n",
       "      <td>0</td>\n",
       "      <td>0</td>\n",
       "      <td>0</td>\n",
       "      <td>0</td>\n",
       "      <td>...</td>\n",
       "      <td>0</td>\n",
       "      <td>0</td>\n",
       "      <td>0</td>\n",
       "      <td>0</td>\n",
       "      <td>0</td>\n",
       "      <td>0</td>\n",
       "      <td>0</td>\n",
       "      <td>0</td>\n",
       "      <td>0</td>\n",
       "      <td>0</td>\n",
       "    </tr>\n",
       "  </tbody>\n",
       "</table>\n",
       "<p>5 rows × 94 columns</p>\n",
       "</div>"
      ],
      "text/plain": [
       "   erythema  scaling  definite borders  itching  koebner phenomenon  \\\n",
       "0         3        3                 3        2                   1   \n",
       "1         2        1                 2        3                   1   \n",
       "2         2        2                 2        0                   0   \n",
       "3         2        3                 2        2                   2   \n",
       "4         2        3                 2        0                   0   \n",
       "\n",
       "   polygonal papules  follicular papules  oral mucosal involvement  \\\n",
       "0                  0                   0                         0   \n",
       "1                  3                   0                         3   \n",
       "2                  0                   0                         0   \n",
       "3                  2                   0                         2   \n",
       "4                  0                   0                         0   \n",
       "\n",
       "   knee and elbow involvement  scalp involvement  ...  Age_64  Age_65  Age_67  \\\n",
       "0                           1                  1  ...       0       0       0   \n",
       "1                           0                  0  ...       0       0       0   \n",
       "2                           3                  2  ...       0       0       0   \n",
       "3                           0                  0  ...       0       0       0   \n",
       "4                           0                  0  ...       0       0       0   \n",
       "\n",
       "   Age_68  Age_7  Age_70  Age_75  Age_8  Age_9  Age_?  \n",
       "0       0      0       0       0      1      0      0  \n",
       "1       0      0       0       0      0      0      0  \n",
       "2       0      0       0       0      0      0      0  \n",
       "3       0      0       0       0      0      0      0  \n",
       "4       0      0       0       0      0      0      0  \n",
       "\n",
       "[5 rows x 94 columns]"
      ]
     },
     "execution_count": 19,
     "metadata": {},
     "output_type": "execute_result"
    }
   ],
   "source": [
    "x=X.columns.to_list()\n",
    "for i in x:\n",
    "    X[i]=NullClearner(X[i])\n",
    "X=EncodeX(X)\n",
    "Y=EncodeY(NullClearner(Y))\n",
    "X.head()"
   ]
  },
  {
   "cell_type": "markdown",
   "id": "5cdfe0c7",
   "metadata": {},
   "source": [
    "### Data Rescaling\n",
    "Robust Scaler scales features that are robust to outliers.It uses the interquartile range which is between the 1st quartile (25th quantile) and the 3rd quartile (75th quantile).The median and scales of the data are removed by this scaling algorithm according to the quantile range. \n",
    "\n",
    "Refer [API](https://scikit-learn.org/stable/modules/generated/sklearn.preprocessing.RobustScaler.html) for the parameters"
   ]
  },
  {
   "cell_type": "code",
   "execution_count": 20,
   "id": "c74b75fa",
   "metadata": {},
   "outputs": [
    {
     "data": {
      "text/html": [
       "<div>\n",
       "<style scoped>\n",
       "    .dataframe tbody tr th:only-of-type {\n",
       "        vertical-align: middle;\n",
       "    }\n",
       "\n",
       "    .dataframe tbody tr th {\n",
       "        vertical-align: top;\n",
       "    }\n",
       "\n",
       "    .dataframe thead th {\n",
       "        text-align: right;\n",
       "    }\n",
       "</style>\n",
       "<table border=\"1\" class=\"dataframe\">\n",
       "  <thead>\n",
       "    <tr style=\"text-align: right;\">\n",
       "      <th></th>\n",
       "      <th>erythema</th>\n",
       "      <th>scaling</th>\n",
       "      <th>definite borders</th>\n",
       "      <th>itching</th>\n",
       "      <th>koebner phenomenon</th>\n",
       "      <th>polygonal papules</th>\n",
       "      <th>follicular papules</th>\n",
       "      <th>oral mucosal involvement</th>\n",
       "      <th>knee and elbow involvement</th>\n",
       "      <th>scalp involvement</th>\n",
       "      <th>...</th>\n",
       "      <th>Age_64</th>\n",
       "      <th>Age_65</th>\n",
       "      <th>Age_67</th>\n",
       "      <th>Age_68</th>\n",
       "      <th>Age_7</th>\n",
       "      <th>Age_70</th>\n",
       "      <th>Age_75</th>\n",
       "      <th>Age_8</th>\n",
       "      <th>Age_9</th>\n",
       "      <th>Age_?</th>\n",
       "    </tr>\n",
       "  </thead>\n",
       "  <tbody>\n",
       "    <tr>\n",
       "      <th>0</th>\n",
       "      <td>1.0</td>\n",
       "      <td>1.0</td>\n",
       "      <td>1.0</td>\n",
       "      <td>0.5</td>\n",
       "      <td>1.0</td>\n",
       "      <td>0.0</td>\n",
       "      <td>0.0</td>\n",
       "      <td>0.0</td>\n",
       "      <td>1.0</td>\n",
       "      <td>1.0</td>\n",
       "      <td>...</td>\n",
       "      <td>0.0</td>\n",
       "      <td>0.0</td>\n",
       "      <td>0.0</td>\n",
       "      <td>0.0</td>\n",
       "      <td>0.0</td>\n",
       "      <td>0.0</td>\n",
       "      <td>0.0</td>\n",
       "      <td>1.0</td>\n",
       "      <td>0.0</td>\n",
       "      <td>0.0</td>\n",
       "    </tr>\n",
       "    <tr>\n",
       "      <th>1</th>\n",
       "      <td>0.0</td>\n",
       "      <td>-1.0</td>\n",
       "      <td>0.0</td>\n",
       "      <td>1.0</td>\n",
       "      <td>1.0</td>\n",
       "      <td>3.0</td>\n",
       "      <td>0.0</td>\n",
       "      <td>3.0</td>\n",
       "      <td>0.0</td>\n",
       "      <td>0.0</td>\n",
       "      <td>...</td>\n",
       "      <td>0.0</td>\n",
       "      <td>0.0</td>\n",
       "      <td>0.0</td>\n",
       "      <td>0.0</td>\n",
       "      <td>0.0</td>\n",
       "      <td>0.0</td>\n",
       "      <td>0.0</td>\n",
       "      <td>0.0</td>\n",
       "      <td>0.0</td>\n",
       "      <td>0.0</td>\n",
       "    </tr>\n",
       "    <tr>\n",
       "      <th>2</th>\n",
       "      <td>0.0</td>\n",
       "      <td>0.0</td>\n",
       "      <td>0.0</td>\n",
       "      <td>-0.5</td>\n",
       "      <td>0.0</td>\n",
       "      <td>0.0</td>\n",
       "      <td>0.0</td>\n",
       "      <td>0.0</td>\n",
       "      <td>3.0</td>\n",
       "      <td>2.0</td>\n",
       "      <td>...</td>\n",
       "      <td>0.0</td>\n",
       "      <td>0.0</td>\n",
       "      <td>0.0</td>\n",
       "      <td>0.0</td>\n",
       "      <td>0.0</td>\n",
       "      <td>0.0</td>\n",
       "      <td>0.0</td>\n",
       "      <td>0.0</td>\n",
       "      <td>0.0</td>\n",
       "      <td>0.0</td>\n",
       "    </tr>\n",
       "    <tr>\n",
       "      <th>3</th>\n",
       "      <td>0.0</td>\n",
       "      <td>1.0</td>\n",
       "      <td>0.0</td>\n",
       "      <td>0.5</td>\n",
       "      <td>2.0</td>\n",
       "      <td>2.0</td>\n",
       "      <td>0.0</td>\n",
       "      <td>2.0</td>\n",
       "      <td>0.0</td>\n",
       "      <td>0.0</td>\n",
       "      <td>...</td>\n",
       "      <td>0.0</td>\n",
       "      <td>0.0</td>\n",
       "      <td>0.0</td>\n",
       "      <td>0.0</td>\n",
       "      <td>0.0</td>\n",
       "      <td>0.0</td>\n",
       "      <td>0.0</td>\n",
       "      <td>0.0</td>\n",
       "      <td>0.0</td>\n",
       "      <td>0.0</td>\n",
       "    </tr>\n",
       "    <tr>\n",
       "      <th>4</th>\n",
       "      <td>0.0</td>\n",
       "      <td>1.0</td>\n",
       "      <td>0.0</td>\n",
       "      <td>-0.5</td>\n",
       "      <td>0.0</td>\n",
       "      <td>0.0</td>\n",
       "      <td>0.0</td>\n",
       "      <td>0.0</td>\n",
       "      <td>0.0</td>\n",
       "      <td>0.0</td>\n",
       "      <td>...</td>\n",
       "      <td>0.0</td>\n",
       "      <td>0.0</td>\n",
       "      <td>0.0</td>\n",
       "      <td>0.0</td>\n",
       "      <td>0.0</td>\n",
       "      <td>0.0</td>\n",
       "      <td>0.0</td>\n",
       "      <td>0.0</td>\n",
       "      <td>0.0</td>\n",
       "      <td>0.0</td>\n",
       "    </tr>\n",
       "  </tbody>\n",
       "</table>\n",
       "<p>5 rows × 94 columns</p>\n",
       "</div>"
      ],
      "text/plain": [
       "   erythema  scaling  definite borders  itching  koebner phenomenon  \\\n",
       "0       1.0      1.0               1.0      0.5                 1.0   \n",
       "1       0.0     -1.0               0.0      1.0                 1.0   \n",
       "2       0.0      0.0               0.0     -0.5                 0.0   \n",
       "3       0.0      1.0               0.0      0.5                 2.0   \n",
       "4       0.0      1.0               0.0     -0.5                 0.0   \n",
       "\n",
       "   polygonal papules  follicular papules  oral mucosal involvement  \\\n",
       "0                0.0                 0.0                       0.0   \n",
       "1                3.0                 0.0                       3.0   \n",
       "2                0.0                 0.0                       0.0   \n",
       "3                2.0                 0.0                       2.0   \n",
       "4                0.0                 0.0                       0.0   \n",
       "\n",
       "   knee and elbow involvement  scalp involvement  ...  Age_64  Age_65  Age_67  \\\n",
       "0                         1.0                1.0  ...     0.0     0.0     0.0   \n",
       "1                         0.0                0.0  ...     0.0     0.0     0.0   \n",
       "2                         3.0                2.0  ...     0.0     0.0     0.0   \n",
       "3                         0.0                0.0  ...     0.0     0.0     0.0   \n",
       "4                         0.0                0.0  ...     0.0     0.0     0.0   \n",
       "\n",
       "   Age_68  Age_7  Age_70  Age_75  Age_8  Age_9  Age_?  \n",
       "0     0.0    0.0     0.0     0.0    1.0    0.0    0.0  \n",
       "1     0.0    0.0     0.0     0.0    0.0    0.0    0.0  \n",
       "2     0.0    0.0     0.0     0.0    0.0    0.0    0.0  \n",
       "3     0.0    0.0     0.0     0.0    0.0    0.0    0.0  \n",
       "4     0.0    0.0     0.0     0.0    0.0    0.0    0.0  \n",
       "\n",
       "[5 rows x 94 columns]"
      ]
     },
     "execution_count": 20,
     "metadata": {},
     "output_type": "execute_result"
    }
   ],
   "source": [
    "X_scaled = RobustScaler().fit_transform(X)\n",
    "X_scaled=pd.DataFrame(data = X_scaled,columns = X.columns)\n",
    "X_scaled.head()"
   ]
  },
  {
   "cell_type": "markdown",
   "id": "f9f4a745",
   "metadata": {},
   "source": [
    "### Model\n",
    "t-Distributed Stochastic Neighbor Embedding (t-SNE) is a non-linear technique for dimensionality reduction that is particularly well suited for the visualization of high-dimensional datasets. It is extensively applied in image processing, NLP, genomic data and speech processing.\n",
    "\n",
    "Refer [API](https://scikit-learn.org/stable/modules/generated/sklearn.manifold.TSNE.html) for the parameters"
   ]
  },
  {
   "cell_type": "code",
   "execution_count": 84,
   "id": "b7ceb506",
   "metadata": {
    "scrolled": false
   },
   "outputs": [
    {
     "name": "stdout",
     "output_type": "stream",
     "text": [
      "[t-SNE] Computing 121 nearest neighbors...\n",
      "[t-SNE] Indexed 365 samples in 0.001s...\n",
      "[t-SNE] Computed neighbors for 365 samples in 0.011s...\n",
      "[t-SNE] Computed conditional probabilities for sample 365 / 365\n",
      "[t-SNE] Mean sigma: 1.697982\n",
      "[t-SNE] KL divergence after 250 iterations with early exaggeration: 47.434025\n",
      "[t-SNE] KL divergence after 1000 iterations: 0.321086\n"
     ]
    }
   ],
   "source": [
    "X_embedded = TSNE(n_components=3,verbose=1,perplexity=40,n_iter=1000,random_state=24,learning_rate=45).fit_transform(X_scaled)"
   ]
  },
  {
   "cell_type": "markdown",
   "id": "6986ac0c",
   "metadata": {},
   "source": [
    "#### Output Dataframe"
   ]
  },
  {
   "cell_type": "code",
   "execution_count": 86,
   "id": "a5d1073a",
   "metadata": {},
   "outputs": [
    {
     "data": {
      "text/html": [
       "<div>\n",
       "<style scoped>\n",
       "    .dataframe tbody tr th:only-of-type {\n",
       "        vertical-align: middle;\n",
       "    }\n",
       "\n",
       "    .dataframe tbody tr th {\n",
       "        vertical-align: top;\n",
       "    }\n",
       "\n",
       "    .dataframe thead th {\n",
       "        text-align: right;\n",
       "    }\n",
       "</style>\n",
       "<table border=\"1\" class=\"dataframe\">\n",
       "  <thead>\n",
       "    <tr style=\"text-align: right;\">\n",
       "      <th></th>\n",
       "      <th>comp1</th>\n",
       "      <th>comp2</th>\n",
       "      <th>comp3</th>\n",
       "      <th>Y</th>\n",
       "    </tr>\n",
       "  </thead>\n",
       "  <tbody>\n",
       "    <tr>\n",
       "      <th>0</th>\n",
       "      <td>-4.445041</td>\n",
       "      <td>3.144459</td>\n",
       "      <td>4.579589</td>\n",
       "      <td>0</td>\n",
       "    </tr>\n",
       "    <tr>\n",
       "      <th>1</th>\n",
       "      <td>9.702360</td>\n",
       "      <td>9.470056</td>\n",
       "      <td>-4.950182</td>\n",
       "      <td>2</td>\n",
       "    </tr>\n",
       "    <tr>\n",
       "      <th>2</th>\n",
       "      <td>-7.512547</td>\n",
       "      <td>6.157599</td>\n",
       "      <td>9.375201</td>\n",
       "      <td>0</td>\n",
       "    </tr>\n",
       "    <tr>\n",
       "      <th>3</th>\n",
       "      <td>11.128432</td>\n",
       "      <td>7.950544</td>\n",
       "      <td>-6.740520</td>\n",
       "      <td>2</td>\n",
       "    </tr>\n",
       "    <tr>\n",
       "      <th>4</th>\n",
       "      <td>-3.940934</td>\n",
       "      <td>-1.121572</td>\n",
       "      <td>-1.013561</td>\n",
       "      <td>1</td>\n",
       "    </tr>\n",
       "  </tbody>\n",
       "</table>\n",
       "</div>"
      ],
      "text/plain": [
       "       comp1     comp2     comp3  Y\n",
       "0  -4.445041  3.144459  4.579589  0\n",
       "1   9.702360  9.470056 -4.950182  2\n",
       "2  -7.512547  6.157599  9.375201  0\n",
       "3  11.128432  7.950544 -6.740520  2\n",
       "4  -3.940934 -1.121572 -1.013561  1"
      ]
     },
     "execution_count": 86,
     "metadata": {},
     "output_type": "execute_result"
    }
   ],
   "source": [
    "finalDf = pd.DataFrame(data = X_embedded)\n",
    "finalDf.columns=['comp1','comp2','comp3']\n",
    "finalDf['Y']=Y\n",
    "finalDf.head()"
   ]
  },
  {
   "cell_type": "markdown",
   "id": "c92eb4ee",
   "metadata": {},
   "source": [
    "#### 3D Plots\n",
    "Below are 3D plots of the data after dimensionality reduction"
   ]
  },
  {
   "cell_type": "code",
   "execution_count": 87,
   "id": "fc934066",
   "metadata": {},
   "outputs": [
    {
     "data": {
      "image/png": "[encoded data removed]",
      "text/plain": [
       "<Figure size 1152x720 with 1 Axes>"
      ]
     },
     "metadata": {
      "needs_background": "light"
     },
     "output_type": "display_data"
    }
   ],
   "source": [
    "groups = finalDf.groupby(\"Y\")\n",
    "fig,ax = plt.figure(figsize = (16, 10)),plt.axes(projection =\"3d\")\n",
    "ax.grid(b = True, color ='grey',linestyle ='-.',linewidth = 0.3,alpha = 0.2)\n",
    "for name,group in groups:\n",
    "    ax.scatter3D(group['comp1'],group['comp2'],group['comp3'],alpha = 0.8,cmap=plt.cm.Accent,label=name)\n",
    "ax.set_xlabel('comp1')\n",
    "ax.set_ylabel('comp2')\n",
    "ax.set_zlabel('comp3')\n",
    "plt.legend()\n",
    "plt.show()"
   ]
  },
  {
   "cell_type": "code",
   "execution_count": 77,
   "id": "db48e532",
   "metadata": {},
   "outputs": [
    {
     "data": {
      "application/vnd.plotly.v1+json": {
       "config": {
        "plotlyServerURL": "https://plot.ly"
       },
       "data": [
        {
         "hovertemplate": "comp1=%{x}<br>comp2=%{y}<br>comp3=%{z}<br>Y=%{marker.color}<extra></extra>",
         "legendgroup": "",
         "marker": {
          "color": [
           0,
           2,
           0,
           2,
           1,
           4,
           2,
           3,
           3,
           0,
           1,
           1,
           0,
           2,
           3,
           1,
           0,
           2,
           4,
           5,
           1,
           4,
           2,
           4,
           0,
           5,
           4,
           1,
           2,
           0,
           1,
           0,
           0,
           3,
           1,
           2,
           1,
           2,
           0,
           1,
           3,
           0,
           1,
           4,
           2,
           3,
           5,
           1,
           2,
           2,
           3,
           0,
           0,
           4,
           0,
           1,
           2,
           3,
           1,
           5,
           0,
           4,
           0,
           1,
           2,
           0,
           3,
           4,
           0,
           1,
           5,
           2,
           4,
           3,
           1,
           1,
           0,
           2,
           4,
           0,
           1,
           1,
           1,
           4,
           0,
           0,
           2,
           0,
           3,
           1,
           1,
           4,
           0,
           2,
           3,
           1,
           4,
           0,
           5,
           1,
           4,
           0,
           1,
           1,
           0,
           3,
           0,
           2,
           0,
           0,
           2,
           4,
           2,
           2,
           4,
           1,
           2,
           3,
           0,
           1,
           4,
           5,
           0,
           0,
           1,
           5,
           2,
           4,
           3,
           0,
           0,
           2,
           4,
           4,
           0,
           3,
           1,
           2,
           0,
           1,
           0,
           0,
           2,
           2,
           2,
           1,
           4,
           3,
           1,
           1,
           0,
           0,
           0,
           4,
           2,
           1,
           2,
           1,
           1,
           3,
           1,
           2,
           5,
           1,
           0,
           0,
           2,
           3,
           2,
           2,
           0,
           0,
           0,
           2,
           0,
           0,
           1,
           2,
           2,
           0,
           0,
           0,
           0,
           5,
           1,
           1,
           1,
           1,
           0,
           2,
           2,
           2,
           0,
           0,
           1,
           2,
           1,
           1,
           1,
           4,
           4,
           4,
           4,
           4,
           0,
           0,
           0,
           0,
           0,
           0,
           0,
           2,
           2,
           2,
           2,
           2,
           2,
           3,
           3,
           3,
           3,
           4,
           4,
           4,
           4,
           4,
           4,
           4,
           1,
           1,
           1,
           1,
           0,
           0,
           0,
           0,
           0,
           0,
           5,
           5,
           0,
           0,
           0,
           0,
           0,
           0,
           0,
           0,
           2,
           2,
           2,
           2,
           2,
           2,
           2,
           3,
           3,
           3,
           3,
           3,
           3,
           4,
           4,
           4,
           4,
           5,
           5,
           5,
           3,
           3,
           3,
           0,
           0,
           0,
           0,
           0,
           1,
           1,
           3,
           3,
           3,
           0,
           0,
           1,
           1,
           1,
           2,
           2,
           2,
           2,
           0,
           0,
           0,
           0,
           4,
           4,
           4,
           4,
           4,
           2,
           2,
           2,
           3,
           0,
           0,
           3,
           3,
           3,
           0,
           0,
           0,
           2,
           2,
           2,
           2,
           2,
           0,
           0,
           0,
           0,
           3,
           3,
           0,
           0,
           3,
           2,
           2,
           3,
           0,
           0,
           3,
           3,
           4,
           4,
           0,
           0,
           4,
           4,
           2,
           0,
           4,
           4,
           5,
           5,
           3,
           3,
           5,
           5,
           5,
           0,
           0,
           0,
           4,
           4,
           0,
           0,
           0,
           0,
           1,
           1,
           3,
           3,
           2,
           2,
           0
          ],
          "coloraxis": "coloraxis",
          "symbol": "circle"
         },
         "mode": "markers",
         "name": "",
         "scene": "scene",
         "showlegend": false,
         "type": "scatter3d",
         "x": [
          -4.445040702819824,
          9.702360153198242,
          -7.512547016143799,
          11.128432273864746,
          -3.9409337043762207,
          4.060914516448975,
          11.410074234008789,
          2.3115150928497314,
          0.007990790531039238,
          -5.414873123168945,
          -2.0228543281555176,
          -3.2310898303985596,
          -6.4727463722229,
          12.137028694152832,
          3.0395445823669434,
          -2.2519466876983643,
          -9.64340877532959,
          7.922035217285156,
          4.4629621505737305,
          -1.3210467100143433,
          -2.8839266300201416,
          2.99114727973938,
          7.448269844055176,
          4.331634521484375,
          -7.916079998016357,
          -2.2533695697784424,
          3.07014536857605,
          -1.9791980981826782,
          7.727176666259766,
          -10.360641479492188,
          -2.9205920696258545,
          -7.861962795257568,
          -6.341598033905029,
          3.407830238342285,
          -1.9074102640151978,
          10.412734985351562,
          -2.4552321434020996,
          8.2057466506958,
          -5.365908622741699,
          0.5253965854644775,
          0.7747373580932617,
          -5.797610282897949,
          0.38353583216667175,
          2.3739659786224365,
          8.235756874084473,
          2.535583019256592,
          -1.1117987632751465,
          2.476560115814209,
          8.658133506774902,
          7.95111083984375,
          4.162598609924316,
          -5.67927885055542,
          -7.802937030792236,
          3.431316375732422,
          -7.630797863006592,
          0.423666775226593,
          9.768012046813965,
          1.8505542278289795,
          -3.67962646484375,
          -2.0968711376190186,
          -7.039687633514404,
          5.458553314208984,
          -5.426388740539551,
          -2.2129716873168945,
          11.395246505737305,
          -9.81778335571289,
          3.038540840148926,
          4.886150360107422,
          -6.1162004470825195,
          -0.18155255913734436,
          -3.62821364402771,
          7.039287090301514,
          3.7314047813415527,
          3.467656135559082,
          -2.778438091278076,
          -4.157576560974121,
          -1.2349746227264404,
          6.460517883300781,
          4.35967493057251,
          -2.0650720596313477,
          -4.089741230010986,
          -1.8305959701538086,
          -2.372727394104004,
          5.011752128601074,
          -1.9087495803833008,
          -2.3774795532226562,
          7.302053928375244,
          -5.237179756164551,
          3.471729040145874,
          -3.6829748153686523,
          0.20065522193908691,
          3.7087349891662598,
          -7.490293979644775,
          7.88189697265625,
          2.50648832321167,
          -1.682897686958313,
          5.844272136688232,
          -5.46257209777832,
          -2.233635425567627,
          -2.5198566913604736,
          6.164658069610596,
          -2.263486862182617,
          -3.3876781463623047,
          -2.8316166400909424,
          -5.157519817352295,
          1.8184149265289307,
          -5.746610641479492,
          9.824993133544922,
          -6.618422031402588,
          -7.255145072937012,
          8.395180702209473,
          5.948809623718262,
          10.577913284301758,
          7.7627434730529785,
          5.149483680725098,
          -2.1537036895751953,
          11.771760940551758,
          1.3577854633331299,
          -4.800517559051514,
          -2.2723097801208496,
          5.104360580444336,
          -2.990567445755005,
          -5.614832401275635,
          -3.7857632637023926,
          -2.8645153045654297,
          -3.0054430961608887,
          7.6498212814331055,
          5.638341426849365,
          2.6742124557495117,
          -5.325432300567627,
          -2.2356386184692383,
          10.415675163269043,
          2.5897340774536133,
          1.1037172079086304,
          -5.2133331298828125,
          1.0834087133407593,
          -3.7149200439453125,
          10.39242172241211,
          -2.163111925125122,
          2.750739097595215,
          -2.998396873474121,
          -2.961731195449829,
          7.853435039520264,
          8.602797508239746,
          11.227494239807129,
          -3.2736399173736572,
          5.36470365524292,
          0.7251580953598022,
          -1.2689558267593384,
          -0.36350247263908386,
          -4.236218452453613,
          -4.166204452514648,
          -5.021425247192383,
          6.332164764404297,
          9.069493293762207,
          -1.4508252143859863,
          11.566947937011719,
          -0.16873061656951904,
          0.6136088371276855,
          1.5219752788543701,
          1.3224143981933594,
          11.201798439025879,
          -2.880141019821167,
          -2.7796108722686768,
          -4.451463222503662,
          -6.38035774230957,
          11.926932334899902,
          2.514880657196045,
          10.15124225616455,
          9.532812118530273,
          -6.327959060668945,
          -6.084526538848877,
          -5.83601713180542,
          10.898003578186035,
          -6.855230808258057,
          -6.675307750701904,
          -2.30385160446167,
          11.8296480178833,
          11.113445281982422,
          -4.913133144378662,
          -4.663694381713867,
          -4.812738418579102,
          -4.8397135734558105,
          -3.978212356567383,
          -1.7149109840393066,
          -2.7961106300354004,
          -2.4167239665985107,
          -3.2311415672302246,
          -5.792933940887451,
          9.301413536071777,
          12.554704666137695,
          10.268733978271484,
          -7.521005153656006,
          -7.7239813804626465,
          -2.3199002742767334,
          11.121789932250977,
          -2.3956170082092285,
          -1.9220927953720093,
          -2.1034796237945557,
          2.7402944564819336,
          1.0496842861175537,
          2.4956295490264893,
          1.1055749654769897,
          1.5081785917282104,
          -4.39227294921875,
          -4.281271934509277,
          -3.8351006507873535,
          -4.847154140472412,
          -4.9465227127075195,
          -5.300086498260498,
          -5.165962219238281,
          10.771599769592285,
          10.338385581970215,
          11.188560485839844,
          10.385457038879395,
          11.31410026550293,
          10.63192367553711,
          3.2550690174102783,
          1.4133527278900146,
          2.3493690490722656,
          3.0509629249572754,
          4.261033058166504,
          6.0847601890563965,
          5.937013626098633,
          4.830533981323242,
          4.485121726989746,
          4.956002712249756,
          5.544007778167725,
          -3.0980148315429688,
          -5.200995922088623,
          -5.61176061630249,
          -5.406100273132324,
          -6.35487174987793,
          -2.854046583175659,
          -7.9989752769470215,
          -9.091599464416504,
          -8.299205780029297,
          -8.26456069946289,
          -3.906205654144287,
          -4.174441814422607,
          -8.926233291625977,
          -7.267699718475342,
          -9.939142227172852,
          -9.500722885131836,
          -10.27818489074707,
          -9.481813430786133,
          -9.239730834960938,
          -4.517912864685059,
          8.709338188171387,
          10.26516056060791,
          9.63977336883545,
          9.765271186828613,
          10.040582656860352,
          10.461530685424805,
          10.453648567199707,
          1.2563283443450928,
          -1.2689427137374878,
          0.005623661447316408,
          0.043189361691474915,
          0.03546035289764404,
          -1.3179558515548706,
          3.8540709018707275,
          4.864021301269531,
          4.114856243133545,
          3.846623420715332,
          -2.7564570903778076,
          -3.0439038276672363,
          -2.345475673675537,
          0.3046434819698334,
          2.2096729278564453,
          1.7343817949295044,
          -6.441600322723389,
          -8.742045402526855,
          -7.535998344421387,
          -8.1390380859375,
          -7.576876163482666,
          -1.344725251197815,
          -0.6137216687202454,
          1.6554454565048218,
          2.7963614463806152,
          -0.72052001953125,
          -6.93945837020874,
          -9.150837898254395,
          0.02701500803232193,
          0.2987445294857025,
          1.0374033451080322,
          9.03719425201416,
          9.139320373535156,
          9.54250431060791,
          10.178383827209473,
          -7.497171401977539,
          -9.206733703613281,
          -8.21413516998291,
          -9.907768249511719,
          4.378718376159668,
          3.6110215187072754,
          7.3143205642700195,
          4.5093302726745605,
          3.4388489723205566,
          10.839749336242676,
          9.235495567321777,
          10.675150871276855,
          0.9248368740081787,
          -10.63570499420166,
          -6.673847198486328,
          2.38030743598938,
          1.4595340490341187,
          1.7051842212677002,
          -8.267696380615234,
          -9.105470657348633,
          -8.338964462280273,
          8.87890625,
          8.555492401123047,
          9.159704208374023,
          7.54505729675293,
          9.043961524963379,
          -8.211286544799805,
          -8.112256050109863,
          -10.612723350524902,
          -7.742353439331055,
          2.1332077980041504,
          0.39551934599876404,
          -6.182353973388672,
          -6.648278713226318,
          2.1476645469665527,
          8.860437393188477,
          9.023880958557129,
          -0.3554935157299042,
          -7.343825340270996,
          -9.170234680175781,
          2.432354688644409,
          1.7371389865875244,
          4.33232307434082,
          4.740070819854736,
          -9.944236755371094,
          -7.885612964630127,
          3.275886297225952,
          3.2889041900634766,
          8.628737449645996,
          -9.088663101196289,
          4.684187412261963,
          4.732641696929932,
          -3.7208993434906006,
          -4.078355312347412,
          1.3003638982772827,
          -0.06776250898838043,
          -3.875744581222534,
          -4.133893013000488,
          -3.935804843902588,
          -9.107763290405273,
          -9.210915565490723,
          -9.94938850402832,
          4.910182476043701,
          5.016933917999268,
          -9.84486198425293,
          -10.037469863891602,
          -6.9276556968688965,
          -9.532565116882324,
          -1.095954418182373,
          -1.4768375158309937,
          1.485258936882019,
          2.317544937133789,
          7.8001017570495605,
          9.09792423248291,
          -10.483990669250488
         ],
         "y": [
          3.144458532333374,
          9.47005558013916,
          6.157598972320557,
          7.9505438804626465,
          -1.1215721368789673,
          -6.29721736907959,
          5.8950419425964355,
          -1.9333090782165527,
          -0.7383533120155334,
          4.252251625061035,
          -5.110471248626709,
          -3.7435555458068848,
          3.712219476699829,
          9.190299987792969,
          -2.386277914047241,
          -4.292386531829834,
          6.56150484085083,
          5.2133402824401855,
          -9.1473388671875,
          -11.033835411071777,
          -0.1952238827943802,
          -9.53366756439209,
          7.955546855926514,
          -5.22360897064209,
          3.1622326374053955,
          -11.185290336608887,
          -7.831969261169434,
          0.8205693364143372,
          9.262612342834473,
          5.002115726470947,
          -4.970189094543457,
          8.338958740234375,
          2.648714542388916,
          -0.8877962827682495,
          -4.606622695922852,
          10.414100646972656,
          -3.457054853439331,
          11.06212043762207,
          4.5950446128845215,
          -4.829885482788086,
          -4.017329692840576,
          4.44104528427124,
          -3.5882034301757812,
          -7.768953800201416,
          8.661296844482422,
          -0.36465221643447876,
          -10.52898120880127,
          -5.742420673370361,
          9.29951000213623,
          10.001723289489746,
          -1.458627462387085,
          4.989924430847168,
          5.3201422691345215,
          -7.524807453155518,
          4.136958599090576,
          -4.9651641845703125,
          10.049568176269531,
          -4.394087314605713,
          -5.049331188201904,
          -9.487403869628906,
          2.777949571609497,
          -7.884778022766113,
          4.243923664093018,
          -4.460702419281006,
          9.40224838256836,
          5.8059492111206055,
          -2.3859410285949707,
          -9.347334861755371,
          1.75245201587677,
          -3.086127519607544,
          -11.779881477355957,
          8.66380500793457,
          -6.887736797332764,
          -3.488414764404297,
          -2.7050726413726807,
          -1.5695425271987915,
          3.1031601428985596,
          8.703268051147461,
          -5.892733573913574,
          2.718137741088867,
          -1.7768415212631226,
          -2.6637659072875977,
          -1.6645207405090332,
          -5.709537506103516,
          3.791404962539673,
          3.1615548133850098,
          7.5906572341918945,
          7.7280707359313965,
          -1.950643539428711,
          -4.150579929351807,
          -5.594856262207031,
          -7.876201152801514,
          8.103485107421875,
          7.9409661293029785,
          -1.0437334775924683,
          -3.2156972885131836,
          -5.960244178771973,
          1.6365103721618652,
          -10.106762886047363,
          -2.9472901821136475,
          -5.72831916809082,
          2.8886945247650146,
          -1.9618642330169678,
          -1.1968125104904175,
          5.064309120178223,
          -3.2112953662872314,
          6.142189025878906,
          6.588536739349365,
          7.027707576751709,
          7.73319149017334,
          6.647272109985352,
          -5.404771327972412,
          4.90973424911499,
          8.472501754760742,
          -8.975567817687988,
          -2.3783366680145264,
          5.446227550506592,
          -2.4968419075012207,
          5.53115177154541,
          -0.6057552695274353,
          -9.239191055297852,
          -11.557893753051758,
          2.3246114253997803,
          4.882801055908203,
          -1.9193511009216309,
          -10.78753662109375,
          6.595358848571777,
          -6.870327472686768,
          -1.1244525909423828,
          7.632452011108398,
          2.9071407318115234,
          4.168931484222412,
          -4.939336776733398,
          -3.193967819213867,
          7.378210067749023,
          -2.7198486328125,
          -1.2892775535583496,
          4.167314529418945,
          2.6726865768432617,
          -0.9861310124397278,
          2.105329751968384,
          5.779969692230225,
          11.807870864868164,
          9.345523834228516,
          6.534405708312988,
          -4.2702531814575195,
          -7.662574768066406,
          -0.2259654700756073,
          -5.328896522521973,
          -5.417717933654785,
          1.1026407480239868,
          0.6435704827308655,
          1.3605995178222656,
          -6.366275310516357,
          8.290016174316406,
          -5.610535144805908,
          7.429309368133545,
          -4.09883975982666,
          -2.2420945167541504,
          -0.7157875299453735,
          -4.356008529663086,
          7.973935127258301,
          -9.514885902404785,
          -4.579824447631836,
          3.369663715362549,
          7.068841934204102,
          7.361397743225098,
          -0.22033476829528809,
          6.090257167816162,
          9.900219917297363,
          5.555752277374268,
          4.605693817138672,
          4.815498352050781,
          7.076632022857666,
          6.007411479949951,
          6.754671573638916,
          -6.019322872161865,
          6.77287483215332,
          5.876513957977295,
          4.745288848876953,
          1.7448433637619019,
          2.305514335632324,
          2.254688262939453,
          -11.080419540405273,
          -4.878141403198242,
          -5.488374710083008,
          -6.172421455383301,
          -6.0179853439331055,
          4.779679298400879,
          9.094286918640137,
          8.091885566711426,
          7.860533714294434,
          5.882056713104248,
          7.004705905914307,
          -3.2061104774475098,
          7.84497594833374,
          -1.270883560180664,
          -2.851341724395752,
          -2.3117823600769043,
          -6.952846527099609,
          -7.159745693206787,
          -6.239689826965332,
          -7.224243640899658,
          -6.563109397888184,
          5.50507116317749,
          6.218635559082031,
          5.780257225036621,
          6.552188396453857,
          6.651261806488037,
          6.204259395599365,
          6.120064735412598,
          8.211193084716797,
          7.741936206817627,
          6.685000419616699,
          7.136732578277588,
          6.788826942443848,
          6.402987480163574,
          -2.1768131256103516,
          -2.198901414871216,
          -3.259944438934326,
          -1.4300971031188965,
          -7.388276100158691,
          -7.45326042175293,
          -7.0812530517578125,
          -6.222468376159668,
          -7.421536445617676,
          -7.291506290435791,
          -6.9887189865112305,
          -3.189310312271118,
          -3.665191411972046,
          -3.2609312534332275,
          -3.5432510375976562,
          2.328760862350464,
          3.0162851810455322,
          1.8537520170211792,
          1.5154536962509155,
          1.8325371742248535,
          1.4241843223571777,
          -11.25827407836914,
          -10.706313133239746,
          4.367507457733154,
          1.9847602844238281,
          5.024686336517334,
          6.815675735473633,
          4.288613796234131,
          6.2124128341674805,
          5.980403423309326,
          2.2120344638824463,
          8.778505325317383,
          5.179238796234131,
          8.075282096862793,
          7.642805099487305,
          8.373237609863281,
          9.436210632324219,
          9.435405731201172,
          -1.3310908079147339,
          -1.369325876235962,
          1.1592655181884766,
          -0.7196237444877625,
          0.9028170704841614,
          0.0533924475312233,
          -9.537302017211914,
          -9.272675514221191,
          -9.367094993591309,
          -8.777351379394531,
          -10.266240119934082,
          -9.850907325744629,
          -9.956282615661621,
          -0.9216954112052917,
          -1.7445950508117676,
          -0.6959286332130432,
          3.6631906032562256,
          4.573369979858398,
          6.0114874839782715,
          4.823139190673828,
          5.239837169647217,
          -0.6099024415016174,
          -0.27170035243034363,
          -2.3077878952026367,
          -0.1765488237142563,
          -1.6112782955169678,
          3.7165868282318115,
          3.449211597442627,
          -1.8146940469741821,
          -1.1255306005477905,
          -0.9829832315444946,
          8.06151294708252,
          5.749415397644043,
          7.085916996002197,
          6.872758865356445,
          4.526220321655273,
          3.2131664752960205,
          4.1972222328186035,
          3.6230270862579346,
          -5.599846839904785,
          -5.720639228820801,
          -6.608025074005127,
          -4.935520172119141,
          -6.065954685211182,
          8.420843124389648,
          6.883213520050049,
          9.301621437072754,
          -1.1681491136550903,
          6.3020243644714355,
          4.776544570922852,
          -2.6440584659576416,
          -0.49852117896080017,
          -2.8579769134521484,
          4.764969825744629,
          4.122568607330322,
          3.936166286468506,
          5.954566955566406,
          7.6832594871521,
          7.17205286026001,
          7.099123954772949,
          5.60693883895874,
          5.548864364624023,
          2.812933921813965,
          4.567069053649902,
          2.1006202697753906,
          -0.8191672563552856,
          -1.8602690696716309,
          3.1551547050476074,
          1.7315257787704468,
          -2.9396860599517822,
          8.189786911010742,
          9.104835510253906,
          -3.901447057723999,
          6.102802276611328,
          2.169837236404419,
          -3.814572811126709,
          0.23668716847896576,
          -6.938600063323975,
          -6.100446701049805,
          3.7879745960235596,
          3.8879621028900146,
          -5.520517349243164,
          -4.454512119293213,
          7.300718784332275,
          5.343690872192383,
          -6.837722301483154,
          -4.65855598449707,
          -9.755824089050293,
          -10.14438247680664,
          -1.742470145225525,
          -2.4330437183380127,
          -9.553153038024902,
          -10.464118957519531,
          -10.239079475402832,
          5.027528762817383,
          6.8142781257629395,
          7.183423042297363,
          -6.039071559906006,
          -5.351207256317139,
          6.946093559265137,
          6.297052383422852,
          5.661682605743408,
          5.129431247711182,
          -4.536811828613281,
          -3.3140504360198975,
          -3.6063714027404785,
          -2.0751898288726807,
          6.9175286293029785,
          6.696672439575195,
          5.775699138641357
         ],
         "z": [
          4.579589366912842,
          -4.95018196105957,
          9.375201225280762,
          -6.7405195236206055,
          -1.0135613679885864,
          -5.870694160461426,
          -6.9604339599609375,
          1.1525534391403198,
          1.1397422552108765,
          6.312763690948486,
          0.07233487069606781,
          2.1164767742156982,
          4.512521266937256,
          -3.401094913482666,
          3.09456205368042,
          2.298966884613037,
          8.634810447692871,
          -5.651440620422363,
          -4.696907043457031,
          -1.7376458644866943,
          2.360079526901245,
          -4.277206897735596,
          -6.295708656311035,
          -6.421136379241943,
          4.16911506652832,
          -1.2183130979537964,
          -3.2812891006469727,
          -0.8588948249816895,
          -5.258547782897949,
          5.218427658081055,
          2.4865176677703857,
          4.766529560089111,
          2.5139214992523193,
          3.583892345428467,
          3.1510982513427734,
          -5.382755279541016,
          -2.6733930110931396,
          -4.401070594787598,
          5.6009721755981445,
          2.2478370666503906,
          1.4094934463500977,
          2.7430002689361572,
          1.2179961204528809,
          -6.105588912963867,
          -2.752384901046753,
          2.532175302505493,
          -2.43880558013916,
          1.5410500764846802,
          -1.1774636507034302,
          -2.919725179672241,
          2.3146979808807373,
          3.0715672969818115,
          2.4619858264923096,
          -6.488470554351807,
          2.8803629875183105,
          0.3999815583229065,
          -2.1802549362182617,
          1.4969079494476318,
          -0.12680691480636597,
          -1.927226185798645,
          2.7611865997314453,
          -4.738208770751953,
          6.308572769165039,
          1.2409758567810059,
          -2.976956367492676,
          7.819728374481201,
          3.092897891998291,
          -1.8932141065597534,
          6.561257839202881,
          -2.028078556060791,
          -3.143606185913086,
          -2.700620651245117,
          -2.1629068851470947,
          1.2080856561660767,
          1.8727461099624634,
          1.4221010208129883,
          3.939690589904785,
          -2.0196046829223633,
          -2.552809476852417,
          4.165273189544678,
          1.6796905994415283,
          1.012636423110962,
          1.9961636066436768,
          -2.9935429096221924,
          4.444243907928467,
          3.447544813156128,
          -2.54268217086792,
          4.708870887756348,
          2.0649569034576416,
          1.0246312618255615,
          0.8527359962463379,
          -4.814554691314697,
          5.567479133605957,
          -4.137740612030029,
          3.550381660461426,
          0.08701448887586594,
          -4.785854339599609,
          6.570903778076172,
          -2.299175977706909,
          -1.5966014862060547,
          -4.2494330406188965,
          6.257522106170654,
          -1.2600328922271729,
          -2.6615991592407227,
          4.348526477813721,
          2.673243999481201,
          2.4514927864074707,
          -4.8233184814453125,
          3.003170967102051,
          5.849682331085205,
          -4.056141376495361,
          -4.394216060638428,
          -5.015491485595703,
          -3.9730043411254883,
          -2.5690221786499023,
          0.5252357125282288,
          -4.830255031585693,
          3.5843892097473145,
          2.592019557952881,
          0.5961803197860718,
          -2.653377056121826,
          -2.464806318283081,
          7.371464729309082,
          4.769018173217773,
          0.13104252517223358,
          -2.9770383834838867,
          -4.4192023277282715,
          -5.94713020324707,
          3.420064926147461,
          4.612804412841797,
          5.931241989135742,
          -3.839818239212036,
          -5.154744625091553,
          -3.3973071575164795,
          4.221526622772217,
          3.5750062465667725,
          -1.539772629737854,
          -4.458244800567627,
          4.228801250457764,
          1.3852216005325317,
          2.712658166885376,
          4.496557235717773,
          -4.4571943283081055,
          -5.352572441101074,
          -3.4875741004943848,
          0.09024270623922348,
          -5.526324272155762,
          1.355455756187439,
          -1.6208481788635254,
          -1.1641066074371338,
          4.383506774902344,
          4.341578960418701,
          1.8200350999832153,
          -5.520978927612305,
          -1.9364819526672363,
          -1.7621742486953735,
          -1.8302350044250488,
          -1.0787887573242188,
          -2.584848165512085,
          0.9550677537918091,
          -0.6548274755477905,
          -2.530466079711914,
          -1.7593308687210083,
          -1.273711085319519,
          4.410693645477295,
          6.460331439971924,
          -4.099658489227295,
          0.5040709376335144,
          -3.5508832931518555,
          -4.0129523277282715,
          9.189475059509277,
          10.661229133605957,
          10.126241683959961,
          -1.9256266355514526,
          9.0914306640625,
          8.716255187988281,
          0.06827136874198914,
          -2.621474027633667,
          -1.945838451385498,
          9.903339385986328,
          1.7595499753952026,
          0.6658062934875488,
          0.7643082737922668,
          -2.4847962856292725,
          -0.807107150554657,
          0.6368600726127625,
          -0.22395573556423187,
          0.8264082074165344,
          10.202795028686523,
          -3.3262155055999756,
          -2.730281114578247,
          -0.750886857509613,
          8.005176544189453,
          9.018119812011719,
          -0.4157932996749878,
          -3.750241279602051,
          2.3806121349334717,
          3.2648494243621826,
          3.0230307579040527,
          -5.439197540283203,
          -5.37706995010376,
          -4.795909404754639,
          -5.471279144287109,
          -4.593728065490723,
          6.5760087966918945,
          6.266512393951416,
          7.293823719024658,
          6.830989360809326,
          7.194558620452881,
          8.160987854003906,
          7.681380748748779,
          -5.723383903503418,
          -6.243988513946533,
          -5.250296592712402,
          -7.2110419273376465,
          -6.112891674041748,
          -6.912721157073975,
          -1.078212022781372,
          -0.8184453248977661,
          -1.6445194482803345,
          -0.33644092082977295,
          -5.054801940917969,
          -3.0763003826141357,
          -2.3293371200561523,
          -1.7920902967453003,
          -3.4015793800354004,
          -3.924586296081543,
          -2.585650682449341,
          0.12251698225736618,
          0.2303180992603302,
          -0.11088880151510239,
          0.13205625116825104,
          4.519286155700684,
          6.591689109802246,
          2.200934410095215,
          2.252321243286133,
          2.15198016166687,
          1.8402420282363892,
          -1.6019119024276733,
          -0.8119774460792542,
          5.45107364654541,
          4.351719856262207,
          5.8586859703063965,
          7.18690299987793,
          7.909043788909912,
          6.631723880767822,
          6.600056171417236,
          2.558922529220581,
          -4.135931491851807,
          -5.582503795623779,
          -3.8185718059539795,
          -3.562101364135742,
          -2.3857431411743164,
          -0.8724067211151123,
          -1.1346198320388794,
          0.6968629360198975,
          -1.648019552230835,
          -0.6975184679031372,
          -0.6795039176940918,
          -0.779691219329834,
          -0.6545824408531189,
          -5.314497470855713,
          -5.401683807373047,
          -5.908023357391357,
          -5.734245777130127,
          -1.8338823318481445,
          -0.9462500214576721,
          -1.1858530044555664,
          -2.0399997234344482,
          -1.1581772565841675,
          -2.495368003845215,
          7.012017726898193,
          8.010417938232422,
          6.741940975189209,
          6.574090480804443,
          8.160033226013184,
          -0.3424239456653595,
          -3.3956243991851807,
          0.9233156442642212,
          -0.6818897128105164,
          -0.6222891807556152,
          6.983704566955566,
          6.619179725646973,
          -1.8713102340698242,
          -2.5797224044799805,
          -3.2875051498413086,
          -2.473764657974243,
          -2.877756118774414,
          -2.3479349613189697,
          -4.489662170410156,
          3.960529327392578,
          7.584070205688477,
          8.370810508728027,
          4.01792049407959,
          -4.664618968963623,
          -5.257469177246094,
          -4.939328193664551,
          -4.578986167907715,
          -4.34651517868042,
          -4.050800800323486,
          -2.269007921218872,
          -3.795321226119995,
          -0.10681002587080002,
          6.136826515197754,
          3.7543067932128906,
          -0.03393998742103577,
          -0.3295813202857971,
          -0.6178275346755981,
          3.978496789932251,
          3.759355306625366,
          6.682487964630127,
          -4.863675594329834,
          -4.320892810821533,
          -5.70760440826416,
          -5.257841110229492,
          -4.589263916015625,
          5.483420372009277,
          5.889530181884766,
          7.178099632263184,
          6.34099817276001,
          -1.361385464668274,
          0.8030314445495605,
          4.770096778869629,
          4.952013969421387,
          -1.4764548540115356,
          -4.997823238372803,
          -5.647481441497803,
          1.3171290159225464,
          4.889956474304199,
          4.938692569732666,
          -0.33071473240852356,
          -1.021279215812683,
          -6.998968124389648,
          -7.0849738121032715,
          6.051020622253418,
          7.098879814147949,
          -6.553378105163574,
          -6.387899875640869,
          -5.869816780090332,
          6.636148452758789,
          -5.0967936515808105,
          -6.0439372062683105,
          -3.274183988571167,
          -2.135877847671509,
          -1.0261943340301514,
          -3.1319689750671387,
          -1.9665048122406006,
          -3.305610179901123,
          -2.0281829833984375,
          5.5746870040893555,
          4.581813812255859,
          5.160953998565674,
          -5.332627296447754,
          -5.792813301086426,
          3.884702444076538,
          3.260920524597168,
          5.044998645782471,
          6.904477119445801,
          -1.9716012477874756,
          -1.6171644926071167,
          0.6124393343925476,
          -2.090566396713257,
          -6.82070255279541,
          -6.156758785247803,
          7.2715959548950195
         ]
        }
       ],
       "layout": {
        "coloraxis": {
         "colorbar": {
          "title": {
           "text": "Y"
          }
         },
         "colorscale": [
          [
           0,
           "#0d0887"
          ],
          [
           0.1111111111111111,
           "#46039f"
          ],
          [
           0.2222222222222222,
           "#7201a8"
          ],
          [
           0.3333333333333333,
           "#9c179e"
          ],
          [
           0.4444444444444444,
           "#bd3786"
          ],
          [
           0.5555555555555556,
           "#d8576b"
          ],
          [
           0.6666666666666666,
           "#ed7953"
          ],
          [
           0.7777777777777778,
           "#fb9f3a"
          ],
          [
           0.8888888888888888,
           "#fdca26"
          ],
          [
           1,
           "#f0f921"
          ]
         ]
        },
        "legend": {
         "tracegroupgap": 0
        },
        "margin": {
         "t": 60
        },
        "scene": {
         "domain": {
          "x": [
           0,
           1
          ],
          "y": [
           0,
           1
          ]
         },
         "xaxis": {
          "title": {
           "text": "comp1"
          }
         },
         "yaxis": {
          "title": {
           "text": "comp2"
          }
         },
         "zaxis": {
          "title": {
           "text": "comp3"
          }
         }
        },
        "template": {
         "data": {
          "bar": [
           {
            "error_x": {
             "color": "#2a3f5f"
            },
            "error_y": {
             "color": "#2a3f5f"
            },
            "marker": {
             "line": {
              "color": "#E5ECF6",
              "width": 0.5
             }
            },
            "type": "bar"
           }
          ],
          "barpolar": [
           {
            "marker": {
             "line": {
              "color": "#E5ECF6",
              "width": 0.5
             }
            },
            "type": "barpolar"
           }
          ],
          "carpet": [
           {
            "aaxis": {
             "endlinecolor": "#2a3f5f",
             "gridcolor": "white",
             "linecolor": "white",
             "minorgridcolor": "white",
             "startlinecolor": "#2a3f5f"
            },
            "baxis": {
             "endlinecolor": "#2a3f5f",
             "gridcolor": "white",
             "linecolor": "white",
             "minorgridcolor": "white",
             "startlinecolor": "#2a3f5f"
            },
            "type": "carpet"
           }
          ],
          "choropleth": [
           {
            "colorbar": {
             "outlinewidth": 0,
             "ticks": ""
            },
            "type": "choropleth"
           }
          ],
          "contour": [
           {
            "colorbar": {
             "outlinewidth": 0,
             "ticks": ""
            },
            "colorscale": [
             [
              0,
              "#0d0887"
             ],
             [
              0.1111111111111111,
              "#46039f"
             ],
             [
              0.2222222222222222,
              "#7201a8"
             ],
             [
              0.3333333333333333,
              "#9c179e"
             ],
             [
              0.4444444444444444,
              "#bd3786"
             ],
             [
              0.5555555555555556,
              "#d8576b"
             ],
             [
              0.6666666666666666,
              "#ed7953"
             ],
             [
              0.7777777777777778,
              "#fb9f3a"
             ],
             [
              0.8888888888888888,
              "#fdca26"
             ],
             [
              1,
              "#f0f921"
             ]
            ],
            "type": "contour"
           }
          ],
          "contourcarpet": [
           {
            "colorbar": {
             "outlinewidth": 0,
             "ticks": ""
            },
            "type": "contourcarpet"
           }
          ],
          "heatmap": [
           {
            "colorbar": {
             "outlinewidth": 0,
             "ticks": ""
            },
            "colorscale": [
             [
              0,
              "#0d0887"
             ],
             [
              0.1111111111111111,
              "#46039f"
             ],
             [
              0.2222222222222222,
              "#7201a8"
             ],
             [
              0.3333333333333333,
              "#9c179e"
             ],
             [
              0.4444444444444444,
              "#bd3786"
             ],
             [
              0.5555555555555556,
              "#d8576b"
             ],
             [
              0.6666666666666666,
              "#ed7953"
             ],
             [
              0.7777777777777778,
              "#fb9f3a"
             ],
             [
              0.8888888888888888,
              "#fdca26"
             ],
             [
              1,
              "#f0f921"
             ]
            ],
            "type": "heatmap"
           }
          ],
          "heatmapgl": [
           {
            "colorbar": {
             "outlinewidth": 0,
             "ticks": ""
            },
            "colorscale": [
             [
              0,
              "#0d0887"
             ],
             [
              0.1111111111111111,
              "#46039f"
             ],
             [
              0.2222222222222222,
              "#7201a8"
             ],
             [
              0.3333333333333333,
              "#9c179e"
             ],
             [
              0.4444444444444444,
              "#bd3786"
             ],
             [
              0.5555555555555556,
              "#d8576b"
             ],
             [
              0.6666666666666666,
              "#ed7953"
             ],
             [
              0.7777777777777778,
              "#fb9f3a"
             ],
             [
              0.8888888888888888,
              "#fdca26"
             ],
             [
              1,
              "#f0f921"
             ]
            ],
            "type": "heatmapgl"
           }
          ],
          "histogram": [
           {
            "marker": {
             "colorbar": {
              "outlinewidth": 0,
              "ticks": ""
             }
            },
            "type": "histogram"
           }
          ],
          "histogram2d": [
           {
            "colorbar": {
             "outlinewidth": 0,
             "ticks": ""
            },
            "colorscale": [
             [
              0,
              "#0d0887"
             ],
             [
              0.1111111111111111,
              "#46039f"
             ],
             [
              0.2222222222222222,
              "#7201a8"
             ],
             [
              0.3333333333333333,
              "#9c179e"
             ],
             [
              0.4444444444444444,
              "#bd3786"
             ],
             [
              0.5555555555555556,
              "#d8576b"
             ],
             [
              0.6666666666666666,
              "#ed7953"
             ],
             [
              0.7777777777777778,
              "#fb9f3a"
             ],
             [
              0.8888888888888888,
              "#fdca26"
             ],
             [
              1,
              "#f0f921"
             ]
            ],
            "type": "histogram2d"
           }
          ],
          "histogram2dcontour": [
           {
            "colorbar": {
             "outlinewidth": 0,
             "ticks": ""
            },
            "colorscale": [
             [
              0,
              "#0d0887"
             ],
             [
              0.1111111111111111,
              "#46039f"
             ],
             [
              0.2222222222222222,
              "#7201a8"
             ],
             [
              0.3333333333333333,
              "#9c179e"
             ],
             [
              0.4444444444444444,
              "#bd3786"
             ],
             [
              0.5555555555555556,
              "#d8576b"
             ],
             [
              0.6666666666666666,
              "#ed7953"
             ],
             [
              0.7777777777777778,
              "#fb9f3a"
             ],
             [
              0.8888888888888888,
              "#fdca26"
             ],
             [
              1,
              "#f0f921"
             ]
            ],
            "type": "histogram2dcontour"
           }
          ],
          "mesh3d": [
           {
            "colorbar": {
             "outlinewidth": 0,
             "ticks": ""
            },
            "type": "mesh3d"
           }
          ],
          "parcoords": [
           {
            "line": {
             "colorbar": {
              "outlinewidth": 0,
              "ticks": ""
             }
            },
            "type": "parcoords"
           }
          ],
          "pie": [
           {
            "automargin": true,
            "type": "pie"
           }
          ],
          "scatter": [
           {
            "marker": {
             "colorbar": {
              "outlinewidth": 0,
              "ticks": ""
             }
            },
            "type": "scatter"
           }
          ],
          "scatter3d": [
           {
            "line": {
             "colorbar": {
              "outlinewidth": 0,
              "ticks": ""
             }
            },
            "marker": {
             "colorbar": {
              "outlinewidth": 0,
              "ticks": ""
             }
            },
            "type": "scatter3d"
           }
          ],
          "scattercarpet": [
           {
            "marker": {
             "colorbar": {
              "outlinewidth": 0,
              "ticks": ""
             }
            },
            "type": "scattercarpet"
           }
          ],
          "scattergeo": [
           {
            "marker": {
             "colorbar": {
              "outlinewidth": 0,
              "ticks": ""
             }
            },
            "type": "scattergeo"
           }
          ],
          "scattergl": [
           {
            "marker": {
             "colorbar": {
              "outlinewidth": 0,
              "ticks": ""
             }
            },
            "type": "scattergl"
           }
          ],
          "scattermapbox": [
           {
            "marker": {
             "colorbar": {
              "outlinewidth": 0,
              "ticks": ""
             }
            },
            "type": "scattermapbox"
           }
          ],
          "scatterpolar": [
           {
            "marker": {
             "colorbar": {
              "outlinewidth": 0,
              "ticks": ""
             }
            },
            "type": "scatterpolar"
           }
          ],
          "scatterpolargl": [
           {
            "marker": {
             "colorbar": {
              "outlinewidth": 0,
              "ticks": ""
             }
            },
            "type": "scatterpolargl"
           }
          ],
          "scatterternary": [
           {
            "marker": {
             "colorbar": {
              "outlinewidth": 0,
              "ticks": ""
             }
            },
            "type": "scatterternary"
           }
          ],
          "surface": [
           {
            "colorbar": {
             "outlinewidth": 0,
             "ticks": ""
            },
            "colorscale": [
             [
              0,
              "#0d0887"
             ],
             [
              0.1111111111111111,
              "#46039f"
             ],
             [
              0.2222222222222222,
              "#7201a8"
             ],
             [
              0.3333333333333333,
              "#9c179e"
             ],
             [
              0.4444444444444444,
              "#bd3786"
             ],
             [
              0.5555555555555556,
              "#d8576b"
             ],
             [
              0.6666666666666666,
              "#ed7953"
             ],
             [
              0.7777777777777778,
              "#fb9f3a"
             ],
             [
              0.8888888888888888,
              "#fdca26"
             ],
             [
              1,
              "#f0f921"
             ]
            ],
            "type": "surface"
           }
          ],
          "table": [
           {
            "cells": {
             "fill": {
              "color": "#EBF0F8"
             },
             "line": {
              "color": "white"
             }
            },
            "header": {
             "fill": {
              "color": "#C8D4E3"
             },
             "line": {
              "color": "white"
             }
            },
            "type": "table"
           }
          ]
         },
         "layout": {
          "annotationdefaults": {
           "arrowcolor": "#2a3f5f",
           "arrowhead": 0,
           "arrowwidth": 1
          },
          "coloraxis": {
           "colorbar": {
            "outlinewidth": 0,
            "ticks": ""
           }
          },
          "colorscale": {
           "diverging": [
            [
             0,
             "#8e0152"
            ],
            [
             0.1,
             "#c51b7d"
            ],
            [
             0.2,
             "#de77ae"
            ],
            [
             0.3,
             "#f1b6da"
            ],
            [
             0.4,
             "#fde0ef"
            ],
            [
             0.5,
             "#f7f7f7"
            ],
            [
             0.6,
             "#e6f5d0"
            ],
            [
             0.7,
             "#b8e186"
            ],
            [
             0.8,
             "#7fbc41"
            ],
            [
             0.9,
             "#4d9221"
            ],
            [
             1,
             "#276419"
            ]
           ],
           "sequential": [
            [
             0,
             "#0d0887"
            ],
            [
             0.1111111111111111,
             "#46039f"
            ],
            [
             0.2222222222222222,
             "#7201a8"
            ],
            [
             0.3333333333333333,
             "#9c179e"
            ],
            [
             0.4444444444444444,
             "#bd3786"
            ],
            [
             0.5555555555555556,
             "#d8576b"
            ],
            [
             0.6666666666666666,
             "#ed7953"
            ],
            [
             0.7777777777777778,
             "#fb9f3a"
            ],
            [
             0.8888888888888888,
             "#fdca26"
            ],
            [
             1,
             "#f0f921"
            ]
           ],
           "sequentialminus": [
            [
             0,
             "#0d0887"
            ],
            [
             0.1111111111111111,
             "#46039f"
            ],
            [
             0.2222222222222222,
             "#7201a8"
            ],
            [
             0.3333333333333333,
             "#9c179e"
            ],
            [
             0.4444444444444444,
             "#bd3786"
            ],
            [
             0.5555555555555556,
             "#d8576b"
            ],
            [
             0.6666666666666666,
             "#ed7953"
            ],
            [
             0.7777777777777778,
             "#fb9f3a"
            ],
            [
             0.8888888888888888,
             "#fdca26"
            ],
            [
             1,
             "#f0f921"
            ]
           ]
          },
          "colorway": [
           "#636efa",
           "#EF553B",
           "#00cc96",
           "#ab63fa",
           "#FFA15A",
           "#19d3f3",
           "#FF6692",
           "#B6E880",
           "#FF97FF",
           "#FECB52"
          ],
          "font": {
           "color": "#2a3f5f"
          },
          "geo": {
           "bgcolor": "white",
           "lakecolor": "white",
           "landcolor": "#E5ECF6",
           "showlakes": true,
           "showland": true,
           "subunitcolor": "white"
          },
          "hoverlabel": {
           "align": "left"
          },
          "hovermode": "closest",
          "mapbox": {
           "style": "light"
          },
          "paper_bgcolor": "white",
          "plot_bgcolor": "#E5ECF6",
          "polar": {
           "angularaxis": {
            "gridcolor": "white",
            "linecolor": "white",
            "ticks": ""
           },
           "bgcolor": "#E5ECF6",
           "radialaxis": {
            "gridcolor": "white",
            "linecolor": "white",
            "ticks": ""
           }
          },
          "scene": {
           "xaxis": {
            "backgroundcolor": "#E5ECF6",
            "gridcolor": "white",
            "gridwidth": 2,
            "linecolor": "white",
            "showbackground": true,
            "ticks": "",
            "zerolinecolor": "white"
           },
           "yaxis": {
            "backgroundcolor": "#E5ECF6",
            "gridcolor": "white",
            "gridwidth": 2,
            "linecolor": "white",
            "showbackground": true,
            "ticks": "",
            "zerolinecolor": "white"
           },
           "zaxis": {
            "backgroundcolor": "#E5ECF6",
            "gridcolor": "white",
            "gridwidth": 2,
            "linecolor": "white",
            "showbackground": true,
            "ticks": "",
            "zerolinecolor": "white"
           }
          },
          "shapedefaults": {
           "line": {
            "color": "#2a3f5f"
           }
          },
          "ternary": {
           "aaxis": {
            "gridcolor": "white",
            "linecolor": "white",
            "ticks": ""
           },
           "baxis": {
            "gridcolor": "white",
            "linecolor": "white",
            "ticks": ""
           },
           "bgcolor": "#E5ECF6",
           "caxis": {
            "gridcolor": "white",
            "linecolor": "white",
            "ticks": ""
           }
          },
          "title": {
           "x": 0.05
          },
          "xaxis": {
           "automargin": true,
           "gridcolor": "white",
           "linecolor": "white",
           "ticks": "",
           "title": {
            "standoff": 15
           },
           "zerolinecolor": "white",
           "zerolinewidth": 2
          },
          "yaxis": {
           "automargin": true,
           "gridcolor": "white",
           "linecolor": "white",
           "ticks": "",
           "title": {
            "standoff": 15
           },
           "zerolinecolor": "white",
           "zerolinewidth": 2
          }
         }
        }
       }
      },
      "text/html": [
       "<div>\n",
       "        \n",
       "        \n",
       "            <div id=\"4b8f2d12-4707-4ba7-96d4-5fce666813e6\" class=\"plotly-graph-div\" style=\"height:525px; width:100%;\"></div>\n",
       "            <script type=\"text/javascript\">\n",
       "                require([\"plotly\"], function(Plotly) {\n",
       "                    window.PLOTLYENV=window.PLOTLYENV || {};\n",
       "                    \n",
       "                if (document.getElementById(\"4b8f2d12-4707-4ba7-96d4-5fce666813e6\")) {\n",
       "                    Plotly.newPlot(\n",
       "                        '4b8f2d12-4707-4ba7-96d4-5fce666813e6',\n",
       "                        [{\"hovertemplate\": \"comp1=%{x}<br>comp2=%{y}<br>comp3=%{z}<br>Y=%{marker.color}<extra></extra>\", \"legendgroup\": \"\", \"marker\": {\"color\": [0, 2, 0, 2, 1, 4, 2, 3, 3, 0, 1, 1, 0, 2, 3, 1, 0, 2, 4, 5, 1, 4, 2, 4, 0, 5, 4, 1, 2, 0, 1, 0, 0, 3, 1, 2, 1, 2, 0, 1, 3, 0, 1, 4, 2, 3, 5, 1, 2, 2, 3, 0, 0, 4, 0, 1, 2, 3, 1, 5, 0, 4, 0, 1, 2, 0, 3, 4, 0, 1, 5, 2, 4, 3, 1, 1, 0, 2, 4, 0, 1, 1, 1, 4, 0, 0, 2, 0, 3, 1, 1, 4, 0, 2, 3, 1, 4, 0, 5, 1, 4, 0, 1, 1, 0, 3, 0, 2, 0, 0, 2, 4, 2, 2, 4, 1, 2, 3, 0, 1, 4, 5, 0, 0, 1, 5, 2, 4, 3, 0, 0, 2, 4, 4, 0, 3, 1, 2, 0, 1, 0, 0, 2, 2, 2, 1, 4, 3, 1, 1, 0, 0, 0, 4, 2, 1, 2, 1, 1, 3, 1, 2, 5, 1, 0, 0, 2, 3, 2, 2, 0, 0, 0, 2, 0, 0, 1, 2, 2, 0, 0, 0, 0, 5, 1, 1, 1, 1, 0, 2, 2, 2, 0, 0, 1, 2, 1, 1, 1, 4, 4, 4, 4, 4, 0, 0, 0, 0, 0, 0, 0, 2, 2, 2, 2, 2, 2, 3, 3, 3, 3, 4, 4, 4, 4, 4, 4, 4, 1, 1, 1, 1, 0, 0, 0, 0, 0, 0, 5, 5, 0, 0, 0, 0, 0, 0, 0, 0, 2, 2, 2, 2, 2, 2, 2, 3, 3, 3, 3, 3, 3, 4, 4, 4, 4, 5, 5, 5, 3, 3, 3, 0, 0, 0, 0, 0, 1, 1, 3, 3, 3, 0, 0, 1, 1, 1, 2, 2, 2, 2, 0, 0, 0, 0, 4, 4, 4, 4, 4, 2, 2, 2, 3, 0, 0, 3, 3, 3, 0, 0, 0, 2, 2, 2, 2, 2, 0, 0, 0, 0, 3, 3, 0, 0, 3, 2, 2, 3, 0, 0, 3, 3, 4, 4, 0, 0, 4, 4, 2, 0, 4, 4, 5, 5, 3, 3, 5, 5, 5, 0, 0, 0, 4, 4, 0, 0, 0, 0, 1, 1, 3, 3, 2, 2, 0], \"coloraxis\": \"coloraxis\", \"symbol\": \"circle\"}, \"mode\": \"markers\", \"name\": \"\", \"scene\": \"scene\", \"showlegend\": false, \"type\": \"scatter3d\", \"x\": [-4.445040702819824, 9.702360153198242, -7.512547016143799, 11.128432273864746, -3.9409337043762207, 4.060914516448975, 11.410074234008789, 2.3115150928497314, 0.007990790531039238, -5.414873123168945, -2.0228543281555176, -3.2310898303985596, -6.4727463722229, 12.137028694152832, 3.0395445823669434, -2.2519466876983643, -9.64340877532959, 7.922035217285156, 4.4629621505737305, -1.3210467100143433, -2.8839266300201416, 2.99114727973938, 7.448269844055176, 4.331634521484375, -7.916079998016357, -2.2533695697784424, 3.07014536857605, -1.9791980981826782, 7.727176666259766, -10.360641479492188, -2.9205920696258545, -7.861962795257568, -6.341598033905029, 3.407830238342285, -1.9074102640151978, 10.412734985351562, -2.4552321434020996, 8.2057466506958, -5.365908622741699, 0.5253965854644775, 0.7747373580932617, -5.797610282897949, 0.38353583216667175, 2.3739659786224365, 8.235756874084473, 2.535583019256592, -1.1117987632751465, 2.476560115814209, 8.658133506774902, 7.95111083984375, 4.162598609924316, -5.67927885055542, -7.802937030792236, 3.431316375732422, -7.630797863006592, 0.423666775226593, 9.768012046813965, 1.8505542278289795, -3.67962646484375, -2.0968711376190186, -7.039687633514404, 5.458553314208984, -5.426388740539551, -2.2129716873168945, 11.395246505737305, -9.81778335571289, 3.038540840148926, 4.886150360107422, -6.1162004470825195, -0.18155255913734436, -3.62821364402771, 7.039287090301514, 3.7314047813415527, 3.467656135559082, -2.778438091278076, -4.157576560974121, -1.2349746227264404, 6.460517883300781, 4.35967493057251, -2.0650720596313477, -4.089741230010986, -1.8305959701538086, -2.372727394104004, 5.011752128601074, -1.9087495803833008, -2.3774795532226562, 7.302053928375244, -5.237179756164551, 3.471729040145874, -3.6829748153686523, 0.20065522193908691, 3.7087349891662598, -7.490293979644775, 7.88189697265625, 2.50648832321167, -1.682897686958313, 5.844272136688232, -5.46257209777832, -2.233635425567627, -2.5198566913604736, 6.164658069610596, -2.263486862182617, -3.3876781463623047, -2.8316166400909424, -5.157519817352295, 1.8184149265289307, -5.746610641479492, 9.824993133544922, -6.618422031402588, -7.255145072937012, 8.395180702209473, 5.948809623718262, 10.577913284301758, 7.7627434730529785, 5.149483680725098, -2.1537036895751953, 11.771760940551758, 1.3577854633331299, -4.800517559051514, -2.2723097801208496, 5.104360580444336, -2.990567445755005, -5.614832401275635, -3.7857632637023926, -2.8645153045654297, -3.0054430961608887, 7.6498212814331055, 5.638341426849365, 2.6742124557495117, -5.325432300567627, -2.2356386184692383, 10.415675163269043, 2.5897340774536133, 1.1037172079086304, -5.2133331298828125, 1.0834087133407593, -3.7149200439453125, 10.39242172241211, -2.163111925125122, 2.750739097595215, -2.998396873474121, -2.961731195449829, 7.853435039520264, 8.602797508239746, 11.227494239807129, -3.2736399173736572, 5.36470365524292, 0.7251580953598022, -1.2689558267593384, -0.36350247263908386, -4.236218452453613, -4.166204452514648, -5.021425247192383, 6.332164764404297, 9.069493293762207, -1.4508252143859863, 11.566947937011719, -0.16873061656951904, 0.6136088371276855, 1.5219752788543701, 1.3224143981933594, 11.201798439025879, -2.880141019821167, -2.7796108722686768, -4.451463222503662, -6.38035774230957, 11.926932334899902, 2.514880657196045, 10.15124225616455, 9.532812118530273, -6.327959060668945, -6.084526538848877, -5.83601713180542, 10.898003578186035, -6.855230808258057, -6.675307750701904, -2.30385160446167, 11.8296480178833, 11.113445281982422, -4.913133144378662, -4.663694381713867, -4.812738418579102, -4.8397135734558105, -3.978212356567383, -1.7149109840393066, -2.7961106300354004, -2.4167239665985107, -3.2311415672302246, -5.792933940887451, 9.301413536071777, 12.554704666137695, 10.268733978271484, -7.521005153656006, -7.7239813804626465, -2.3199002742767334, 11.121789932250977, -2.3956170082092285, -1.9220927953720093, -2.1034796237945557, 2.7402944564819336, 1.0496842861175537, 2.4956295490264893, 1.1055749654769897, 1.5081785917282104, -4.39227294921875, -4.281271934509277, -3.8351006507873535, -4.847154140472412, -4.9465227127075195, -5.300086498260498, -5.165962219238281, 10.771599769592285, 10.338385581970215, 11.188560485839844, 10.385457038879395, 11.31410026550293, 10.63192367553711, 3.2550690174102783, 1.4133527278900146, 2.3493690490722656, 3.0509629249572754, 4.261033058166504, 6.0847601890563965, 5.937013626098633, 4.830533981323242, 4.485121726989746, 4.956002712249756, 5.544007778167725, -3.0980148315429688, -5.200995922088623, -5.61176061630249, -5.406100273132324, -6.35487174987793, -2.854046583175659, -7.9989752769470215, -9.091599464416504, -8.299205780029297, -8.26456069946289, -3.906205654144287, -4.174441814422607, -8.926233291625977, -7.267699718475342, -9.939142227172852, -9.500722885131836, -10.27818489074707, -9.481813430786133, -9.239730834960938, -4.517912864685059, 8.709338188171387, 10.26516056060791, 9.63977336883545, 9.765271186828613, 10.040582656860352, 10.461530685424805, 10.453648567199707, 1.2563283443450928, -1.2689427137374878, 0.005623661447316408, 0.043189361691474915, 0.03546035289764404, -1.3179558515548706, 3.8540709018707275, 4.864021301269531, 4.114856243133545, 3.846623420715332, -2.7564570903778076, -3.0439038276672363, -2.345475673675537, 0.3046434819698334, 2.2096729278564453, 1.7343817949295044, -6.441600322723389, -8.742045402526855, -7.535998344421387, -8.1390380859375, -7.576876163482666, -1.344725251197815, -0.6137216687202454, 1.6554454565048218, 2.7963614463806152, -0.72052001953125, -6.93945837020874, -9.150837898254395, 0.02701500803232193, 0.2987445294857025, 1.0374033451080322, 9.03719425201416, 9.139320373535156, 9.54250431060791, 10.178383827209473, -7.497171401977539, -9.206733703613281, -8.21413516998291, -9.907768249511719, 4.378718376159668, 3.6110215187072754, 7.3143205642700195, 4.5093302726745605, 3.4388489723205566, 10.839749336242676, 9.235495567321777, 10.675150871276855, 0.9248368740081787, -10.63570499420166, -6.673847198486328, 2.38030743598938, 1.4595340490341187, 1.7051842212677002, -8.267696380615234, -9.105470657348633, -8.338964462280273, 8.87890625, 8.555492401123047, 9.159704208374023, 7.54505729675293, 9.043961524963379, -8.211286544799805, -8.112256050109863, -10.612723350524902, -7.742353439331055, 2.1332077980041504, 0.39551934599876404, -6.182353973388672, -6.648278713226318, 2.1476645469665527, 8.860437393188477, 9.023880958557129, -0.3554935157299042, -7.343825340270996, -9.170234680175781, 2.432354688644409, 1.7371389865875244, 4.33232307434082, 4.740070819854736, -9.944236755371094, -7.885612964630127, 3.275886297225952, 3.2889041900634766, 8.628737449645996, -9.088663101196289, 4.684187412261963, 4.732641696929932, -3.7208993434906006, -4.078355312347412, 1.3003638982772827, -0.06776250898838043, -3.875744581222534, -4.133893013000488, -3.935804843902588, -9.107763290405273, -9.210915565490723, -9.94938850402832, 4.910182476043701, 5.016933917999268, -9.84486198425293, -10.037469863891602, -6.9276556968688965, -9.532565116882324, -1.095954418182373, -1.4768375158309937, 1.485258936882019, 2.317544937133789, 7.8001017570495605, 9.09792423248291, -10.483990669250488], \"y\": [3.144458532333374, 9.47005558013916, 6.157598972320557, 7.9505438804626465, -1.1215721368789673, -6.29721736907959, 5.8950419425964355, -1.9333090782165527, -0.7383533120155334, 4.252251625061035, -5.110471248626709, -3.7435555458068848, 3.712219476699829, 9.190299987792969, -2.386277914047241, -4.292386531829834, 6.56150484085083, 5.2133402824401855, -9.1473388671875, -11.033835411071777, -0.1952238827943802, -9.53366756439209, 7.955546855926514, -5.22360897064209, 3.1622326374053955, -11.185290336608887, -7.831969261169434, 0.8205693364143372, 9.262612342834473, 5.002115726470947, -4.970189094543457, 8.338958740234375, 2.648714542388916, -0.8877962827682495, -4.606622695922852, 10.414100646972656, -3.457054853439331, 11.06212043762207, 4.5950446128845215, -4.829885482788086, -4.017329692840576, 4.44104528427124, -3.5882034301757812, -7.768953800201416, 8.661296844482422, -0.36465221643447876, -10.52898120880127, -5.742420673370361, 9.29951000213623, 10.001723289489746, -1.458627462387085, 4.989924430847168, 5.3201422691345215, -7.524807453155518, 4.136958599090576, -4.9651641845703125, 10.049568176269531, -4.394087314605713, -5.049331188201904, -9.487403869628906, 2.777949571609497, -7.884778022766113, 4.243923664093018, -4.460702419281006, 9.40224838256836, 5.8059492111206055, -2.3859410285949707, -9.347334861755371, 1.75245201587677, -3.086127519607544, -11.779881477355957, 8.66380500793457, -6.887736797332764, -3.488414764404297, -2.7050726413726807, -1.5695425271987915, 3.1031601428985596, 8.703268051147461, -5.892733573913574, 2.718137741088867, -1.7768415212631226, -2.6637659072875977, -1.6645207405090332, -5.709537506103516, 3.791404962539673, 3.1615548133850098, 7.5906572341918945, 7.7280707359313965, -1.950643539428711, -4.150579929351807, -5.594856262207031, -7.876201152801514, 8.103485107421875, 7.9409661293029785, -1.0437334775924683, -3.2156972885131836, -5.960244178771973, 1.6365103721618652, -10.106762886047363, -2.9472901821136475, -5.72831916809082, 2.8886945247650146, -1.9618642330169678, -1.1968125104904175, 5.064309120178223, -3.2112953662872314, 6.142189025878906, 6.588536739349365, 7.027707576751709, 7.73319149017334, 6.647272109985352, -5.404771327972412, 4.90973424911499, 8.472501754760742, -8.975567817687988, -2.3783366680145264, 5.446227550506592, -2.4968419075012207, 5.53115177154541, -0.6057552695274353, -9.239191055297852, -11.557893753051758, 2.3246114253997803, 4.882801055908203, -1.9193511009216309, -10.78753662109375, 6.595358848571777, -6.870327472686768, -1.1244525909423828, 7.632452011108398, 2.9071407318115234, 4.168931484222412, -4.939336776733398, -3.193967819213867, 7.378210067749023, -2.7198486328125, -1.2892775535583496, 4.167314529418945, 2.6726865768432617, -0.9861310124397278, 2.105329751968384, 5.779969692230225, 11.807870864868164, 9.345523834228516, 6.534405708312988, -4.2702531814575195, -7.662574768066406, -0.2259654700756073, -5.328896522521973, -5.417717933654785, 1.1026407480239868, 0.6435704827308655, 1.3605995178222656, -6.366275310516357, 8.290016174316406, -5.610535144805908, 7.429309368133545, -4.09883975982666, -2.2420945167541504, -0.7157875299453735, -4.356008529663086, 7.973935127258301, -9.514885902404785, -4.579824447631836, 3.369663715362549, 7.068841934204102, 7.361397743225098, -0.22033476829528809, 6.090257167816162, 9.900219917297363, 5.555752277374268, 4.605693817138672, 4.815498352050781, 7.076632022857666, 6.007411479949951, 6.754671573638916, -6.019322872161865, 6.77287483215332, 5.876513957977295, 4.745288848876953, 1.7448433637619019, 2.305514335632324, 2.254688262939453, -11.080419540405273, -4.878141403198242, -5.488374710083008, -6.172421455383301, -6.0179853439331055, 4.779679298400879, 9.094286918640137, 8.091885566711426, 7.860533714294434, 5.882056713104248, 7.004705905914307, -3.2061104774475098, 7.84497594833374, -1.270883560180664, -2.851341724395752, -2.3117823600769043, -6.952846527099609, -7.159745693206787, -6.239689826965332, -7.224243640899658, -6.563109397888184, 5.50507116317749, 6.218635559082031, 5.780257225036621, 6.552188396453857, 6.651261806488037, 6.204259395599365, 6.120064735412598, 8.211193084716797, 7.741936206817627, 6.685000419616699, 7.136732578277588, 6.788826942443848, 6.402987480163574, -2.1768131256103516, -2.198901414871216, -3.259944438934326, -1.4300971031188965, -7.388276100158691, -7.45326042175293, -7.0812530517578125, -6.222468376159668, -7.421536445617676, -7.291506290435791, -6.9887189865112305, -3.189310312271118, -3.665191411972046, -3.2609312534332275, -3.5432510375976562, 2.328760862350464, 3.0162851810455322, 1.8537520170211792, 1.5154536962509155, 1.8325371742248535, 1.4241843223571777, -11.25827407836914, -10.706313133239746, 4.367507457733154, 1.9847602844238281, 5.024686336517334, 6.815675735473633, 4.288613796234131, 6.2124128341674805, 5.980403423309326, 2.2120344638824463, 8.778505325317383, 5.179238796234131, 8.075282096862793, 7.642805099487305, 8.373237609863281, 9.436210632324219, 9.435405731201172, -1.3310908079147339, -1.369325876235962, 1.1592655181884766, -0.7196237444877625, 0.9028170704841614, 0.0533924475312233, -9.537302017211914, -9.272675514221191, -9.367094993591309, -8.777351379394531, -10.266240119934082, -9.850907325744629, -9.956282615661621, -0.9216954112052917, -1.7445950508117676, -0.6959286332130432, 3.6631906032562256, 4.573369979858398, 6.0114874839782715, 4.823139190673828, 5.239837169647217, -0.6099024415016174, -0.27170035243034363, -2.3077878952026367, -0.1765488237142563, -1.6112782955169678, 3.7165868282318115, 3.449211597442627, -1.8146940469741821, -1.1255306005477905, -0.9829832315444946, 8.06151294708252, 5.749415397644043, 7.085916996002197, 6.872758865356445, 4.526220321655273, 3.2131664752960205, 4.1972222328186035, 3.6230270862579346, -5.599846839904785, -5.720639228820801, -6.608025074005127, -4.935520172119141, -6.065954685211182, 8.420843124389648, 6.883213520050049, 9.301621437072754, -1.1681491136550903, 6.3020243644714355, 4.776544570922852, -2.6440584659576416, -0.49852117896080017, -2.8579769134521484, 4.764969825744629, 4.122568607330322, 3.936166286468506, 5.954566955566406, 7.6832594871521, 7.17205286026001, 7.099123954772949, 5.60693883895874, 5.548864364624023, 2.812933921813965, 4.567069053649902, 2.1006202697753906, -0.8191672563552856, -1.8602690696716309, 3.1551547050476074, 1.7315257787704468, -2.9396860599517822, 8.189786911010742, 9.104835510253906, -3.901447057723999, 6.102802276611328, 2.169837236404419, -3.814572811126709, 0.23668716847896576, -6.938600063323975, -6.100446701049805, 3.7879745960235596, 3.8879621028900146, -5.520517349243164, -4.454512119293213, 7.300718784332275, 5.343690872192383, -6.837722301483154, -4.65855598449707, -9.755824089050293, -10.14438247680664, -1.742470145225525, -2.4330437183380127, -9.553153038024902, -10.464118957519531, -10.239079475402832, 5.027528762817383, 6.8142781257629395, 7.183423042297363, -6.039071559906006, -5.351207256317139, 6.946093559265137, 6.297052383422852, 5.661682605743408, 5.129431247711182, -4.536811828613281, -3.3140504360198975, -3.6063714027404785, -2.0751898288726807, 6.9175286293029785, 6.696672439575195, 5.775699138641357], \"z\": [4.579589366912842, -4.95018196105957, 9.375201225280762, -6.7405195236206055, -1.0135613679885864, -5.870694160461426, -6.9604339599609375, 1.1525534391403198, 1.1397422552108765, 6.312763690948486, 0.07233487069606781, 2.1164767742156982, 4.512521266937256, -3.401094913482666, 3.09456205368042, 2.298966884613037, 8.634810447692871, -5.651440620422363, -4.696907043457031, -1.7376458644866943, 2.360079526901245, -4.277206897735596, -6.295708656311035, -6.421136379241943, 4.16911506652832, -1.2183130979537964, -3.2812891006469727, -0.8588948249816895, -5.258547782897949, 5.218427658081055, 2.4865176677703857, 4.766529560089111, 2.5139214992523193, 3.583892345428467, 3.1510982513427734, -5.382755279541016, -2.6733930110931396, -4.401070594787598, 5.6009721755981445, 2.2478370666503906, 1.4094934463500977, 2.7430002689361572, 1.2179961204528809, -6.105588912963867, -2.752384901046753, 2.532175302505493, -2.43880558013916, 1.5410500764846802, -1.1774636507034302, -2.919725179672241, 2.3146979808807373, 3.0715672969818115, 2.4619858264923096, -6.488470554351807, 2.8803629875183105, 0.3999815583229065, -2.1802549362182617, 1.4969079494476318, -0.12680691480636597, -1.927226185798645, 2.7611865997314453, -4.738208770751953, 6.308572769165039, 1.2409758567810059, -2.976956367492676, 7.819728374481201, 3.092897891998291, -1.8932141065597534, 6.561257839202881, -2.028078556060791, -3.143606185913086, -2.700620651245117, -2.1629068851470947, 1.2080856561660767, 1.8727461099624634, 1.4221010208129883, 3.939690589904785, -2.0196046829223633, -2.552809476852417, 4.165273189544678, 1.6796905994415283, 1.012636423110962, 1.9961636066436768, -2.9935429096221924, 4.444243907928467, 3.447544813156128, -2.54268217086792, 4.708870887756348, 2.0649569034576416, 1.0246312618255615, 0.8527359962463379, -4.814554691314697, 5.567479133605957, -4.137740612030029, 3.550381660461426, 0.08701448887586594, -4.785854339599609, 6.570903778076172, -2.299175977706909, -1.5966014862060547, -4.2494330406188965, 6.257522106170654, -1.2600328922271729, -2.6615991592407227, 4.348526477813721, 2.673243999481201, 2.4514927864074707, -4.8233184814453125, 3.003170967102051, 5.849682331085205, -4.056141376495361, -4.394216060638428, -5.015491485595703, -3.9730043411254883, -2.5690221786499023, 0.5252357125282288, -4.830255031585693, 3.5843892097473145, 2.592019557952881, 0.5961803197860718, -2.653377056121826, -2.464806318283081, 7.371464729309082, 4.769018173217773, 0.13104252517223358, -2.9770383834838867, -4.4192023277282715, -5.94713020324707, 3.420064926147461, 4.612804412841797, 5.931241989135742, -3.839818239212036, -5.154744625091553, -3.3973071575164795, 4.221526622772217, 3.5750062465667725, -1.539772629737854, -4.458244800567627, 4.228801250457764, 1.3852216005325317, 2.712658166885376, 4.496557235717773, -4.4571943283081055, -5.352572441101074, -3.4875741004943848, 0.09024270623922348, -5.526324272155762, 1.355455756187439, -1.6208481788635254, -1.1641066074371338, 4.383506774902344, 4.341578960418701, 1.8200350999832153, -5.520978927612305, -1.9364819526672363, -1.7621742486953735, -1.8302350044250488, -1.0787887573242188, -2.584848165512085, 0.9550677537918091, -0.6548274755477905, -2.530466079711914, -1.7593308687210083, -1.273711085319519, 4.410693645477295, 6.460331439971924, -4.099658489227295, 0.5040709376335144, -3.5508832931518555, -4.0129523277282715, 9.189475059509277, 10.661229133605957, 10.126241683959961, -1.9256266355514526, 9.0914306640625, 8.716255187988281, 0.06827136874198914, -2.621474027633667, -1.945838451385498, 9.903339385986328, 1.7595499753952026, 0.6658062934875488, 0.7643082737922668, -2.4847962856292725, -0.807107150554657, 0.6368600726127625, -0.22395573556423187, 0.8264082074165344, 10.202795028686523, -3.3262155055999756, -2.730281114578247, -0.750886857509613, 8.005176544189453, 9.018119812011719, -0.4157932996749878, -3.750241279602051, 2.3806121349334717, 3.2648494243621826, 3.0230307579040527, -5.439197540283203, -5.37706995010376, -4.795909404754639, -5.471279144287109, -4.593728065490723, 6.5760087966918945, 6.266512393951416, 7.293823719024658, 6.830989360809326, 7.194558620452881, 8.160987854003906, 7.681380748748779, -5.723383903503418, -6.243988513946533, -5.250296592712402, -7.2110419273376465, -6.112891674041748, -6.912721157073975, -1.078212022781372, -0.8184453248977661, -1.6445194482803345, -0.33644092082977295, -5.054801940917969, -3.0763003826141357, -2.3293371200561523, -1.7920902967453003, -3.4015793800354004, -3.924586296081543, -2.585650682449341, 0.12251698225736618, 0.2303180992603302, -0.11088880151510239, 0.13205625116825104, 4.519286155700684, 6.591689109802246, 2.200934410095215, 2.252321243286133, 2.15198016166687, 1.8402420282363892, -1.6019119024276733, -0.8119774460792542, 5.45107364654541, 4.351719856262207, 5.8586859703063965, 7.18690299987793, 7.909043788909912, 6.631723880767822, 6.600056171417236, 2.558922529220581, -4.135931491851807, -5.582503795623779, -3.8185718059539795, -3.562101364135742, -2.3857431411743164, -0.8724067211151123, -1.1346198320388794, 0.6968629360198975, -1.648019552230835, -0.6975184679031372, -0.6795039176940918, -0.779691219329834, -0.6545824408531189, -5.314497470855713, -5.401683807373047, -5.908023357391357, -5.734245777130127, -1.8338823318481445, -0.9462500214576721, -1.1858530044555664, -2.0399997234344482, -1.1581772565841675, -2.495368003845215, 7.012017726898193, 8.010417938232422, 6.741940975189209, 6.574090480804443, 8.160033226013184, -0.3424239456653595, -3.3956243991851807, 0.9233156442642212, -0.6818897128105164, -0.6222891807556152, 6.983704566955566, 6.619179725646973, -1.8713102340698242, -2.5797224044799805, -3.2875051498413086, -2.473764657974243, -2.877756118774414, -2.3479349613189697, -4.489662170410156, 3.960529327392578, 7.584070205688477, 8.370810508728027, 4.01792049407959, -4.664618968963623, -5.257469177246094, -4.939328193664551, -4.578986167907715, -4.34651517868042, -4.050800800323486, -2.269007921218872, -3.795321226119995, -0.10681002587080002, 6.136826515197754, 3.7543067932128906, -0.03393998742103577, -0.3295813202857971, -0.6178275346755981, 3.978496789932251, 3.759355306625366, 6.682487964630127, -4.863675594329834, -4.320892810821533, -5.70760440826416, -5.257841110229492, -4.589263916015625, 5.483420372009277, 5.889530181884766, 7.178099632263184, 6.34099817276001, -1.361385464668274, 0.8030314445495605, 4.770096778869629, 4.952013969421387, -1.4764548540115356, -4.997823238372803, -5.647481441497803, 1.3171290159225464, 4.889956474304199, 4.938692569732666, -0.33071473240852356, -1.021279215812683, -6.998968124389648, -7.0849738121032715, 6.051020622253418, 7.098879814147949, -6.553378105163574, -6.387899875640869, -5.869816780090332, 6.636148452758789, -5.0967936515808105, -6.0439372062683105, -3.274183988571167, -2.135877847671509, -1.0261943340301514, -3.1319689750671387, -1.9665048122406006, -3.305610179901123, -2.0281829833984375, 5.5746870040893555, 4.581813812255859, 5.160953998565674, -5.332627296447754, -5.792813301086426, 3.884702444076538, 3.260920524597168, 5.044998645782471, 6.904477119445801, -1.9716012477874756, -1.6171644926071167, 0.6124393343925476, -2.090566396713257, -6.82070255279541, -6.156758785247803, 7.2715959548950195]}],\n",
       "                        {\"coloraxis\": {\"colorbar\": {\"title\": {\"text\": \"Y\"}}, \"colorscale\": [[0.0, \"#0d0887\"], [0.1111111111111111, \"#46039f\"], [0.2222222222222222, \"#7201a8\"], [0.3333333333333333, \"#9c179e\"], [0.4444444444444444, \"#bd3786\"], [0.5555555555555556, \"#d8576b\"], [0.6666666666666666, \"#ed7953\"], [0.7777777777777778, \"#fb9f3a\"], [0.8888888888888888, \"#fdca26\"], [1.0, \"#f0f921\"]]}, \"legend\": {\"tracegroupgap\": 0}, \"margin\": {\"t\": 60}, \"scene\": {\"domain\": {\"x\": [0.0, 1.0], \"y\": [0.0, 1.0]}, \"xaxis\": {\"title\": {\"text\": \"comp1\"}}, \"yaxis\": {\"title\": {\"text\": \"comp2\"}}, \"zaxis\": {\"title\": {\"text\": \"comp3\"}}}, \"template\": {\"data\": {\"bar\": [{\"error_x\": {\"color\": \"#2a3f5f\"}, \"error_y\": {\"color\": \"#2a3f5f\"}, \"marker\": {\"line\": {\"color\": \"#E5ECF6\", \"width\": 0.5}}, \"type\": \"bar\"}], \"barpolar\": [{\"marker\": {\"line\": {\"color\": \"#E5ECF6\", \"width\": 0.5}}, \"type\": \"barpolar\"}], \"carpet\": [{\"aaxis\": {\"endlinecolor\": \"#2a3f5f\", \"gridcolor\": \"white\", \"linecolor\": \"white\", \"minorgridcolor\": \"white\", \"startlinecolor\": \"#2a3f5f\"}, \"baxis\": {\"endlinecolor\": \"#2a3f5f\", \"gridcolor\": \"white\", \"linecolor\": \"white\", \"minorgridcolor\": \"white\", \"startlinecolor\": \"#2a3f5f\"}, \"type\": \"carpet\"}], \"choropleth\": [{\"colorbar\": {\"outlinewidth\": 0, \"ticks\": \"\"}, \"type\": \"choropleth\"}], \"contour\": [{\"colorbar\": {\"outlinewidth\": 0, \"ticks\": \"\"}, \"colorscale\": [[0.0, \"#0d0887\"], [0.1111111111111111, \"#46039f\"], [0.2222222222222222, \"#7201a8\"], [0.3333333333333333, \"#9c179e\"], [0.4444444444444444, \"#bd3786\"], [0.5555555555555556, \"#d8576b\"], [0.6666666666666666, \"#ed7953\"], [0.7777777777777778, \"#fb9f3a\"], [0.8888888888888888, \"#fdca26\"], [1.0, \"#f0f921\"]], \"type\": \"contour\"}], \"contourcarpet\": [{\"colorbar\": {\"outlinewidth\": 0, \"ticks\": \"\"}, \"type\": \"contourcarpet\"}], \"heatmap\": [{\"colorbar\": {\"outlinewidth\": 0, \"ticks\": \"\"}, \"colorscale\": [[0.0, \"#0d0887\"], [0.1111111111111111, \"#46039f\"], [0.2222222222222222, \"#7201a8\"], [0.3333333333333333, \"#9c179e\"], [0.4444444444444444, \"#bd3786\"], [0.5555555555555556, \"#d8576b\"], [0.6666666666666666, \"#ed7953\"], [0.7777777777777778, \"#fb9f3a\"], [0.8888888888888888, \"#fdca26\"], [1.0, \"#f0f921\"]], \"type\": \"heatmap\"}], \"heatmapgl\": [{\"colorbar\": {\"outlinewidth\": 0, \"ticks\": \"\"}, \"colorscale\": [[0.0, \"#0d0887\"], [0.1111111111111111, \"#46039f\"], [0.2222222222222222, \"#7201a8\"], [0.3333333333333333, \"#9c179e\"], [0.4444444444444444, \"#bd3786\"], [0.5555555555555556, \"#d8576b\"], [0.6666666666666666, \"#ed7953\"], [0.7777777777777778, \"#fb9f3a\"], [0.8888888888888888, \"#fdca26\"], [1.0, \"#f0f921\"]], \"type\": \"heatmapgl\"}], \"histogram\": [{\"marker\": {\"colorbar\": {\"outlinewidth\": 0, \"ticks\": \"\"}}, \"type\": \"histogram\"}], \"histogram2d\": [{\"colorbar\": {\"outlinewidth\": 0, \"ticks\": \"\"}, \"colorscale\": [[0.0, \"#0d0887\"], [0.1111111111111111, \"#46039f\"], [0.2222222222222222, \"#7201a8\"], [0.3333333333333333, \"#9c179e\"], [0.4444444444444444, \"#bd3786\"], [0.5555555555555556, \"#d8576b\"], [0.6666666666666666, \"#ed7953\"], [0.7777777777777778, \"#fb9f3a\"], [0.8888888888888888, \"#fdca26\"], [1.0, \"#f0f921\"]], \"type\": \"histogram2d\"}], \"histogram2dcontour\": [{\"colorbar\": {\"outlinewidth\": 0, \"ticks\": \"\"}, \"colorscale\": [[0.0, \"#0d0887\"], [0.1111111111111111, \"#46039f\"], [0.2222222222222222, \"#7201a8\"], [0.3333333333333333, \"#9c179e\"], [0.4444444444444444, \"#bd3786\"], [0.5555555555555556, \"#d8576b\"], [0.6666666666666666, \"#ed7953\"], [0.7777777777777778, \"#fb9f3a\"], [0.8888888888888888, \"#fdca26\"], [1.0, \"#f0f921\"]], \"type\": \"histogram2dcontour\"}], \"mesh3d\": [{\"colorbar\": {\"outlinewidth\": 0, \"ticks\": \"\"}, \"type\": \"mesh3d\"}], \"parcoords\": [{\"line\": {\"colorbar\": {\"outlinewidth\": 0, \"ticks\": \"\"}}, \"type\": \"parcoords\"}], \"pie\": [{\"automargin\": true, \"type\": \"pie\"}], \"scatter\": [{\"marker\": {\"colorbar\": {\"outlinewidth\": 0, \"ticks\": \"\"}}, \"type\": \"scatter\"}], \"scatter3d\": [{\"line\": {\"colorbar\": {\"outlinewidth\": 0, \"ticks\": \"\"}}, \"marker\": {\"colorbar\": {\"outlinewidth\": 0, \"ticks\": \"\"}}, \"type\": \"scatter3d\"}], \"scattercarpet\": [{\"marker\": {\"colorbar\": {\"outlinewidth\": 0, \"ticks\": \"\"}}, \"type\": \"scattercarpet\"}], \"scattergeo\": [{\"marker\": {\"colorbar\": {\"outlinewidth\": 0, \"ticks\": \"\"}}, \"type\": \"scattergeo\"}], \"scattergl\": [{\"marker\": {\"colorbar\": {\"outlinewidth\": 0, \"ticks\": \"\"}}, \"type\": \"scattergl\"}], \"scattermapbox\": [{\"marker\": {\"colorbar\": {\"outlinewidth\": 0, \"ticks\": \"\"}}, \"type\": \"scattermapbox\"}], \"scatterpolar\": [{\"marker\": {\"colorbar\": {\"outlinewidth\": 0, \"ticks\": \"\"}}, \"type\": \"scatterpolar\"}], \"scatterpolargl\": [{\"marker\": {\"colorbar\": {\"outlinewidth\": 0, \"ticks\": \"\"}}, \"type\": \"scatterpolargl\"}], \"scatterternary\": [{\"marker\": {\"colorbar\": {\"outlinewidth\": 0, \"ticks\": \"\"}}, \"type\": \"scatterternary\"}], \"surface\": [{\"colorbar\": {\"outlinewidth\": 0, \"ticks\": \"\"}, \"colorscale\": [[0.0, \"#0d0887\"], [0.1111111111111111, \"#46039f\"], [0.2222222222222222, \"#7201a8\"], [0.3333333333333333, \"#9c179e\"], [0.4444444444444444, \"#bd3786\"], [0.5555555555555556, \"#d8576b\"], [0.6666666666666666, \"#ed7953\"], [0.7777777777777778, \"#fb9f3a\"], [0.8888888888888888, \"#fdca26\"], [1.0, \"#f0f921\"]], \"type\": \"surface\"}], \"table\": [{\"cells\": {\"fill\": {\"color\": \"#EBF0F8\"}, \"line\": {\"color\": \"white\"}}, \"header\": {\"fill\": {\"color\": \"#C8D4E3\"}, \"line\": {\"color\": \"white\"}}, \"type\": \"table\"}]}, \"layout\": {\"annotationdefaults\": {\"arrowcolor\": \"#2a3f5f\", \"arrowhead\": 0, \"arrowwidth\": 1}, \"coloraxis\": {\"colorbar\": {\"outlinewidth\": 0, \"ticks\": \"\"}}, \"colorscale\": {\"diverging\": [[0, \"#8e0152\"], [0.1, \"#c51b7d\"], [0.2, \"#de77ae\"], [0.3, \"#f1b6da\"], [0.4, \"#fde0ef\"], [0.5, \"#f7f7f7\"], [0.6, \"#e6f5d0\"], [0.7, \"#b8e186\"], [0.8, \"#7fbc41\"], [0.9, \"#4d9221\"], [1, \"#276419\"]], \"sequential\": [[0.0, \"#0d0887\"], [0.1111111111111111, \"#46039f\"], [0.2222222222222222, \"#7201a8\"], [0.3333333333333333, \"#9c179e\"], [0.4444444444444444, \"#bd3786\"], [0.5555555555555556, \"#d8576b\"], [0.6666666666666666, \"#ed7953\"], [0.7777777777777778, \"#fb9f3a\"], [0.8888888888888888, \"#fdca26\"], [1.0, \"#f0f921\"]], \"sequentialminus\": [[0.0, \"#0d0887\"], [0.1111111111111111, \"#46039f\"], [0.2222222222222222, \"#7201a8\"], [0.3333333333333333, \"#9c179e\"], [0.4444444444444444, \"#bd3786\"], [0.5555555555555556, \"#d8576b\"], [0.6666666666666666, \"#ed7953\"], [0.7777777777777778, \"#fb9f3a\"], [0.8888888888888888, \"#fdca26\"], [1.0, \"#f0f921\"]]}, \"colorway\": [\"#636efa\", \"#EF553B\", \"#00cc96\", \"#ab63fa\", \"#FFA15A\", \"#19d3f3\", \"#FF6692\", \"#B6E880\", \"#FF97FF\", \"#FECB52\"], \"font\": {\"color\": \"#2a3f5f\"}, \"geo\": {\"bgcolor\": \"white\", \"lakecolor\": \"white\", \"landcolor\": \"#E5ECF6\", \"showlakes\": true, \"showland\": true, \"subunitcolor\": \"white\"}, \"hoverlabel\": {\"align\": \"left\"}, \"hovermode\": \"closest\", \"mapbox\": {\"style\": \"light\"}, \"paper_bgcolor\": \"white\", \"plot_bgcolor\": \"#E5ECF6\", \"polar\": {\"angularaxis\": {\"gridcolor\": \"white\", \"linecolor\": \"white\", \"ticks\": \"\"}, \"bgcolor\": \"#E5ECF6\", \"radialaxis\": {\"gridcolor\": \"white\", \"linecolor\": \"white\", \"ticks\": \"\"}}, \"scene\": {\"xaxis\": {\"backgroundcolor\": \"#E5ECF6\", \"gridcolor\": \"white\", \"gridwidth\": 2, \"linecolor\": \"white\", \"showbackground\": true, \"ticks\": \"\", \"zerolinecolor\": \"white\"}, \"yaxis\": {\"backgroundcolor\": \"#E5ECF6\", \"gridcolor\": \"white\", \"gridwidth\": 2, \"linecolor\": \"white\", \"showbackground\": true, \"ticks\": \"\", \"zerolinecolor\": \"white\"}, \"zaxis\": {\"backgroundcolor\": \"#E5ECF6\", \"gridcolor\": \"white\", \"gridwidth\": 2, \"linecolor\": \"white\", \"showbackground\": true, \"ticks\": \"\", \"zerolinecolor\": \"white\"}}, \"shapedefaults\": {\"line\": {\"color\": \"#2a3f5f\"}}, \"ternary\": {\"aaxis\": {\"gridcolor\": \"white\", \"linecolor\": \"white\", \"ticks\": \"\"}, \"baxis\": {\"gridcolor\": \"white\", \"linecolor\": \"white\", \"ticks\": \"\"}, \"bgcolor\": \"#E5ECF6\", \"caxis\": {\"gridcolor\": \"white\", \"linecolor\": \"white\", \"ticks\": \"\"}}, \"title\": {\"x\": 0.05}, \"xaxis\": {\"automargin\": true, \"gridcolor\": \"white\", \"linecolor\": \"white\", \"ticks\": \"\", \"title\": {\"standoff\": 15}, \"zerolinecolor\": \"white\", \"zerolinewidth\": 2}, \"yaxis\": {\"automargin\": true, \"gridcolor\": \"white\", \"linecolor\": \"white\", \"ticks\": \"\", \"title\": {\"standoff\": 15}, \"zerolinecolor\": \"white\", \"zerolinewidth\": 2}}}},\n",
       "                        {\"responsive\": true}\n",
       "                    ).then(function(){\n",
       "                            \n",
       "var gd = document.getElementById('4b8f2d12-4707-4ba7-96d4-5fce666813e6');\n",
       "var x = new MutationObserver(function (mutations, observer) {{\n",
       "        var display = window.getComputedStyle(gd).display;\n",
       "        if (!display || display === 'none') {{\n",
       "            console.log([gd, 'removed!']);\n",
       "            Plotly.purge(gd);\n",
       "            observer.disconnect();\n",
       "        }}\n",
       "}});\n",
       "\n",
       "// Listen for the removal of the full notebook cells\n",
       "var notebookContainer = gd.closest('#notebook-container');\n",
       "if (notebookContainer) {{\n",
       "    x.observe(notebookContainer, {childList: true});\n",
       "}}\n",
       "\n",
       "// Listen for the clearing of the current output cell\n",
       "var outputEl = gd.closest('.output');\n",
       "if (outputEl) {{\n",
       "    x.observe(outputEl, {childList: true});\n",
       "}}\n",
       "\n",
       "                        })\n",
       "                };\n",
       "                });\n",
       "            </script>\n",
       "        </div>"
      ]
     },
     "metadata": {},
     "output_type": "display_data"
    }
   ],
   "source": [
    "fig2=px.scatter_3d(finalDf, x='comp1', y='comp2',z='comp3',color='Y')\n",
    "fig2.show()"
   ]
  },
  {
   "cell_type": "markdown",
   "id": "6adab5f0",
   "metadata": {},
   "source": [
    "#### Creator: Aishwarya Guntoju , Github: [Profile](https://github.com/DSAishwaryaG)"
   ]
  }
 ],
 "metadata": {
  "kernelspec": {
   "display_name": "Python 3",
   "language": "python",
   "name": "python3"
  },
  "language_info": {
   "codemirror_mode": {
    "name": "ipython",
    "version": 3
   },
   "file_extension": ".py",
   "mimetype": "text/x-python",
   "name": "python",
   "nbconvert_exporter": "python",
   "pygments_lexer": "ipython3",
   "version": "3.7.6"
  }
 },
 "nbformat": 4,
 "nbformat_minor": 5
}
