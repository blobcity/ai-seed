{
  "nbformat": 4,
  "nbformat_minor": 5,
  "metadata": {
    "kernelspec": {
      "display_name": "Python 3",
      "language": "python",
      "name": "python3"
    },
    "language_info": {
      "codemirror_mode": {
        "name": "ipython",
        "version": 3
      },
      "file_extension": ".py",
      "mimetype": "text/x-python",
      "name": "python",
      "nbconvert_exporter": "python",
      "pygments_lexer": "ipython3",
      "version": "3.8.8"
    },
    "colab": {
      "name": "LGBMClassifier_scale.ipynb",
      "provenance": []
    }
  },
  "cells": [
    {
      "cell_type": "markdown",
      "metadata": {
        "id": "32d186f3"
      },
      "source": [
        "# LGBMClassifier with scale"
      ],
      "id": "32d186f3"
    },
    {
      "cell_type": "markdown",
      "metadata": {
        "id": "955f1a47"
      },
      "source": [
        "This Code template is for the Classification task using LGBMClassifier with data scaling with scale. It is a decision Tree-based ensemble Machine Learning algorithm that uses a Gradient Boosting framework."
      ],
      "id": "955f1a47"
    },
    {
      "cell_type": "markdown",
      "metadata": {
        "id": "cd900b28"
      },
      "source": [
        "### Required Packages"
      ],
      "id": "cd900b28"
    },
    {
      "cell_type": "code",
      "metadata": {
        "id": "9b5e9043"
      },
      "source": [
        "!pip install lightgbm"
      ],
      "id": "9b5e9043",
      "execution_count": null,
      "outputs": []
    },
    {
      "cell_type": "code",
      "metadata": {
        "id": "18cfe4d8"
      },
      "source": [
        "import warnings \n",
        "import numpy as np \n",
        "import pandas as pd\n",
        "import seaborn as se  \n",
        "import matplotlib.pyplot as plt \n",
        "import lightgbm as lgb\n",
        "from sklearn.preprocessing import LabelEncoder, scale\n",
        "from sklearn.model_selection import train_test_split \n",
        "from sklearn.metrics import classification_report,plot_confusion_matrix\n",
        "warnings.filterwarnings('ignore')"
      ],
      "id": "18cfe4d8",
      "execution_count": null,
      "outputs": []
    },
    {
      "cell_type": "markdown",
      "metadata": {
        "id": "b2be4ac7"
      },
      "source": [
        "### Initialization\n",
        "\n",
        "Filepath of CSV file"
      ],
      "id": "b2be4ac7"
    },
    {
      "cell_type": "code",
      "metadata": {
        "id": "f4f375bb"
      },
      "source": [
        "#filepath\n",
        "file_path=\"\""
      ],
      "id": "f4f375bb",
      "execution_count": null,
      "outputs": []
    },
    {
      "cell_type": "markdown",
      "metadata": {
        "id": "e2b68e11"
      },
      "source": [
        "List of features which are  required for model training"
      ],
      "id": "e2b68e11"
    },
    {
      "cell_type": "code",
      "metadata": {
        "id": "94a675e1"
      },
      "source": [
        "#x_values\n",
        "features=[]"
      ],
      "id": "94a675e1",
      "execution_count": null,
      "outputs": []
    },
    {
      "cell_type": "markdown",
      "metadata": {
        "id": "7732084d"
      },
      "source": [
        "Target feature for prediction."
      ],
      "id": "7732084d"
    },
    {
      "cell_type": "code",
      "metadata": {
        "id": "11d02f6f"
      },
      "source": [
        "#y_value\n",
        "target=''"
      ],
      "id": "11d02f6f",
      "execution_count": null,
      "outputs": []
    },
    {
      "cell_type": "markdown",
      "metadata": {
        "id": "cc3985f7"
      },
      "source": [
        "### Data Fetching\n",
        "\n",
        "Pandas is an open-source, BSD-licensed library providing high-performance, easy-to-use data manipulation and data analysis tools.\n",
        "\n",
        "We will use panda's library to read the CSV file using its storage path.And we use the head function to display the initial row or entry."
      ],
      "id": "cc3985f7"
    },
    {
      "cell_type": "code",
      "metadata": {
        "id": "4e7d12e9",
        "outputId": "710164c2-a1a1-49b9-ff29-000fb67a8431"
      },
      "source": [
        "df=pd.read_csv(file_path)\n",
        "df.head()"
      ],
      "id": "4e7d12e9",
      "execution_count": null,
      "outputs": [
        {
          "data": {
            "text/html": [
              "<div>\n",
              "<style scoped>\n",
              "    .dataframe tbody tr th:only-of-type {\n",
              "        vertical-align: middle;\n",
              "    }\n",
              "\n",
              "    .dataframe tbody tr th {\n",
              "        vertical-align: top;\n",
              "    }\n",
              "\n",
              "    .dataframe thead th {\n",
              "        text-align: right;\n",
              "    }\n",
              "</style>\n",
              "<table border=\"1\" class=\"dataframe\">\n",
              "  <thead>\n",
              "    <tr style=\"text-align: right;\">\n",
              "      <th></th>\n",
              "      <th>Age</th>\n",
              "      <th>Sex</th>\n",
              "      <th>BP</th>\n",
              "      <th>Cholesterol</th>\n",
              "      <th>Na_to_K</th>\n",
              "      <th>Drug</th>\n",
              "    </tr>\n",
              "  </thead>\n",
              "  <tbody>\n",
              "    <tr>\n",
              "      <th>0</th>\n",
              "      <td>23</td>\n",
              "      <td>F</td>\n",
              "      <td>HIGH</td>\n",
              "      <td>HIGH</td>\n",
              "      <td>25.355</td>\n",
              "      <td>DrugY</td>\n",
              "    </tr>\n",
              "    <tr>\n",
              "      <th>1</th>\n",
              "      <td>47</td>\n",
              "      <td>M</td>\n",
              "      <td>LOW</td>\n",
              "      <td>HIGH</td>\n",
              "      <td>13.093</td>\n",
              "      <td>drugC</td>\n",
              "    </tr>\n",
              "    <tr>\n",
              "      <th>2</th>\n",
              "      <td>47</td>\n",
              "      <td>M</td>\n",
              "      <td>LOW</td>\n",
              "      <td>HIGH</td>\n",
              "      <td>10.114</td>\n",
              "      <td>drugC</td>\n",
              "    </tr>\n",
              "    <tr>\n",
              "      <th>3</th>\n",
              "      <td>28</td>\n",
              "      <td>F</td>\n",
              "      <td>NORMAL</td>\n",
              "      <td>HIGH</td>\n",
              "      <td>7.798</td>\n",
              "      <td>drugX</td>\n",
              "    </tr>\n",
              "    <tr>\n",
              "      <th>4</th>\n",
              "      <td>61</td>\n",
              "      <td>F</td>\n",
              "      <td>LOW</td>\n",
              "      <td>HIGH</td>\n",
              "      <td>18.043</td>\n",
              "      <td>DrugY</td>\n",
              "    </tr>\n",
              "  </tbody>\n",
              "</table>\n",
              "</div>"
            ],
            "text/plain": [
              "   Age Sex      BP Cholesterol  Na_to_K   Drug\n",
              "0   23   F    HIGH        HIGH   25.355  DrugY\n",
              "1   47   M     LOW        HIGH   13.093  drugC\n",
              "2   47   M     LOW        HIGH   10.114  drugC\n",
              "3   28   F  NORMAL        HIGH    7.798  drugX\n",
              "4   61   F     LOW        HIGH   18.043  DrugY"
            ]
          },
          "execution_count": 5,
          "metadata": {},
          "output_type": "execute_result"
        }
      ]
    },
    {
      "cell_type": "markdown",
      "metadata": {
        "id": "dff763a2"
      },
      "source": [
        "### Feature Selections\n",
        "\n",
        "It is the process of reducing the number of input variables when developing a predictive model. Used to reduce the number of input variables to both reduce the computational cost of modelling and, in some cases, to improve the performance of the model.\n",
        "\n",
        "We will assign all the required input features to X and target/outcome to Y."
      ],
      "id": "dff763a2"
    },
    {
      "cell_type": "code",
      "metadata": {
        "id": "c6e351cb"
      },
      "source": [
        "X = df[features]\n",
        "Y = df[target]"
      ],
      "id": "c6e351cb",
      "execution_count": null,
      "outputs": []
    },
    {
      "cell_type": "markdown",
      "metadata": {
        "id": "e2fb0f84"
      },
      "source": [
        "### Data Preprocessing\n",
        "\n",
        "Since the majority of the machine learning models in the Sklearn library doesn't handle string category data and Null value, we have to explicitly remove or replace null values. The below snippet have functions, which removes the null value if any exists. And convert the string classes data in the datasets by encoding them to integer classes."
      ],
      "id": "e2fb0f84"
    },
    {
      "cell_type": "code",
      "metadata": {
        "id": "0d791c81"
      },
      "source": [
        "def NullClearner(df):\n",
        "    if(isinstance(df, pd.Series) and (df.dtype in [\"float64\",\"int64\"])):\n",
        "        df.fillna(df.mean(),inplace=True)\n",
        "        return df\n",
        "    elif(isinstance(df, pd.Series)):\n",
        "        df.fillna(df.mode()[0],inplace=True)\n",
        "        return df\n",
        "    else:return df\n",
        "def EncodeX(df):\n",
        "    return pd.get_dummies(df)\n",
        "def EncodeY(df):\n",
        "    if len(df.unique())<=2:\n",
        "        return df\n",
        "    else:\n",
        "        un_EncodedT=np.sort(pd.unique(df), axis=-1, kind='mergesort')\n",
        "        df=LabelEncoder().fit_transform(df)\n",
        "        EncodedT=[xi for xi in range(len(un_EncodedT))]\n",
        "        print(\"Encoded Target: {} to {}\".format(un_EncodedT,EncodedT))\n",
        "        return df"
      ],
      "id": "0d791c81",
      "execution_count": null,
      "outputs": []
    },
    {
      "cell_type": "code",
      "metadata": {
        "id": "8866e771",
        "outputId": "20efeb8d-e08c-4048-9308-68c894ac5334"
      },
      "source": [
        "x=X.columns.to_list()\n",
        "for i in x:\n",
        "    X[i]=NullClearner(X[i])  \n",
        "X=EncodeX(X)\n",
        "Y=EncodeY(NullClearner(Y))\n",
        "X.head()"
      ],
      "id": "8866e771",
      "execution_count": null,
      "outputs": [
        {
          "name": "stdout",
          "output_type": "stream",
          "text": [
            "Encoded Target: ['DrugY' 'drugA' 'drugB' 'drugC' 'drugX'] to [0, 1, 2, 3, 4]\n"
          ]
        },
        {
          "data": {
            "text/html": [
              "<div>\n",
              "<style scoped>\n",
              "    .dataframe tbody tr th:only-of-type {\n",
              "        vertical-align: middle;\n",
              "    }\n",
              "\n",
              "    .dataframe tbody tr th {\n",
              "        vertical-align: top;\n",
              "    }\n",
              "\n",
              "    .dataframe thead th {\n",
              "        text-align: right;\n",
              "    }\n",
              "</style>\n",
              "<table border=\"1\" class=\"dataframe\">\n",
              "  <thead>\n",
              "    <tr style=\"text-align: right;\">\n",
              "      <th></th>\n",
              "      <th>Age</th>\n",
              "      <th>Na_to_K</th>\n",
              "      <th>Sex_F</th>\n",
              "      <th>Sex_M</th>\n",
              "      <th>BP_HIGH</th>\n",
              "      <th>BP_LOW</th>\n",
              "      <th>BP_NORMAL</th>\n",
              "      <th>Cholesterol_HIGH</th>\n",
              "      <th>Cholesterol_NORMAL</th>\n",
              "    </tr>\n",
              "  </thead>\n",
              "  <tbody>\n",
              "    <tr>\n",
              "      <th>0</th>\n",
              "      <td>23</td>\n",
              "      <td>25.355</td>\n",
              "      <td>1</td>\n",
              "      <td>0</td>\n",
              "      <td>1</td>\n",
              "      <td>0</td>\n",
              "      <td>0</td>\n",
              "      <td>1</td>\n",
              "      <td>0</td>\n",
              "    </tr>\n",
              "    <tr>\n",
              "      <th>1</th>\n",
              "      <td>47</td>\n",
              "      <td>13.093</td>\n",
              "      <td>0</td>\n",
              "      <td>1</td>\n",
              "      <td>0</td>\n",
              "      <td>1</td>\n",
              "      <td>0</td>\n",
              "      <td>1</td>\n",
              "      <td>0</td>\n",
              "    </tr>\n",
              "    <tr>\n",
              "      <th>2</th>\n",
              "      <td>47</td>\n",
              "      <td>10.114</td>\n",
              "      <td>0</td>\n",
              "      <td>1</td>\n",
              "      <td>0</td>\n",
              "      <td>1</td>\n",
              "      <td>0</td>\n",
              "      <td>1</td>\n",
              "      <td>0</td>\n",
              "    </tr>\n",
              "    <tr>\n",
              "      <th>3</th>\n",
              "      <td>28</td>\n",
              "      <td>7.798</td>\n",
              "      <td>1</td>\n",
              "      <td>0</td>\n",
              "      <td>0</td>\n",
              "      <td>0</td>\n",
              "      <td>1</td>\n",
              "      <td>1</td>\n",
              "      <td>0</td>\n",
              "    </tr>\n",
              "    <tr>\n",
              "      <th>4</th>\n",
              "      <td>61</td>\n",
              "      <td>18.043</td>\n",
              "      <td>1</td>\n",
              "      <td>0</td>\n",
              "      <td>0</td>\n",
              "      <td>1</td>\n",
              "      <td>0</td>\n",
              "      <td>1</td>\n",
              "      <td>0</td>\n",
              "    </tr>\n",
              "  </tbody>\n",
              "</table>\n",
              "</div>"
            ],
            "text/plain": [
              "   Age  Na_to_K  Sex_F  Sex_M  BP_HIGH  BP_LOW  BP_NORMAL  Cholesterol_HIGH  \\\n",
              "0   23   25.355      1      0        1       0          0                 1   \n",
              "1   47   13.093      0      1        0       1          0                 1   \n",
              "2   47   10.114      0      1        0       1          0                 1   \n",
              "3   28    7.798      1      0        0       0          1                 1   \n",
              "4   61   18.043      1      0        0       1          0                 1   \n",
              "\n",
              "   Cholesterol_NORMAL  \n",
              "0                   0  \n",
              "1                   0  \n",
              "2                   0  \n",
              "3                   0  \n",
              "4                   0  "
            ]
          },
          "execution_count": 8,
          "metadata": {},
          "output_type": "execute_result"
        }
      ]
    },
    {
      "cell_type": "markdown",
      "metadata": {
        "id": "d3b10ed5"
      },
      "source": [
        "#### Correlation Map\n",
        "\n",
        "In order to check the correlation between the features, we will plot a correlation matrix. It is effective in summarizing a large amount of data where the goal is to see patterns."
      ],
      "id": "d3b10ed5"
    },
    {
      "cell_type": "code",
      "metadata": {
        "id": "394a25fc",
        "outputId": "f079a913-5a12-4321-aced-aee8cea145b2"
      },
      "source": [
        "f,ax = plt.subplots(figsize=(18, 18))\n",
        "matrix = np.triu(X.corr())\n",
        "se.heatmap(X.corr(), annot=True, linewidths=.5, fmt= '.1f',ax=ax, mask=matrix)\n",
        "plt.show()"
      ],
      "id": "394a25fc",
      "execution_count": null,
      "outputs": [
        {
          "data": {
            "image/png": "[encoded data removed]",
            "text/plain": [
              "<Figure size 1296x1296 with 2 Axes>"
            ]
          },
          "metadata": {
            "needs_background": "light"
          },
          "output_type": "display_data"
        }
      ]
    },
    {
      "cell_type": "markdown",
      "metadata": {
        "id": "f8590360"
      },
      "source": [
        "#### Distribution Of Target Variable"
      ],
      "id": "f8590360"
    },
    {
      "cell_type": "code",
      "metadata": {
        "id": "7819bc46",
        "outputId": "e80f98d8-f698-4924-a7ca-dd7b66285d49"
      },
      "source": [
        "plt.figure(figsize = (10,6))\n",
        "se.countplot(Y)"
      ],
      "id": "7819bc46",
      "execution_count": null,
      "outputs": [
        {
          "data": {
            "text/plain": [
              "<AxesSubplot:ylabel='count'>"
            ]
          },
          "execution_count": 10,
          "metadata": {},
          "output_type": "execute_result"
        },
        {
          "data": {
            "image/png": "[encoded data removed]",
            "text/plain": [
              "<Figure size 720x432 with 1 Axes>"
            ]
          },
          "metadata": {
            "needs_background": "light"
          },
          "output_type": "display_data"
        }
      ]
    },
    {
      "cell_type": "markdown",
      "metadata": {
        "id": "5e79df3e"
      },
      "source": [
        "### Data Splitting\n",
        "\n",
        "The train-test split is a procedure for evaluating the performance of an algorithm. The procedure involves taking a dataset and dividing it into two subsets. The first subset is utilized to fit/train the model. The second subset is used for prediction. The main motive is to estimate the performance of the model on new data."
      ],
      "id": "5e79df3e"
    },
    {
      "cell_type": "code",
      "metadata": {
        "id": "00b7a958"
      },
      "source": [
        "X_train, X_test, y_train, y_test = train_test_split(X, Y, test_size = 0.2)"
      ],
      "id": "00b7a958",
      "execution_count": null,
      "outputs": []
    },
    {
      "cell_type": "markdown",
      "metadata": {
        "id": "M8rhL5e2ukyI"
      },
      "source": [
        "### Data Rescaling\n"
      ],
      "id": "M8rhL5e2ukyI"
    },
    {
      "cell_type": "markdown",
      "metadata": {
        "id": "jgokMbG5uhCX"
      },
      "source": [
        "\n",
        "Sklearn Scale standardized datasets across any axis. Center to the mean and component-wise scale to unit variance.\n",
        "\n",
        "[Scale](https://scikit-learn.org/stable/modules/generated/sklearn.preprocessing.scale.html)"
      ],
      "id": "jgokMbG5uhCX"
    },
    {
      "cell_type": "code",
      "metadata": {
        "id": "7fd81927"
      },
      "source": [
        "scaler=scale() #making a object of Normalizer\n",
        "X_train=scaler.fit_transform(X_train) #fitting the data on the training set\n",
        "X_test=scaler.transform(X_test) #scaling testing set"
      ],
      "id": "7fd81927",
      "execution_count": null,
      "outputs": []
    },
    {
      "cell_type": "markdown",
      "metadata": {
        "id": "7cc57da8"
      },
      "source": [
        "### Model\n",
        "Light GBM is a fast, distributed, high-performance gradient boosting framework based on decision tree algorithm, used for ranking, classification and many other machine learning tasks.\n",
        "\n",
        "Since it is based on decision tree algorithms, it splits the tree leaf wise with the best fit whereas other boosting algorithms split the tree depth wise or level wise rather than leaf-wise. So when growing on the same leaf in Light GBM, the leaf-wise algorithm can reduce more loss than the level-wise algorithm and hence results in much better accuracy which can rarely be achieved by any of the existing boosting algorithms. \n",
        "\n",
        "Refer [API](https://lightgbm.readthedocs.io/en/latest/Python-API.html) for more."
      ],
      "id": "7cc57da8"
    },
    {
      "cell_type": "code",
      "metadata": {
        "id": "f92cfc74",
        "outputId": "f78c8765-10c5-4890-e63b-d89515191ff1"
      },
      "source": [
        "model = lgb.LGBMClassifier()\n",
        "model.fit(X_train, y_train)"
      ],
      "id": "f92cfc74",
      "execution_count": null,
      "outputs": [
        {
          "data": {
            "text/plain": [
              "LGBMClassifier()"
            ]
          },
          "execution_count": 13,
          "metadata": {},
          "output_type": "execute_result"
        }
      ]
    },
    {
      "cell_type": "markdown",
      "metadata": {
        "id": "e7a00dfa"
      },
      "source": [
        "#### Model Accuracy\n",
        "score() method return the mean accuracy on the given test data and labels.\n",
        "\n",
        "In multi-label classification, this is the subset accuracy which is a harsh metric since you require for each sample that each label set be correctly predicted."
      ],
      "id": "e7a00dfa"
    },
    {
      "cell_type": "code",
      "metadata": {
        "id": "59063b93",
        "outputId": "f9c83f32-1a3e-4133-eb70-798573c04373"
      },
      "source": [
        "print(\"Accuracy score {:.2f} %\\n\".format(model.score(X_test,y_test)*100))"
      ],
      "id": "59063b93",
      "execution_count": null,
      "outputs": [
        {
          "name": "stdout",
          "output_type": "stream",
          "text": [
            "Accuracy score 90.00 %\n",
            "\n"
          ]
        }
      ]
    },
    {
      "cell_type": "markdown",
      "metadata": {
        "id": "cd943330"
      },
      "source": [
        "#### Confusion Matrix\n",
        "\n",
        "A confusion matrix is utilized to understand the performance of the classification model or algorithm in machine learning for a given test set where results are known."
      ],
      "id": "cd943330"
    },
    {
      "cell_type": "code",
      "metadata": {
        "id": "aecdc143",
        "outputId": "969ca294-aaae-41be-b811-bcdbc064bddf"
      },
      "source": [
        "plot_confusion_matrix(model,X_test,y_test,cmap=plt.cm.Blues)"
      ],
      "id": "aecdc143",
      "execution_count": null,
      "outputs": [
        {
          "data": {
            "text/plain": [
              "<sklearn.metrics._plot.confusion_matrix.ConfusionMatrixDisplay at 0x19862465430>"
            ]
          },
          "execution_count": 15,
          "metadata": {},
          "output_type": "execute_result"
        },
        {
          "data": {
            "image/png": "[encoded data removed]",
            "text/plain": [
              "<Figure size 432x288 with 2 Axes>"
            ]
          },
          "metadata": {
            "needs_background": "light"
          },
          "output_type": "display_data"
        }
      ]
    },
    {
      "cell_type": "markdown",
      "metadata": {
        "id": "67e042c7"
      },
      "source": [
        "#### Classification Report\n",
        "\n",
        "A Classification report is used to measure the quality of predictions from a classification algorithm. How many predictions are True, how many are False.\n",
        "\n",
        "* **where**:\n",
        "    - Precision:- Accuracy of positive predictions.\n",
        "    - Recall:- Fraction of positives that were correctly identified.\n",
        "    - f1-score:-  percent of positive predictions were correct\n",
        "    - support:- Support is the number of actual occurrences of the class in the specified dataset."
      ],
      "id": "67e042c7"
    },
    {
      "cell_type": "code",
      "metadata": {
        "id": "abcdcbf7",
        "outputId": "6ea37429-c7d8-46bc-8d40-df540b5f31ff"
      },
      "source": [
        "print(classification_report(y_test,model.predict(X_test)))"
      ],
      "id": "abcdcbf7",
      "execution_count": null,
      "outputs": [
        {
          "name": "stdout",
          "output_type": "stream",
          "text": [
            "              precision    recall  f1-score   support\n",
            "\n",
            "           0       0.88      1.00      0.94        15\n",
            "           1       0.88      0.78      0.82         9\n",
            "           2       1.00      0.80      0.89         5\n",
            "           3       1.00      0.50      0.67         2\n",
            "           4       0.90      1.00      0.95         9\n",
            "\n",
            "    accuracy                           0.90        40\n",
            "   macro avg       0.93      0.82      0.85        40\n",
            "weighted avg       0.91      0.90      0.89        40\n",
            "\n"
          ]
        }
      ]
    },
    {
      "cell_type": "markdown",
      "metadata": {
        "id": "cb1ea1ec"
      },
      "source": [
        "#### Feature Importances.\n",
        "\n",
        "The Feature importance refers to techniques that assign a score to features based on how useful they are for making the prediction.\n",
        "If importance_type = “gain”, result contains total gains of splits which use the feature.\n",
        "If importance_type = “split”, result contains numbers of times the feature is used in a model. "
      ],
      "id": "cb1ea1ec"
    },
    {
      "cell_type": "code",
      "metadata": {
        "id": "03f99c2d",
        "outputId": "d8995d64-5a15-4e76-d499-e8693b55abe4"
      },
      "source": [
        "lgb.plot_importance(model,importance_type='gain',max_num_features=10)\n",
        "plt.rcParams['figure.figsize'] = [8,6]\n",
        "plt.show()"
      ],
      "id": "03f99c2d",
      "execution_count": null,
      "outputs": [
        {
          "data": {
            "image/png": "[encoded data removed]",
            "text/plain": [
              "<Figure size 432x288 with 1 Axes>"
            ]
          },
          "metadata": {
            "needs_background": "light"
          },
          "output_type": "display_data"
        }
      ]
    },
    {
      "cell_type": "code",
      "metadata": {
        "id": "41f790c7",
        "outputId": "72d194c1-f47f-4834-e9b0-a1cdcd927ac1"
      },
      "source": [
        "lgb.plot_importance(model,importance_type='split',max_num_features=10)\n",
        "plt.rcParams['figure.figsize'] = [8,6]\n",
        "plt.show()"
      ],
      "id": "41f790c7",
      "execution_count": null,
      "outputs": [
        {
          "data": {
            "image/png": "[encoded data removed]",
            "text/plain": [
              "<Figure size 576x432 with 1 Axes>"
            ]
          },
          "metadata": {
            "needs_background": "light"
          },
          "output_type": "display_data"
        }
      ]
    },
    {
      "cell_type": "markdown",
      "metadata": {
        "id": "l1Wu5fomgmu0"
      },
      "source": [
        "**creator: Virat Chowdary, GitHub: [profile](https://github.com/viratchowdary21)**\n"
      ],
      "id": "l1Wu5fomgmu0"
    }
  ]
}