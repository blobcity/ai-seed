{
 "cells": [
  {
   "cell_type": "markdown",
   "metadata": {
    "id": "f67c7899"
   },
   "source": [
    "# Simple  Holt Winter’s Exponential Smoothing"
   ]
  },
  {
   "cell_type": "markdown",
   "metadata": {},
   "source": [
    "This code template is for Time Series Analysis and Forecasting to make scientific predictions based on historical time stamped data with the help of Simple  Holt Winter’s Exponential Smoothing"
   ]
  },
  {
   "cell_type": "markdown",
   "metadata": {},
   "source": [
    "### Required Packages"
   ]
  },
  {
   "cell_type": "code",
   "execution_count": 23,
   "metadata": {
    "id": "49643f97"
   },
   "outputs": [],
   "source": [
    "import warnings \n",
    "import numpy as np\n",
    "import pandas as pd \n",
    "import seaborn as se \n",
    "import matplotlib.pyplot as plt \n",
    "from statsmodels.tsa.stattools import adfuller\n",
    "from statsmodels.graphics.tsaplots import plot_acf, plot_pacf\n",
    "from statsmodels.tsa.holtwinters import ExponentialSmoothing\n",
    "from sklearn.metrics import mean_absolute_error, mean_squared_error \n",
    "\n",
    "warnings.filterwarnings(\"ignore\")\n"
   ]
  },
  {
   "cell_type": "markdown",
   "metadata": {
    "id": "e99df75f"
   },
   "source": [
    "### Initialization\n",
    "\n",
    "Filepath of CSV file"
   ]
  },
  {
   "cell_type": "code",
   "execution_count": 24,
   "metadata": {
    "id": "8eaa3ecd"
   },
   "outputs": [],
   "source": [
    "file_path = \"\""
   ]
  },
  {
   "cell_type": "markdown",
   "metadata": {
    "id": "62178777"
   },
   "source": [
    "Variable containing the date time column name of the Time Series data"
   ]
  },
  {
   "cell_type": "code",
   "execution_count": 25,
   "metadata": {
    "id": "48c94d24"
   },
   "outputs": [],
   "source": [
    "date = \"\""
   ]
  },
  {
   "cell_type": "markdown",
   "metadata": {
    "id": "0820f9b3"
   },
   "source": [
    "Target feature for prediction."
   ]
  },
  {
   "cell_type": "code",
   "execution_count": 26,
   "metadata": {
    "id": "603ad365"
   },
   "outputs": [],
   "source": [
    "target = \"\""
   ]
  },
  {
   "cell_type": "markdown",
   "metadata": {
    "id": "0b0d35f4"
   },
   "source": [
    "### Data Fetching\n",
    "\n",
    "Pandas is an open-source, BSD-licensed library providing high-performance, easy-to-use data manipulation and data analysis tools.\n",
    "\n",
    "We will use panda's library to read the CSV file using its storage path.And we use the head function to display the initial row or entry."
   ]
  },
  {
   "cell_type": "code",
   "execution_count": 27,
   "metadata": {
    "colab": {
     "base_uri": "https://localhost:8080/",
     "height": 206
    },
    "id": "72e93414",
    "outputId": "7d659469-c7d1-4274-bf3c-8493f160f5dd"
   },
   "outputs": [
    {
     "data": {
      "text/html": [
       "<div>\n",
       "<style scoped>\n",
       "    .dataframe tbody tr th:only-of-type {\n",
       "        vertical-align: middle;\n",
       "    }\n",
       "\n",
       "    .dataframe tbody tr th {\n",
       "        vertical-align: top;\n",
       "    }\n",
       "\n",
       "    .dataframe thead th {\n",
       "        text-align: right;\n",
       "    }\n",
       "</style>\n",
       "<table border=\"1\" class=\"dataframe\">\n",
       "  <thead>\n",
       "    <tr style=\"text-align: right;\">\n",
       "      <th></th>\n",
       "      <th>date</th>\n",
       "      <th>sales</th>\n",
       "    </tr>\n",
       "  </thead>\n",
       "  <tbody>\n",
       "    <tr>\n",
       "      <th>0</th>\n",
       "      <td>01-01-2013</td>\n",
       "      <td>14236.90</td>\n",
       "    </tr>\n",
       "    <tr>\n",
       "      <th>1</th>\n",
       "      <td>01-02-2013</td>\n",
       "      <td>4519.89</td>\n",
       "    </tr>\n",
       "    <tr>\n",
       "      <th>2</th>\n",
       "      <td>01-03-2013</td>\n",
       "      <td>55691.01</td>\n",
       "    </tr>\n",
       "    <tr>\n",
       "      <th>3</th>\n",
       "      <td>01-04-2013</td>\n",
       "      <td>28295.35</td>\n",
       "    </tr>\n",
       "    <tr>\n",
       "      <th>4</th>\n",
       "      <td>01-05-2013</td>\n",
       "      <td>23648.29</td>\n",
       "    </tr>\n",
       "  </tbody>\n",
       "</table>\n",
       "</div>"
      ],
      "text/plain": [
       "         date     sales\n",
       "0  01-01-2013  14236.90\n",
       "1  01-02-2013   4519.89\n",
       "2  01-03-2013  55691.01\n",
       "3  01-04-2013  28295.35\n",
       "4  01-05-2013  23648.29"
      ]
     },
     "execution_count": 27,
     "metadata": {},
     "output_type": "execute_result"
    }
   ],
   "source": [
    "df = pd.read_csv(file_path)\n",
    "df.head()"
   ]
  },
  {
   "cell_type": "markdown",
   "metadata": {
    "id": "9155d998"
   },
   "source": [
    "### Data Preprocessing\n",
    "\n",
    "Since the majority of the machine learning models for Time Series Forecasting doesn't handle string category data and Null value, we have to explicitly remove or replace null values. The below snippets have functions, which removes the rows containing null value if any exists. And convert the string classes date column in the datasets to proper Date-time classes.\n",
    "\n",
    "After the proper date conversions are done and null values are dropped, we set the Date column as the index value.\n"
   ]
  },
  {
   "cell_type": "code",
   "execution_count": 28,
   "metadata": {
    "id": "b99e81f3"
   },
   "outputs": [],
   "source": [
    "def data_preprocess(df, target, date):\n",
    "    df = df.dropna(axis=0, how = 'any')\n",
    "    df[date] = pd.to_datetime(df[date])\n",
    "    df = df.set_index(date)\n",
    "    return df"
   ]
  },
  {
   "cell_type": "code",
   "execution_count": 29,
   "metadata": {
    "colab": {
     "base_uri": "https://localhost:8080/",
     "height": 237
    },
    "id": "13af1ab3",
    "outputId": "aedb1a5a-0214-4658-f593-4eea2f32e816"
   },
   "outputs": [
    {
     "data": {
      "text/html": [
       "<div>\n",
       "<style scoped>\n",
       "    .dataframe tbody tr th:only-of-type {\n",
       "        vertical-align: middle;\n",
       "    }\n",
       "\n",
       "    .dataframe tbody tr th {\n",
       "        vertical-align: top;\n",
       "    }\n",
       "\n",
       "    .dataframe thead th {\n",
       "        text-align: right;\n",
       "    }\n",
       "</style>\n",
       "<table border=\"1\" class=\"dataframe\">\n",
       "  <thead>\n",
       "    <tr style=\"text-align: right;\">\n",
       "      <th></th>\n",
       "      <th>sales</th>\n",
       "    </tr>\n",
       "    <tr>\n",
       "      <th>date</th>\n",
       "      <th></th>\n",
       "    </tr>\n",
       "  </thead>\n",
       "  <tbody>\n",
       "    <tr>\n",
       "      <th>2013-01-01</th>\n",
       "      <td>14236.90</td>\n",
       "    </tr>\n",
       "    <tr>\n",
       "      <th>2013-01-02</th>\n",
       "      <td>4519.89</td>\n",
       "    </tr>\n",
       "    <tr>\n",
       "      <th>2013-01-03</th>\n",
       "      <td>55691.01</td>\n",
       "    </tr>\n",
       "    <tr>\n",
       "      <th>2013-01-04</th>\n",
       "      <td>28295.35</td>\n",
       "    </tr>\n",
       "    <tr>\n",
       "      <th>2013-01-05</th>\n",
       "      <td>23648.29</td>\n",
       "    </tr>\n",
       "  </tbody>\n",
       "</table>\n",
       "</div>"
      ],
      "text/plain": [
       "               sales\n",
       "date                \n",
       "2013-01-01  14236.90\n",
       "2013-01-02   4519.89\n",
       "2013-01-03  55691.01\n",
       "2013-01-04  28295.35\n",
       "2013-01-05  23648.29"
      ]
     },
     "execution_count": 29,
     "metadata": {},
     "output_type": "execute_result"
    }
   ],
   "source": [
    "df = data_preprocess(df,target,date)\n",
    "df.head()"
   ]
  },
  {
   "cell_type": "code",
   "execution_count": 30,
   "metadata": {
    "colab": {
     "base_uri": "https://localhost:8080/",
     "height": 497
    },
    "id": "ec7c4afc",
    "outputId": "27815972-4416-47d8-e6e2-98af3e46debe"
   },
   "outputs": [
    {
     "data": {
      "image/png": "[encoded data removed]",
      "text/plain": [
       "<Figure size 1080x576 with 1 Axes>"
      ]
     },
     "metadata": {
      "needs_background": "light"
     },
     "output_type": "display_data"
    }
   ],
   "source": [
    "df.plot(figsize = (15,8))\n",
    "plt.show()"
   ]
  },
  {
   "cell_type": "markdown",
   "metadata": {
    "id": "260a3ce9"
   },
   "source": [
    "### Seasonality decomposition"
   ]
  },
  {
   "cell_type": "markdown",
   "metadata": {
    "id": "23e08157"
   },
   "source": [
    "Since Simple Exponential Smoothing for non-seasonal data, we need to check for any seasonality in our time series and decompose it.\n",
    "\n",
    "We use the Dickey Fuller Test for testing the seasonality and if the ADF Statistic value is positive, it means that the data has seasonality.\n",
    "\n",
    "#### Dickey Fuller Test\n",
    "The Dickey Fuller test is a common statistical test used to test whether a given Time series is stationary or not. The Augmented Dickey Fuller (ADF) test expands the Dickey-Fuller test equation to include high order regressive process in the model. We can implement the ADF test via the **adfuller()** function. It returns the following outputs:\n",
    "\n",
    "    1. adf : float\n",
    "> The test statistic.\n",
    "\n",
    "    2. pvalue : float\n",
    "> MacKinnon's approximate p-value based on MacKinnon(1994, 2010). It is used alongwith the test statistic to reject or accept the null hypothesis.\n",
    "\n",
    "    3. usedlag : int\n",
    "> Number of lags considered for the test\n",
    "\n",
    "    4. critical values : dict\n",
    "> Critical values for the test statistic at the 1 %, 5 %, and 10 % levels. Based on MacKinnon (2010).\n",
    "\n",
    "For more information on the adfuller() function [click here](https://www.statsmodels.org/stable/generated/statsmodels.tsa.stattools.adfuller.html)"
   ]
  },
  {
   "cell_type": "code",
   "execution_count": 31,
   "metadata": {
    "id": "2d43786b"
   },
   "outputs": [],
   "source": [
    "def dickeyFuller(df,target):\n",
    "    \n",
    "    # Applying Dickey Fuller Test\n",
    "    X = df.values\n",
    "    result = adfuller(X)\n",
    "    print('ADF Statistic: %f' % result[0])\n",
    "    print('p-value: %f' % result[1])\n",
    "    print('Number of lags used: %d' % result[2])\n",
    "    print('Critical Values:')\n",
    "    for key, value in result[4].items():\n",
    "           print('\\t%s: %.3f' % (key, value))\n",
    "    \n",
    "    \n",
    "    # Decomposing Seasonality if it exists\n",
    "    if result[0]>0:\n",
    "        df[target] = df[target].rolling(12).mean()\n",
    "    \n",
    "    return df"
   ]
  },
  {
   "cell_type": "markdown",
   "metadata": {
    "id": "e6780f5d"
   },
   "source": [
    "To remove the seasonality we use the rolling mean technique for smoothing our data and decomposing any seasonality.\n",
    "This method provides rolling windows over the data. On the resulting windows, we can perform calculations using a statistical function (in this case the mean) in order to decompose the seasonality.\n",
    "\n",
    "For more information about rolling function [click here](https://pandas.pydata.org/docs/reference/api/pandas.DataFrame.rolling.html)"
   ]
  },
  {
   "cell_type": "code",
   "execution_count": 32,
   "metadata": {
    "id": "523f38b4",
    "outputId": "bc290cf4-7660-4778-ca90-e96e3d316549"
   },
   "outputs": [
    {
     "name": "stdout",
     "output_type": "stream",
     "text": [
      "ADF Statistic: -4.481467\n",
      "p-value: 0.000212\n",
      "Number of lags used: 0\n",
      "Critical Values:\n",
      "\t1%: -3.578\n",
      "\t5%: -2.925\n",
      "\t10%: -2.601\n"
     ]
    }
   ],
   "source": [
    "df = dickeyFuller(df,target)"
   ]
  },
  {
   "cell_type": "markdown",
   "metadata": {
    "id": "4c281272"
   },
   "source": [
    "### Autocorrelation Plot\n",
    "\n",
    "\n",
    "We can calculate the correlation for time series observations with observations with previous time steps, called lags. Because the correlation of the time series observations is calculated with values of the same series at previous times, this is called a serial correlation, or an autocorrelation.\n",
    "A plot of the autocorrelation of a time series by lag is called the AutoCorrelation Function, or the acronym ACF. \n",
    "\n",
    "An autocorrelation plot shows whether the elements of a time series are positively correlated, negatively correlated, or independent of each other. \n",
    "The plot shows the value of the autocorrelation function (acf) on the vertical axis ranging from –1 to 1.\n",
    "There are vertical lines (a “spike”) corresponding to each lag and the height of each spike shows the value of the autocorrelation function for the lag.\n",
    "\n",
    "[API](https://www.statsmodels.org/stable/generated/statsmodels.graphics.tsaplots.plot_acf.html)"
   ]
  },
  {
   "cell_type": "code",
   "execution_count": 33,
   "metadata": {
    "colab": {
     "base_uri": "https://localhost:8080/",
     "height": 607
    },
    "id": "9f47112b",
    "outputId": "cfa72b0b-d09a-440b-e9be-7a3d2052a1d8"
   },
   "outputs": [
    {
     "data": {
      "image/png": "[encoded data removed]",
      "text/plain": [
       "<Figure size 1080x720 with 1 Axes>"
      ]
     },
     "metadata": {
      "needs_background": "light"
     },
     "output_type": "display_data"
    }
   ],
   "source": [
    "x = plot_acf(df, lags=40)\n",
    "x.set_size_inches(15, 10, forward=True)\n",
    "plt.show()"
   ]
  },
  {
   "cell_type": "markdown",
   "metadata": {
    "id": "3e387c28"
   },
   "source": [
    "### Partial Autocorrelation Plot\n",
    "\n",
    "A partial autocorrelation is a summary of the relationship between an observation in a time series with observations at prior time steps with the relationships of intervening observations removed.\n",
    "\n",
    "The partial autocorrelation at lag k is the correlation that results after removing the effect of any correlations due to the terms at shorter lags. By examining the spikes at each lag we can determine whether they are significant or not. A significant spike will extend beyond the significant limits, which indicates that the correlation for that lag doesn't equal zero.\n",
    "\n",
    "[API](https://www.statsmodels.org/stable/generated/statsmodels.graphics.tsaplots.plot_pacf.html)\n"
   ]
  },
  {
   "cell_type": "code",
   "execution_count": 44,
   "metadata": {
    "colab": {
     "base_uri": "https://localhost:8080/",
     "height": 607
    },
    "id": "3b357dc1",
    "outputId": "fa5e8e5f-1971-4f70-c6cf-83630ae15f89"
   },
   "outputs": [
    {
     "data": {
      "image/png": "[encoded data removed]",
      "text/plain": [
       "<Figure size 1080x720 with 1 Axes>"
      ]
     },
     "metadata": {
      "needs_background": "light"
     },
     "output_type": "display_data"
    }
   ],
   "source": [
    "y = plot_pacf(df, lags=15)\n",
    "y.set_size_inches(15, 10, forward=True)\n",
    "plt.show()"
   ]
  },
  {
   "cell_type": "markdown",
   "metadata": {
    "id": "44b62dfd"
   },
   "source": [
    "### Data Splitting\n",
    "\n",
    "Since we are using a univariate dataset, we can directly split our data into training and testing subsets. The first subset is utilized to fit/train the model. The second subset is used for prediction. The main motive is to estimate the performance of the model on new data."
   ]
  },
  {
   "cell_type": "code",
   "execution_count": 14,
   "metadata": {
    "id": "0cf3d5b1"
   },
   "outputs": [],
   "source": [
    "size = int(len(df)*0.9)\n",
    "df_train, df_test = df.iloc[:size], df.iloc[size:]"
   ]
  },
  {
   "cell_type": "markdown",
   "metadata": {
    "id": "30804b53"
   },
   "source": [
    "### Model\n",
    "\n",
    "Holt-Winters forecasting is a way to model and predict the behavior of a sequence of values over time—a time series. Holt-Winters is one of the most popular forecasting techniques for time series. It’s decades old, but it’s still ubiquitous in many applications, including monitoring, where it’s used for purposes such as anomaly detection and capacity planning.\n",
    "\n",
    "Holt-Winter’s Exponential Smoothing has 3 major aspects for performing the predictions. It has an average value with the trend and seasonality. The three aspects are 3 types of exponential smoothing and hence the hold winter’s method is also known as triple exponential smoothing.\n",
    "\n",
    "Let us look at each of the aspects in detail.\n",
    "\n",
    "Exponential Smoothing: Simple exponential smoothing as the name suggest is used for forecasting when the data set has no trends or seasonality.\n",
    "\n",
    "Holt’s Smoothing method: Holt’s smoothing technique, also known as linear exponential smoothing, is a widely known smoothing model for forecasting data that has a trend.\n",
    "\n",
    "Winter’s Smoothing method: Winter’s smoothing technique allows us to include seasonality while making the prediction along with the trend.\n",
    "\n",
    "Hence the Holt winter’s method takes into account average along with trend and seasonality while making the time series prediction.\n",
    "\n",
    "\n",
    "#### Refer to the official documentation at [statsmodels](https://www.statsmodels.org/stable/generated/statsmodels.tsa.holtwinters.ExponentialSmoothing.html?highlight=holt%20winters%20expo#statsmodels.tsa.holtwinters.ExponentialSmoothing) for more parameters and information"
   ]
  },
  {
   "cell_type": "code",
   "execution_count": 15,
   "metadata": {
    "id": "486e4dfa"
   },
   "outputs": [],
   "source": [
    "model=ExponentialSmoothing(df[target])\n",
    "result=model.fit()"
   ]
  },
  {
   "cell_type": "markdown",
   "metadata": {
    "id": "34478cdd"
   },
   "source": [
    "### Model Summary\n",
    "\n",
    "After fitting the training data into our Simple Exponential Smoothing and training it, we can take a look at a brief summary of our model by using the **summary()** function. The followings aspects are included in our model summary:\n",
    "\n",
    "1. Basic Model Details: The first column of our summary table contains the basic details regarding our model such as: \n",
    "    \n",
    "        a. Name of dependent variable    \n",
    "        b. Model used along with parameters    \n",
    "        c. Date and time of model deployment    \n",
    "        d. Time Series sample used to train the model\n",
    "    \n",
    "        \n",
    "2. Probablistic Statistical Measures: The second column gives the values of the probablistic measures obtained by our model:\n",
    "    \n",
    "       a. Number of observations\n",
    "   \n",
    "       b. Log-likelihood, which comes from Maximum Likelihood Estimation, a technique for finding or optimizing the\n",
    "       parameters of a model in response to a training dataset.\n",
    "   \n",
    "       c. Standard Deviation of the innovations\n",
    "   \n",
    "       d. Akaike Information Criterion (AIC), which is derived from frequentist probability.\n",
    "   \n",
    "       e. Bayesian Information Criterion (BIC), which is derived from Bayesian probability.\n",
    "   \n",
    "       f. Hannan-Quinn Information Criterion (HQIC), which is an alternative to AIC and is derived using the log-likelihood and \n",
    "       the number of observartions.\n",
    "   \n",
    "   \n",
    "   \n",
    "3. Statistical Measures and Roots: The summary table also consists of certain other statistical measures such as z-value, standard error as well as the information on the characteristic roots of the model."
   ]
  },
  {
   "cell_type": "code",
   "execution_count": 16,
   "metadata": {
    "colab": {
     "base_uri": "https://localhost:8080/",
     "height": 273
    },
    "id": "15ce4a0e",
    "outputId": "6e464ef5-baff-4241-83b1-67f66635cb3c"
   },
   "outputs": [
    {
     "data": {
      "text/html": [
       "<table class=\"simpletable\">\n",
       "<caption>ExponentialSmoothing Model Results</caption>\n",
       "<tr>\n",
       "  <th>Dep. Variable:</th>            <td>sales</td>        <th>  No. Observations:  </th>        <td>48</td>       \n",
       "</tr>\n",
       "<tr>\n",
       "  <th>Model:</th>            <td>ExponentialSmoothing</td> <th>  SSE                </th>  <td>26205959006.959</td>\n",
       "</tr>\n",
       "<tr>\n",
       "  <th>Optimized:</th>                <td>True</td>         <th>  AIC                </th>      <td>969.666</td>    \n",
       "</tr>\n",
       "<tr>\n",
       "  <th>Trend:</th>                    <td>None</td>         <th>  BIC                </th>      <td>973.409</td>    \n",
       "</tr>\n",
       "<tr>\n",
       "  <th>Seasonal:</th>                 <td>None</td>         <th>  AICC               </th>      <td>970.597</td>    \n",
       "</tr>\n",
       "<tr>\n",
       "  <th>Seasonal Periods:</th>         <td>None</td>         <th>  Date:              </th> <td>Mon, 13 Sep 2021</td>\n",
       "</tr>\n",
       "<tr>\n",
       "  <th>Box-Cox:</th>                  <td>False</td>        <th>  Time:              </th>     <td>17:14:48</td>    \n",
       "</tr>\n",
       "<tr>\n",
       "  <th>Box-Cox Coeff.:</th>           <td>None</td>         <th>                     </th>         <td> </td>       \n",
       "</tr>\n",
       "</table>\n",
       "<table class=\"simpletable\">\n",
       "<tr>\n",
       "         <td></td>                 <th>coeff</th>                <th>code</th>               <th>optimized</th>     \n",
       "</tr>\n",
       "<tr>\n",
       "  <th>smoothing_level</th> <td>           0.3273256</td> <td>               alpha</td> <td>                True</td>\n",
       "</tr>\n",
       "<tr>\n",
       "  <th>initial_level</th>   <td>           14236.900</td> <td>                 l.0</td> <td>                True</td>\n",
       "</tr>\n",
       "</table>"
      ],
      "text/plain": [
       "<class 'statsmodels.iolib.summary.Summary'>\n",
       "\"\"\"\n",
       "                       ExponentialSmoothing Model Results                       \n",
       "================================================================================\n",
       "Dep. Variable:                    sales   No. Observations:                   48\n",
       "Model:             ExponentialSmoothing   SSE                    26205959006.959\n",
       "Optimized:                         True   AIC                            969.666\n",
       "Trend:                             None   BIC                            973.409\n",
       "Seasonal:                          None   AICC                           970.597\n",
       "Seasonal Periods:                  None   Date:                 Mon, 13 Sep 2021\n",
       "Box-Cox:                          False   Time:                         17:14:48\n",
       "Box-Cox Coeff.:                    None                                         \n",
       "==============================================================================\n",
       "                       coeff                 code              optimized      \n",
       "------------------------------------------------------------------------------\n",
       "smoothing_level            0.3273256                alpha                 True\n",
       "initial_level              14236.900                  l.0                 True\n",
       "------------------------------------------------------------------------------\n",
       "\"\"\""
      ]
     },
     "execution_count": 16,
     "metadata": {},
     "output_type": "execute_result"
    }
   ],
   "source": [
    "result.summary()"
   ]
  },
  {
   "cell_type": "markdown",
   "metadata": {
    "id": "f4c84b61"
   },
   "source": [
    "#### Simple Forecasting"
   ]
  },
  {
   "cell_type": "code",
   "execution_count": 17,
   "metadata": {
    "colab": {
     "base_uri": "https://localhost:8080/",
     "height": 237
    },
    "id": "d4d8f264",
    "outputId": "de06bc8a-298c-41ce-af42-f0afe8125ad4"
   },
   "outputs": [
    {
     "data": {
      "text/html": [
       "<div>\n",
       "<style scoped>\n",
       "    .dataframe tbody tr th:only-of-type {\n",
       "        vertical-align: middle;\n",
       "    }\n",
       "\n",
       "    .dataframe tbody tr th {\n",
       "        vertical-align: top;\n",
       "    }\n",
       "\n",
       "    .dataframe thead th {\n",
       "        text-align: right;\n",
       "    }\n",
       "</style>\n",
       "<table border=\"1\" class=\"dataframe\">\n",
       "  <thead>\n",
       "    <tr style=\"text-align: right;\">\n",
       "      <th></th>\n",
       "      <th>sales</th>\n",
       "    </tr>\n",
       "    <tr>\n",
       "      <th>date</th>\n",
       "      <th></th>\n",
       "    </tr>\n",
       "  </thead>\n",
       "  <tbody>\n",
       "    <tr>\n",
       "      <th>2016-01-03</th>\n",
       "      <td>58872.35</td>\n",
       "    </tr>\n",
       "    <tr>\n",
       "      <th>2016-01-04</th>\n",
       "      <td>36521.54</td>\n",
       "    </tr>\n",
       "    <tr>\n",
       "      <th>2016-01-05</th>\n",
       "      <td>44261.11</td>\n",
       "    </tr>\n",
       "    <tr>\n",
       "      <th>2016-01-06</th>\n",
       "      <td>52981.73</td>\n",
       "    </tr>\n",
       "    <tr>\n",
       "      <th>2016-01-07</th>\n",
       "      <td>45264.42</td>\n",
       "    </tr>\n",
       "  </tbody>\n",
       "</table>\n",
       "</div>"
      ],
      "text/plain": [
       "               sales\n",
       "date                \n",
       "2016-01-03  58872.35\n",
       "2016-01-04  36521.54\n",
       "2016-01-05  44261.11\n",
       "2016-01-06  52981.73\n",
       "2016-01-07  45264.42"
      ]
     },
     "execution_count": 17,
     "metadata": {},
     "output_type": "execute_result"
    }
   ],
   "source": [
    "df_train.tail()"
   ]
  },
  {
   "cell_type": "markdown",
   "metadata": {
    "id": "d4e59efc"
   },
   "source": [
    "### Predictions\n",
    "\n",
    "By specifying the start and end time for our predictions, we can easily predict the future points in our time series with the help of our model."
   ]
  },
  {
   "cell_type": "code",
   "execution_count": 18,
   "metadata": {
    "colab": {
     "base_uri": "https://localhost:8080/"
    },
    "id": "d2128efc",
    "outputId": "65b1c6e8-19af-4cbf-a12d-0a5dd1d8b533"
   },
   "outputs": [
    {
     "data": {
      "text/plain": [
       "date\n",
       "2016-01-08    47479.681444\n",
       "2016-01-09    52599.449128\n",
       "2016-01-10    64143.306158\n",
       "2016-01-11    68605.936735\n",
       "2016-01-12    84920.463426\n",
       "dtype: float64"
      ]
     },
     "execution_count": 18,
     "metadata": {},
     "output_type": "execute_result"
    }
   ],
   "source": [
    "d = df.drop([target], axis = 1)\n",
    "\n",
    "start_date = d.iloc[size].name\n",
    "end_date = d.iloc[len(df)-1].name\n",
    "\n",
    "df_pred = result.predict(start = start_date, end = end_date)\n",
    "df_pred.head()"
   ]
  },
  {
   "cell_type": "markdown",
   "metadata": {
    "id": "61d8b203"
   },
   "source": [
    "## Model Accuracy\n",
    "\n",
    "We will use the three most popular metrics for model evaluation: Mean absolute error (MAE), Mean squared error (MSE), or Root mean squared error (RMSE)."
   ]
  },
  {
   "cell_type": "code",
   "execution_count": 19,
   "metadata": {
    "colab": {
     "base_uri": "https://localhost:8080/"
    },
    "id": "751d6c83",
    "outputId": "5aacc81f-0014-4351-a93e-caf26bdd577f"
   },
   "outputs": [
    {
     "name": "stdout",
     "output_type": "stream",
     "text": [
      "Mean Absolute Error 23095.01\n",
      "Mean Squared Error 831940641.39\n",
      "Root Mean Squared Error 28843.38\n"
     ]
    }
   ],
   "source": [
    "test = df_test[target]\n",
    "print(\"Mean Absolute Error {:.2f}\".format(mean_absolute_error(test,df_pred)))\n",
    "print(\"Mean Squared Error {:.2f}\".format(mean_squared_error(test,df_pred)))\n",
    "print(\"Root Mean Squared Error {:.2f}\".format(np.sqrt(mean_squared_error(test,df_pred))))"
   ]
  },
  {
   "cell_type": "markdown",
   "metadata": {
    "id": "41a94b8b"
   },
   "source": [
    "## Predictions Plot\n",
    "\n",
    "First we make use of plot to plot the predicted values returned by our model based on the test data.\n",
    "After that we plot the actual test data to compare our predictions."
   ]
  },
  {
   "cell_type": "code",
   "execution_count": 20,
   "metadata": {
    "colab": {
     "base_uri": "https://localhost:8080/",
     "height": 345
    },
    "id": "bdd916b8",
    "outputId": "7f7b8ac0-8be1-47b6-9797-91dc2d6529bc"
   },
   "outputs": [
    {
     "data": {
      "image/png": "[encoded data removed]",
      "text/plain": [
       "<Figure size 1296x360 with 1 Axes>"
      ]
     },
     "metadata": {
      "needs_background": "light"
     },
     "output_type": "display_data"
    }
   ],
   "source": [
    "plt.figure(figsize=(18,5))\n",
    "plt.plot(df_pred[start_date:end_date], color = \"red\")\n",
    "plt.plot(df_test, color = \"blue\")\n",
    "plt.title(\"Predictions vs Actual\", size = 24)\n",
    "plt.plot(fontsize=\"x-large\")\n",
    "\n",
    "plt.show()"
   ]
  },
  {
   "cell_type": "markdown",
   "metadata": {
    "id": "926fc1d0"
   },
   "source": [
    "#### Creator: Shreepad Nade , Github: [Profile](https://github.com/shreepad-nade)\n"
   ]
  }
 ],
 "metadata": {
  "colab": {
   "name": "Simple Exponential Smoothing",
   "provenance": []
  },
  "kernelspec": {
   "display_name": "Python 3",
   "language": "python",
   "name": "python3"
  },
  "language_info": {
   "codemirror_mode": {
    "name": "ipython",
    "version": 3
   },
   "file_extension": ".py",
   "mimetype": "text/x-python",
   "name": "python",
   "nbconvert_exporter": "python",
   "pygments_lexer": "ipython3",
   "version": "3.7.4"
  }
 },
 "nbformat": 4,
 "nbformat_minor": 5
}
