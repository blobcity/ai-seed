{
  "nbformat": 4,
  "nbformat_minor": 0,
  "metadata": {
    "kernelspec": {
      "display_name": "Python 3",
      "language": "python",
      "name": "python3"
    },
    "language_info": {
      "codemirror_mode": {
        "name": "ipython",
        "version": 3
      },
      "file_extension": ".py",
      "mimetype": "text/x-python",
      "name": "python",
      "nbconvert_exporter": "python",
      "pygments_lexer": "ipython3",
      "version": "3.7.6"
    },
    "colab": {
      "name": "RadiusNeighborsRegressor_QuantileTransformer",
      "provenance": [],
      "collapsed_sections": []
    }
  },
  "cells": [
    {
      "cell_type": "markdown",
      "metadata": {
        "id": "NKcxZs0B_bYk"
      },
      "source": [
        "# RadiusNeighborsRegressor with QuantileTransformer\n"
      ]
    },
    {
      "cell_type": "markdown",
      "metadata": {
        "id": "NRlojxOH_bYl"
      },
      "source": [
        "This Code template is for the regression analysis using a Radius Neighbors Regressor with feature transformation technique QuantileTransformer."
      ]
    },
    {
      "cell_type": "markdown",
      "metadata": {
        "id": "SeXgJtmV_bYm"
      },
      "source": [
        "### Required Packages"
      ]
    },
    {
      "cell_type": "code",
      "metadata": {
        "id": "puazpMgn_bYn"
      },
      "source": [
        "import warnings\n",
        "import numpy as np \n",
        "import pandas as pd \n",
        "import seaborn as se \n",
        "import matplotlib.pyplot as plt \n",
        "from sklearn.model_selection import train_test_split \n",
        "from sklearn.pipeline import make_pipeline\n",
        "from sklearn.metrics import r2_score, mean_absolute_error, mean_squared_error \n",
        "from sklearn.neighbors import RadiusNeighborsRegressor\n",
        "from sklearn.preprocessing import QuantileTransformer\n",
        "warnings.filterwarnings('ignore')"
      ],
      "execution_count": 3,
      "outputs": []
    },
    {
      "cell_type": "markdown",
      "metadata": {
        "id": "tbOl142v_bYo"
      },
      "source": [
        "### Initialization\n",
        "\n",
        "Filepath of CSV file"
      ]
    },
    {
      "cell_type": "code",
      "metadata": {
        "id": "oQxqmdOa_bYp"
      },
      "source": [
        "#filepath\n",
        "file_path= \"\""
      ],
      "execution_count": 2,
      "outputs": []
    },
    {
      "cell_type": "markdown",
      "metadata": {
        "id": "-BvsZD7C_bYq"
      },
      "source": [
        "List of features which are  required for model training ."
      ]
    },
    {
      "cell_type": "code",
      "metadata": {
        "id": "RpimNLNQ_bYq"
      },
      "source": [
        "#x_values\n",
        "features = []"
      ],
      "execution_count": 6,
      "outputs": []
    },
    {
      "cell_type": "markdown",
      "metadata": {
        "id": "u7iOa9Xp_bYr"
      },
      "source": [
        "Target feature for prediction."
      ]
    },
    {
      "cell_type": "code",
      "metadata": {
        "id": "NtFQM8-K_bYs"
      },
      "source": [
        "#y_value\n",
        "target=''"
      ],
      "execution_count": 7,
      "outputs": []
    },
    {
      "cell_type": "markdown",
      "metadata": {
        "id": "bP9JqEmi_bYs"
      },
      "source": [
        "### Data Fetching\n",
        "\n",
        "Pandas is an open-source, BSD-licensed library providing high-performance, easy-to-use data manipulation and data analysis tools.\n",
        "\n",
        "We will use panda's library to read the CSV file using its storage path.And we use the head function to display the initial row or entry."
      ]
    },
    {
      "cell_type": "code",
      "metadata": {
        "colab": {
          "base_uri": "https://localhost:8080/",
          "height": 206
        },
        "id": "tzxCYsLO_bYt",
        "outputId": "96b0bd3f-88b0-4ddc-ac68-06ba49b01a82"
      },
      "source": [
        "df=pd.read_csv(file_path)\n",
        "df.head()"
      ],
      "execution_count": 4,
      "outputs": [
        {
          "output_type": "execute_result",
          "data": {
            "text/html": [
              "<div>\n",
              "<style scoped>\n",
              "    .dataframe tbody tr th:only-of-type {\n",
              "        vertical-align: middle;\n",
              "    }\n",
              "\n",
              "    .dataframe tbody tr th {\n",
              "        vertical-align: top;\n",
              "    }\n",
              "\n",
              "    .dataframe thead th {\n",
              "        text-align: right;\n",
              "    }\n",
              "</style>\n",
              "<table border=\"1\" class=\"dataframe\">\n",
              "  <thead>\n",
              "    <tr style=\"text-align: right;\">\n",
              "      <th></th>\n",
              "      <th>age</th>\n",
              "      <th>sex</th>\n",
              "      <th>bmi</th>\n",
              "      <th>children</th>\n",
              "      <th>smoker</th>\n",
              "      <th>region</th>\n",
              "      <th>charges</th>\n",
              "    </tr>\n",
              "  </thead>\n",
              "  <tbody>\n",
              "    <tr>\n",
              "      <th>0</th>\n",
              "      <td>19</td>\n",
              "      <td>female</td>\n",
              "      <td>27.900</td>\n",
              "      <td>0</td>\n",
              "      <td>yes</td>\n",
              "      <td>southwest</td>\n",
              "      <td>16884.92400</td>\n",
              "    </tr>\n",
              "    <tr>\n",
              "      <th>1</th>\n",
              "      <td>18</td>\n",
              "      <td>male</td>\n",
              "      <td>33.770</td>\n",
              "      <td>1</td>\n",
              "      <td>no</td>\n",
              "      <td>southeast</td>\n",
              "      <td>1725.55230</td>\n",
              "    </tr>\n",
              "    <tr>\n",
              "      <th>2</th>\n",
              "      <td>28</td>\n",
              "      <td>male</td>\n",
              "      <td>33.000</td>\n",
              "      <td>3</td>\n",
              "      <td>no</td>\n",
              "      <td>southeast</td>\n",
              "      <td>4449.46200</td>\n",
              "    </tr>\n",
              "    <tr>\n",
              "      <th>3</th>\n",
              "      <td>33</td>\n",
              "      <td>male</td>\n",
              "      <td>22.705</td>\n",
              "      <td>0</td>\n",
              "      <td>no</td>\n",
              "      <td>northwest</td>\n",
              "      <td>21984.47061</td>\n",
              "    </tr>\n",
              "    <tr>\n",
              "      <th>4</th>\n",
              "      <td>32</td>\n",
              "      <td>male</td>\n",
              "      <td>28.880</td>\n",
              "      <td>0</td>\n",
              "      <td>no</td>\n",
              "      <td>northwest</td>\n",
              "      <td>3866.85520</td>\n",
              "    </tr>\n",
              "  </tbody>\n",
              "</table>\n",
              "</div>"
            ],
            "text/plain": [
              "   age     sex     bmi  children smoker     region      charges\n",
              "0   19  female  27.900         0    yes  southwest  16884.92400\n",
              "1   18    male  33.770         1     no  southeast   1725.55230\n",
              "2   28    male  33.000         3     no  southeast   4449.46200\n",
              "3   33    male  22.705         0     no  northwest  21984.47061\n",
              "4   32    male  28.880         0     no  northwest   3866.85520"
            ]
          },
          "metadata": {},
          "execution_count": 4
        }
      ]
    },
    {
      "cell_type": "markdown",
      "metadata": {
        "id": "P1H5Ya4d_bYt"
      },
      "source": [
        "### Feature Selections\n",
        "\n",
        "It is the process of reducing the number of input variables when developing a predictive model. Used to reduce the number of input variables to both reduce the computational cost of modelling and, in some cases, to improve the performance of the model.\n",
        "\n",
        "We will assign all the required input features to X and target/outcome to Y."
      ]
    },
    {
      "cell_type": "code",
      "metadata": {
        "id": "UZdInlyl_bYu"
      },
      "source": [
        "X=df[features]\n",
        "Y=df[target]"
      ],
      "execution_count": 8,
      "outputs": []
    },
    {
      "cell_type": "markdown",
      "metadata": {
        "id": "P0r_sBMg_bYu"
      },
      "source": [
        "### Data Preprocessing\n",
        "\n",
        "Since the majority of the machine learning models in the Sklearn library doesn't handle string category data and Null value, we have to explicitly remove or replace null values. The below snippet have functions, which removes the null value if any exists. And convert the string classes data in the datasets by encoding them to integer classes.\n"
      ]
    },
    {
      "cell_type": "code",
      "metadata": {
        "id": "0vSTb_tp_bYu"
      },
      "source": [
        "def NullClearner(df):\n",
        "    if(isinstance(df, pd.Series) and (df.dtype in [\"float64\",\"int64\"])):\n",
        "        df.fillna(df.mean(),inplace=True)\n",
        "        return df\n",
        "    elif(isinstance(df, pd.Series)):\n",
        "        df.fillna(df.mode()[0],inplace=True)\n",
        "        return df\n",
        "    else:return df\n",
        "def EncodeX(df):\n",
        "    return pd.get_dummies(df)"
      ],
      "execution_count": 9,
      "outputs": []
    },
    {
      "cell_type": "markdown",
      "metadata": {
        "id": "F0xAgDDF_bYv"
      },
      "source": [
        "Calling preprocessing functions on the feature and target set.\n"
      ]
    },
    {
      "cell_type": "code",
      "metadata": {
        "colab": {
          "base_uri": "https://localhost:8080/",
          "height": 206
        },
        "id": "YDy7rTam_bYv",
        "outputId": "9d57a705-cee5-4dc3-941e-dbef7a56af54"
      },
      "source": [
        "x=X.columns.to_list()\n",
        "for i in x:\n",
        "    X[i]=NullClearner(X[i])\n",
        "X=EncodeX(X)\n",
        "Y=NullClearner(Y)\n",
        "X.head()"
      ],
      "execution_count": 10,
      "outputs": [
        {
          "output_type": "execute_result",
          "data": {
            "text/html": [
              "<div>\n",
              "<style scoped>\n",
              "    .dataframe tbody tr th:only-of-type {\n",
              "        vertical-align: middle;\n",
              "    }\n",
              "\n",
              "    .dataframe tbody tr th {\n",
              "        vertical-align: top;\n",
              "    }\n",
              "\n",
              "    .dataframe thead th {\n",
              "        text-align: right;\n",
              "    }\n",
              "</style>\n",
              "<table border=\"1\" class=\"dataframe\">\n",
              "  <thead>\n",
              "    <tr style=\"text-align: right;\">\n",
              "      <th></th>\n",
              "      <th>age</th>\n",
              "      <th>bmi</th>\n",
              "      <th>children</th>\n",
              "      <th>sex_female</th>\n",
              "      <th>sex_male</th>\n",
              "      <th>smoker_no</th>\n",
              "      <th>smoker_yes</th>\n",
              "      <th>region_northeast</th>\n",
              "      <th>region_northwest</th>\n",
              "      <th>region_southeast</th>\n",
              "      <th>region_southwest</th>\n",
              "    </tr>\n",
              "  </thead>\n",
              "  <tbody>\n",
              "    <tr>\n",
              "      <th>0</th>\n",
              "      <td>19</td>\n",
              "      <td>27.900</td>\n",
              "      <td>0</td>\n",
              "      <td>1</td>\n",
              "      <td>0</td>\n",
              "      <td>0</td>\n",
              "      <td>1</td>\n",
              "      <td>0</td>\n",
              "      <td>0</td>\n",
              "      <td>0</td>\n",
              "      <td>1</td>\n",
              "    </tr>\n",
              "    <tr>\n",
              "      <th>1</th>\n",
              "      <td>18</td>\n",
              "      <td>33.770</td>\n",
              "      <td>1</td>\n",
              "      <td>0</td>\n",
              "      <td>1</td>\n",
              "      <td>1</td>\n",
              "      <td>0</td>\n",
              "      <td>0</td>\n",
              "      <td>0</td>\n",
              "      <td>1</td>\n",
              "      <td>0</td>\n",
              "    </tr>\n",
              "    <tr>\n",
              "      <th>2</th>\n",
              "      <td>28</td>\n",
              "      <td>33.000</td>\n",
              "      <td>3</td>\n",
              "      <td>0</td>\n",
              "      <td>1</td>\n",
              "      <td>1</td>\n",
              "      <td>0</td>\n",
              "      <td>0</td>\n",
              "      <td>0</td>\n",
              "      <td>1</td>\n",
              "      <td>0</td>\n",
              "    </tr>\n",
              "    <tr>\n",
              "      <th>3</th>\n",
              "      <td>33</td>\n",
              "      <td>22.705</td>\n",
              "      <td>0</td>\n",
              "      <td>0</td>\n",
              "      <td>1</td>\n",
              "      <td>1</td>\n",
              "      <td>0</td>\n",
              "      <td>0</td>\n",
              "      <td>1</td>\n",
              "      <td>0</td>\n",
              "      <td>0</td>\n",
              "    </tr>\n",
              "    <tr>\n",
              "      <th>4</th>\n",
              "      <td>32</td>\n",
              "      <td>28.880</td>\n",
              "      <td>0</td>\n",
              "      <td>0</td>\n",
              "      <td>1</td>\n",
              "      <td>1</td>\n",
              "      <td>0</td>\n",
              "      <td>0</td>\n",
              "      <td>1</td>\n",
              "      <td>0</td>\n",
              "      <td>0</td>\n",
              "    </tr>\n",
              "  </tbody>\n",
              "</table>\n",
              "</div>"
            ],
            "text/plain": [
              "   age     bmi  children  ...  region_northwest  region_southeast  region_southwest\n",
              "0   19  27.900         0  ...                 0                 0                 1\n",
              "1   18  33.770         1  ...                 0                 1                 0\n",
              "2   28  33.000         3  ...                 0                 1                 0\n",
              "3   33  22.705         0  ...                 1                 0                 0\n",
              "4   32  28.880         0  ...                 1                 0                 0\n",
              "\n",
              "[5 rows x 11 columns]"
            ]
          },
          "metadata": {},
          "execution_count": 10
        }
      ]
    },
    {
      "cell_type": "markdown",
      "metadata": {
        "id": "mqs7QO2p_bYw"
      },
      "source": [
        "#### Correlation Map\n",
        "\n",
        "In order to check the correlation between the features, we will plot a correlation matrix. It is effective in summarizing a large amount of data where the goal is to see patterns."
      ]
    },
    {
      "cell_type": "code",
      "metadata": {
        "colab": {
          "base_uri": "https://localhost:8080/",
          "height": 1000
        },
        "id": "FNTFjE6u_bYw",
        "outputId": "3caaabeb-2352-4466-b704-0fb082b1500d"
      },
      "source": [
        "f,ax = plt.subplots(figsize=(18, 18))\n",
        "matrix = np.triu(X.corr())\n",
        "se.heatmap(X.corr(), annot=True, linewidths=.5, fmt= '.1f',ax=ax, mask=matrix)\n",
        "plt.show()"
      ],
      "execution_count": 11,
      "outputs": [
        {
          "output_type": "display_data",
          "data": {
            "image/png": "[encoded data removed]",
            "text/plain": [
              "<Figure size 1296x1296 with 2 Axes>"
            ]
          },
          "metadata": {
            "needs_background": "light"
          }
        }
      ]
    },
    {
      "cell_type": "markdown",
      "metadata": {
        "id": "utIch_5M_bYw"
      },
      "source": [
        "### Data Splitting\n",
        "\n",
        "The train-test split is a procedure for evaluating the performance of an algorithm. The procedure involves taking a dataset and dividing it into two subsets. The first subset is utilized to fit/train the model. The second subset is used for prediction. The main motive is to estimate the performance of the model on new data."
      ]
    },
    {
      "cell_type": "code",
      "metadata": {
        "id": "Dd65jAWK_bYw"
      },
      "source": [
        "x_train,x_test,y_train,y_test=train_test_split(X,Y,test_size=0.2,random_state=123)"
      ],
      "execution_count": 12,
      "outputs": []
    },
    {
      "cell_type": "markdown",
      "metadata": {
        "id": "HCnsT2mG_bYx"
      },
      "source": [
        "### Model\n",
        "\n",
        "RadiusNeighborsRegressor implements learning based on the neighbors within a fixed radius of the query point, where is a floating-point value specified by the user."
      ]
    },
    {
      "cell_type": "markdown",
      "metadata": {
        "id": "KJAqed1f_bYx"
      },
      "source": [
        "#### Tuning parameters"
      ]
    },
    {
      "cell_type": "markdown",
      "metadata": {
        "id": "qv8ac1ZA_bYx"
      },
      "source": [
        "> radius: Range of parameter space to use by default for radius_neighbors queries.\n",
        "\n",
        "> algorithm: Algorithm used to compute the nearest neighbors:\n",
        "\n",
        "> leaf_size: Leaf size passed to BallTree or KDTree.\n",
        "\n",
        "> p: Power parameter for the Minkowski metric.\n",
        "\n",
        "> metric: the distance metric to use for the tree.\n",
        "\n",
        "> outlier_label: label for outlier samples"
      ]
    },
    {
      "cell_type": "markdown",
      "metadata": {
        "id": "nQwYBIj-_bYy"
      },
      "source": [
        "#### Feature Transformation\n",
        "####  QuantileTransformer"
      ]
    },
    {
      "cell_type": "markdown",
      "metadata": {
        "id": "2ea4dpOL_bYy"
      },
      "source": [
        "Apply a power transform featurewise to make data more Gaussian-like.\n",
        "\n",
        "Quantile Transformer transforms the features to follow a uniform or a normal distribution. Therefore, for a given feature, this transformation tends to spread out the most frequent values. It also reduces the impact of (marginal) outliers: this is therefore a robust preprocessing scheme.\n",
        "\n",
        "https://scikit-learn.org/stable/modules/generated/sklearn.preprocessing.QuantileTransformer.html"
      ]
    },
    {
      "cell_type": "code",
      "metadata": {
        "colab": {
          "base_uri": "https://localhost:8080/"
        },
        "id": "OuIYoArG_bYz",
        "outputId": "516d763b-b7b0-4c94-b4bb-2ada262a7d7b"
      },
      "source": [
        "model=make_pipeline(QuantileTransformer(),RadiusNeighborsRegressor())\n",
        "model.fit(x_train,y_train)"
      ],
      "execution_count": 18,
      "outputs": [
        {
          "output_type": "execute_result",
          "data": {
            "text/plain": [
              "Pipeline(memory=None,\n",
              "         steps=[('quantiletransformer',\n",
              "                 QuantileTransformer(copy=True, ignore_implicit_zeros=False,\n",
              "                                     n_quantiles=1000,\n",
              "                                     output_distribution='uniform',\n",
              "                                     random_state=None, subsample=100000)),\n",
              "                ('radiusneighborsregressor',\n",
              "                 RadiusNeighborsRegressor(algorithm='auto', leaf_size=30,\n",
              "                                          metric='minkowski',\n",
              "                                          metric_params=None, n_jobs=None, p=2,\n",
              "                                          radius=1.0, weights='uniform'))],\n",
              "         verbose=False)"
            ]
          },
          "metadata": {},
          "execution_count": 18
        }
      ]
    },
    {
      "cell_type": "markdown",
      "metadata": {
        "id": "5yfQDmPD_bYz"
      },
      "source": [
        "#### Model Accuracy\n",
        "\n",
        "We will use the trained model to make a prediction on the test set.Then use the predicted value for measuring the accuracy of our model.\n",
        "\n",
        "score: The score function returns the coefficient of determination R2 of the prediction.\n"
      ]
    },
    {
      "cell_type": "code",
      "metadata": {
        "colab": {
          "base_uri": "https://localhost:8080/"
        },
        "id": "CTHTFEbp_bYz",
        "outputId": "636058f8-699b-4ddc-a06e-830c63abe584"
      },
      "source": [
        "print(\"Accuracy score {:.2f} %\\n\".format(model.score(x_test,y_test)*100))"
      ],
      "execution_count": 19,
      "outputs": [
        {
          "output_type": "stream",
          "name": "stdout",
          "text": [
            "Accuracy score 74.13 %\n",
            "\n"
          ]
        }
      ]
    },
    {
      "cell_type": "markdown",
      "metadata": {
        "id": "is6zX1bp_bY0"
      },
      "source": [
        "> **r2_score**: The **r2_score** function computes the percentage variablility explained by our model, either the fraction or the count of correct predictions.  \n",
        "\n",
        "> **mae**: The **mean abosolute error** function calculates the amount of total error(absolute average distance between the real data and the predicted data) by our model.  \n",
        "\n",
        "> **mse**: The **mean squared error** function squares the error(penalizes the model for large errors) by our model. "
      ]
    },
    {
      "cell_type": "code",
      "metadata": {
        "colab": {
          "base_uri": "https://localhost:8080/"
        },
        "id": "Sj03ruRP_bY0",
        "outputId": "73ed6c82-6e89-447b-858c-779db932b355"
      },
      "source": [
        "y_pred=model.predict(x_test)\n",
        "print(\"R2 Score: {:.2f} %\".format(r2_score(y_test,y_pred)*100))\n",
        "print(\"Mean Absolute Error {:.2f}\".format(mean_absolute_error(y_test,y_pred)))\n",
        "print(\"Mean Squared Error {:.2f}\".format(mean_squared_error(y_test,y_pred)))"
      ],
      "execution_count": 20,
      "outputs": [
        {
          "output_type": "stream",
          "name": "stdout",
          "text": [
            "R2 Score: 74.13 %\n",
            "Mean Absolute Error 4781.06\n",
            "Mean Squared Error 39555905.66\n"
          ]
        }
      ]
    },
    {
      "cell_type": "markdown",
      "metadata": {
        "id": "8UeV25Nf_bY0"
      },
      "source": [
        "#### Prediction Plot\n",
        "\n",
        "First, we make use of a plot to plot the actual observations, with x_train on the x-axis and y_train on the y-axis.\n",
        "For the regression line, we will use x_train on the x-axis and then the predictions of the x_train observations on the y-axis."
      ]
    },
    {
      "cell_type": "code",
      "metadata": {
        "colab": {
          "base_uri": "https://localhost:8080/",
          "height": 621
        },
        "id": "EJqJ7qe0_bY1",
        "outputId": "d739be4f-297e-44a1-f00d-4a140ead40dc"
      },
      "source": [
        "plt.figure(figsize=(14,10))\n",
        "plt.plot(range(20),y_test[0:20], color = \"green\")\n",
        "plt.plot(range(20),y_pred[0:20], color = \"red\")\n",
        "plt.legend([\"Actual\",\"prediction\"]) \n",
        "plt.title(\"Predicted vs True Value\")\n",
        "plt.xlabel(\"Record number\")\n",
        "plt.ylabel(target)\n",
        "plt.show()"
      ],
      "execution_count": 21,
      "outputs": [
        {
          "output_type": "display_data",
          "data": {
            "image/png": "[encoded data removed]",
            "text/plain": [
              "<Figure size 1008x720 with 1 Axes>"
            ]
          },
          "metadata": {
            "needs_background": "light"
          }
        }
      ]
    },
    {
      "cell_type": "markdown",
      "metadata": {
        "id": "hUPewx0k_bY1"
      },
      "source": [
        "#### Creator: Arpit Somani , Github: [Profile](https://github.com/arpitsomani8)"
      ]
    }
  ]
}