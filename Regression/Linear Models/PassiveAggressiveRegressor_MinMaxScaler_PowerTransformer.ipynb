{
  "nbformat": 4,
  "nbformat_minor": 2,
  "metadata": {
    "interpreter": {
      "hash": "51a9663a131f1b5758c45b97a2d6917c8ae86b33e231c3733631cbc7265cfc89"
    },
    "kernelspec": {
      "display_name": "Python 3",
      "language": "python",
      "name": "python3"
    },
    "language_info": {
      "codemirror_mode": {
        "name": "ipython",
        "version": 3
      },
      "file_extension": ".py",
      "mimetype": "text/x-python",
      "name": "python",
      "nbconvert_exporter": "python",
      "pygments_lexer": "ipython3",
      "version": "3.7.3"
    },
    "colab": {
      "name": "PassiveAggressiveRegressor_MinMaxScaler_PowerTransformer.ipynb",
      "provenance": []
    }
  },
  "cells": [
    {
      "cell_type": "markdown",
      "source": [
        "# PassiveAggressiveRegressor with MinMaxScaler & PowerTransformer\n"
      ],
      "metadata": {
        "id": "zv2cc6Evk4it"
      }
    },
    {
      "cell_type": "markdown",
      "source": [
        "This Code template is for the regression analysis using a PassiveAggressive Regression and the feature rescaling technique MinMaxScaler along with Power Transformer as a feature transformation technique in a pipeline"
      ],
      "metadata": {
        "id": "Ym_teCI6k4iv"
      }
    },
    {
      "cell_type": "markdown",
      "source": [
        "### Required Packages"
      ],
      "metadata": {
        "id": "qUEoTlMnk4iw"
      }
    },
    {
      "cell_type": "code",
      "execution_count": 1,
      "source": [
        "import warnings as wr\r\n",
        "import numpy as np \r\n",
        "import pandas as pd \r\n",
        "import seaborn as sns\r\n",
        "import matplotlib.pyplot as plt \r\n",
        "from sklearn.preprocessing import LabelEncoder\r\n",
        "from sklearn.pipeline import make_pipeline\r\n",
        "from sklearn.preprocessing import MinMaxScaler,PowerTransformer\r\n",
        "from sklearn.model_selection import train_test_split \r\n",
        "from sklearn.linear_model import PassiveAggressiveRegressor\r\n",
        "from sklearn.metrics import mean_squared_error, r2_score,mean_absolute_error\r\n",
        "wr.filterwarnings('ignore')"
      ],
      "outputs": [],
      "metadata": {
        "id": "royM_N3yk4ix"
      }
    },
    {
      "cell_type": "markdown",
      "source": [
        "### Initialization\n",
        "\n",
        "Filepath of CSV file"
      ],
      "metadata": {
        "id": "Zqv0Na4yk4ix"
      }
    },
    {
      "cell_type": "code",
      "execution_count": 2,
      "source": [
        "#filepath\r\n",
        "file_path= \"\""
      ],
      "outputs": [],
      "metadata": {
        "id": "3_T3qYqOk4iz"
      }
    },
    {
      "cell_type": "markdown",
      "source": [
        "List of features which are  required for model training ."
      ],
      "metadata": {
        "id": "9fx1XcIDk4iz"
      }
    },
    {
      "cell_type": "code",
      "execution_count": 3,
      "source": [
        "#x_values\r\n",
        "features=[]"
      ],
      "outputs": [],
      "metadata": {
        "id": "yE8wLqk_k4iz"
      }
    },
    {
      "cell_type": "markdown",
      "source": [
        "Target feature for prediction."
      ],
      "metadata": {
        "id": "jltsN6Azk4i0"
      }
    },
    {
      "cell_type": "code",
      "execution_count": 4,
      "source": [
        "#y_value\r\n",
        "target=''"
      ],
      "outputs": [],
      "metadata": {
        "id": "yvy_i0eYk4i0"
      }
    },
    {
      "cell_type": "markdown",
      "source": [
        "### Data Fetching\n",
        "\n",
        "Pandas is an open-source, BSD-licensed library providing high-performance, easy-to-use data manipulation and data analysis tools.\n",
        "\n",
        "We will use panda's library to read the CSV file using its storage path.And we use the head function to display the initial row or entry."
      ],
      "metadata": {
        "id": "zp22PqiLk4i0"
      }
    },
    {
      "cell_type": "code",
      "execution_count": 5,
      "source": [
        "df=pd.read_csv(file_path) #reading file\r\n",
        "df.head()#displaying initial entries"
      ],
      "outputs": [
        {
          "output_type": "execute_result",
          "data": {
            "text/plain": [
              "      AT      V       AP     RH      PE\n",
              "0  14.96  41.76  1024.07  73.17  463.26\n",
              "1  25.18  62.96  1020.04  59.08  444.37\n",
              "2   5.11  39.40  1012.16  92.14  488.56\n",
              "3  20.86  57.32  1010.24  76.64  446.48\n",
              "4  10.82  37.50  1009.23  96.62  473.90"
            ],
            "text/html": [
              "<div>\n",
              "<style scoped>\n",
              "    .dataframe tbody tr th:only-of-type {\n",
              "        vertical-align: middle;\n",
              "    }\n",
              "\n",
              "    .dataframe tbody tr th {\n",
              "        vertical-align: top;\n",
              "    }\n",
              "\n",
              "    .dataframe thead th {\n",
              "        text-align: right;\n",
              "    }\n",
              "</style>\n",
              "<table border=\"1\" class=\"dataframe\">\n",
              "  <thead>\n",
              "    <tr style=\"text-align: right;\">\n",
              "      <th></th>\n",
              "      <th>AT</th>\n",
              "      <th>V</th>\n",
              "      <th>AP</th>\n",
              "      <th>RH</th>\n",
              "      <th>PE</th>\n",
              "    </tr>\n",
              "  </thead>\n",
              "  <tbody>\n",
              "    <tr>\n",
              "      <th>0</th>\n",
              "      <td>14.96</td>\n",
              "      <td>41.76</td>\n",
              "      <td>1024.07</td>\n",
              "      <td>73.17</td>\n",
              "      <td>463.26</td>\n",
              "    </tr>\n",
              "    <tr>\n",
              "      <th>1</th>\n",
              "      <td>25.18</td>\n",
              "      <td>62.96</td>\n",
              "      <td>1020.04</td>\n",
              "      <td>59.08</td>\n",
              "      <td>444.37</td>\n",
              "    </tr>\n",
              "    <tr>\n",
              "      <th>2</th>\n",
              "      <td>5.11</td>\n",
              "      <td>39.40</td>\n",
              "      <td>1012.16</td>\n",
              "      <td>92.14</td>\n",
              "      <td>488.56</td>\n",
              "    </tr>\n",
              "    <tr>\n",
              "      <th>3</th>\n",
              "      <td>20.86</td>\n",
              "      <td>57.32</td>\n",
              "      <td>1010.24</td>\n",
              "      <td>76.64</td>\n",
              "      <td>446.48</td>\n",
              "    </tr>\n",
              "    <tr>\n",
              "      <th>4</th>\n",
              "      <td>10.82</td>\n",
              "      <td>37.50</td>\n",
              "      <td>1009.23</td>\n",
              "      <td>96.62</td>\n",
              "      <td>473.90</td>\n",
              "    </tr>\n",
              "  </tbody>\n",
              "</table>\n",
              "</div>"
            ]
          },
          "metadata": {},
          "execution_count": 5
        }
      ],
      "metadata": {
        "colab": {
          "base_uri": "https://localhost:8080/",
          "height": 204
        },
        "id": "my55zo76k4i0",
        "outputId": "6bd88b53-f296-42b6-be6f-a7bdeb806377"
      }
    },
    {
      "cell_type": "code",
      "execution_count": 6,
      "source": [
        "print('Number of rows are :',df.shape[0], ',and number of columns are :',df.shape[1])"
      ],
      "outputs": [
        {
          "output_type": "stream",
          "name": "stdout",
          "text": [
            "Number of rows are : 9568 ,and number of columns are : 5\n"
          ]
        }
      ],
      "metadata": {
        "colab": {
          "base_uri": "https://localhost:8080/"
        },
        "id": "vsyrvyKlk4i1",
        "outputId": "dacc6203-f8fb-4198-f441-974046464b58"
      }
    },
    {
      "cell_type": "code",
      "execution_count": 7,
      "source": [
        "df.columns.tolist()\r\n"
      ],
      "outputs": [
        {
          "output_type": "execute_result",
          "data": {
            "text/plain": [
              "['AT', 'V', 'AP', 'RH', 'PE']"
            ]
          },
          "metadata": {},
          "execution_count": 7
        }
      ],
      "metadata": {
        "colab": {
          "base_uri": "https://localhost:8080/"
        },
        "id": "WNzFKZQek4i2",
        "outputId": "8f47572d-698d-4604-e4e5-e00d9ff4243e"
      }
    },
    {
      "cell_type": "markdown",
      "source": [
        "### Data Preprocessing\n",
        "\n",
        "Since the majority of the machine learning models in the Sklearn library doesn't handle string category data and Null value, we have to explicitly remove or replace null values. The below snippet have functions, which removes the null value if any exists. And convert the string classes data in the datasets by encoding them to integer classes.\n"
      ],
      "metadata": {
        "id": "WT7QYswbk4i2"
      }
    },
    {
      "cell_type": "code",
      "execution_count": 8,
      "source": [
        "def NullClearner(df):\r\n",
        "    if(isinstance(df, pd.Series) and (df.dtype in [\"float64\",\"int64\"])):\r\n",
        "        df.fillna(df.mean(),inplace=True)\r\n",
        "        return df\r\n",
        "    elif(isinstance(df, pd.Series)):\r\n",
        "        df.fillna(df.mode()[0],inplace=True)\r\n",
        "        return df\r\n",
        "    else:return df\r\n",
        "def EncodeX(df):\r\n",
        "    return pd.get_dummies(df)"
      ],
      "outputs": [],
      "metadata": {
        "id": "2OcwGTEhk4i2"
      }
    },
    {
      "cell_type": "markdown",
      "source": [
        "#### Correlation Map\n",
        "\n",
        "In order to check the correlation between the features, we will plot a correlation matrix. It is effective in summarizing a large amount of data where the goal is to see patterns."
      ],
      "metadata": {
        "id": "ihXP8eipk4i3"
      }
    },
    {
      "cell_type": "code",
      "execution_count": 9,
      "source": [
        "plt.figure(figsize = (15, 10))\r\n",
        "corr = df.corr()\r\n",
        "mask = np.triu(np.ones_like(corr, dtype = bool))\r\n",
        "sns.heatmap(corr, mask = mask, linewidths = 1, annot = True, fmt = \".2f\")\r\n",
        "plt.show()"
      ],
      "outputs": [
        {
          "output_type": "display_data",
          "data": {
            "text/plain": [
              "<Figure size 1080x720 with 2 Axes>"
            ],
            "image/png": "[encoded data removed]"
          },
          "metadata": {
            "needs_background": "light"
          }
        }
      ],
      "metadata": {
        "colab": {
          "base_uri": "https://localhost:8080/",
          "height": 592
        },
        "id": "3tbdYogGk4i3",
        "outputId": "aed265a6-3d72-47e6-9c2a-0ad5d1c40478"
      }
    },
    {
      "cell_type": "code",
      "execution_count": 10,
      "source": [
        "correlation = df[df.columns[1:]].corr()[target][:]\r\n",
        "correlation"
      ],
      "outputs": [
        {
          "output_type": "execute_result",
          "data": {
            "text/plain": [
              "V    -0.869780\n",
              "AP    0.518429\n",
              "RH    0.389794\n",
              "PE    1.000000\n",
              "Name: PE, dtype: float64"
            ]
          },
          "metadata": {},
          "execution_count": 10
        }
      ],
      "metadata": {
        "colab": {
          "base_uri": "https://localhost:8080/"
        },
        "id": "y8RyGg6wk4i3",
        "outputId": "7fd50461-f09b-4554-d939-92b8630bd981"
      }
    },
    {
      "cell_type": "markdown",
      "source": [
        "### Feature Selections\n",
        "\n",
        "It is the process of reducing the number of input variables when developing a predictive model. Used to reduce the number of input variables to both reduce the computational cost of modelling and, in some cases, to improve the performance of the model.\n",
        "\n",
        "We will assign all the required input features to X and target/outcome to Y."
      ],
      "metadata": {
        "id": "lZ6Ra-23k4i4"
      }
    },
    {
      "cell_type": "code",
      "execution_count": 11,
      "source": [
        "#spliting data into X(features) and Y(Target)\r\n",
        "\r\n",
        "X=df[features]\r\n",
        "Y=df[target]  "
      ],
      "outputs": [],
      "metadata": {
        "id": "Ufuu6OD3k4i4"
      }
    },
    {
      "cell_type": "markdown",
      "source": [
        "Calling preprocessing functions on the feature and target set."
      ],
      "metadata": {
        "id": "uObZK-ack4i5"
      }
    },
    {
      "cell_type": "code",
      "execution_count": 12,
      "source": [
        "x=X.columns.to_list()\r\n",
        "for i in x:\r\n",
        "    X[i]=NullClearner(X[i])\r\n",
        "X=EncodeX(X)\r\n",
        "Y=NullClearner(Y)\r\n",
        "X.head()"
      ],
      "outputs": [
        {
          "output_type": "execute_result",
          "data": {
            "text/plain": [
              "      AT      V       AP     RH\n",
              "0  14.96  41.76  1024.07  73.17\n",
              "1  25.18  62.96  1020.04  59.08\n",
              "2   5.11  39.40  1012.16  92.14\n",
              "3  20.86  57.32  1010.24  76.64\n",
              "4  10.82  37.50  1009.23  96.62"
            ],
            "text/html": [
              "<div>\n",
              "<style scoped>\n",
              "    .dataframe tbody tr th:only-of-type {\n",
              "        vertical-align: middle;\n",
              "    }\n",
              "\n",
              "    .dataframe tbody tr th {\n",
              "        vertical-align: top;\n",
              "    }\n",
              "\n",
              "    .dataframe thead th {\n",
              "        text-align: right;\n",
              "    }\n",
              "</style>\n",
              "<table border=\"1\" class=\"dataframe\">\n",
              "  <thead>\n",
              "    <tr style=\"text-align: right;\">\n",
              "      <th></th>\n",
              "      <th>AT</th>\n",
              "      <th>V</th>\n",
              "      <th>AP</th>\n",
              "      <th>RH</th>\n",
              "    </tr>\n",
              "  </thead>\n",
              "  <tbody>\n",
              "    <tr>\n",
              "      <th>0</th>\n",
              "      <td>14.96</td>\n",
              "      <td>41.76</td>\n",
              "      <td>1024.07</td>\n",
              "      <td>73.17</td>\n",
              "    </tr>\n",
              "    <tr>\n",
              "      <th>1</th>\n",
              "      <td>25.18</td>\n",
              "      <td>62.96</td>\n",
              "      <td>1020.04</td>\n",
              "      <td>59.08</td>\n",
              "    </tr>\n",
              "    <tr>\n",
              "      <th>2</th>\n",
              "      <td>5.11</td>\n",
              "      <td>39.40</td>\n",
              "      <td>1012.16</td>\n",
              "      <td>92.14</td>\n",
              "    </tr>\n",
              "    <tr>\n",
              "      <th>3</th>\n",
              "      <td>20.86</td>\n",
              "      <td>57.32</td>\n",
              "      <td>1010.24</td>\n",
              "      <td>76.64</td>\n",
              "    </tr>\n",
              "    <tr>\n",
              "      <th>4</th>\n",
              "      <td>10.82</td>\n",
              "      <td>37.50</td>\n",
              "      <td>1009.23</td>\n",
              "      <td>96.62</td>\n",
              "    </tr>\n",
              "  </tbody>\n",
              "</table>\n",
              "</div>"
            ]
          },
          "metadata": {},
          "execution_count": 12
        }
      ],
      "metadata": {
        "colab": {
          "base_uri": "https://localhost:8080/",
          "height": 204
        },
        "id": "ifuUDySZk4i5",
        "outputId": "cde91f18-5b6a-4e1a-a89c-66b8ce0b8a46"
      }
    },
    {
      "cell_type": "markdown",
      "source": [
        "### Data Splitting\n",
        "\n",
        "The train-test split is a procedure for evaluating the performance of an algorithm. The procedure involves taking a dataset and dividing it into two subsets. The first subset is utilized to fit/train the model. The second subset is used for prediction. The main motive is to estimate the performance of the model on new data."
      ],
      "metadata": {
        "id": "J8bQbb8ik4i5"
      }
    },
    {
      "cell_type": "code",
      "execution_count": 13,
      "source": [
        "#we can choose randomstate and test_size as over requerment\r\n",
        "X_train, X_test, y_train, y_test = train_test_split(X, Y, test_size = 0.2, random_state = 1) #performing datasplitting"
      ],
      "outputs": [],
      "metadata": {
        "id": "Vpleeg6wk4i6"
      }
    },
    {
      "cell_type": "markdown",
      "source": [
        "\r\n",
        "### Data Rescaling\r\n",
        "MinMaxScaler subtracts the minimum value in the feature and then divides by the range, where range is the difference between the original maximum and original minimum.\r\n",
        "\r\n",
        "We will fit an object of MinMaxScaler to train data then transform the same data via fit_transform(X_train) method, following which we will transform test data via transform(X_test) method.\r\n",
        "\r\n",
        "### Feature Transformation\r\n",
        "Apply a power transform featurewise to make data more Gaussian-like.\r\n",
        "\r\n",
        "Power transforms are a family of parametric, monotonic transformations that are applied to make data more Gaussian-like. This is useful for modeling issues related to heteroscedasticity (non-constant variance), or other situations where normality is desired.\r\n",
        "\r\n",
        "## Model\r\n",
        "**passive-aggressive regressor**\r\n",
        "\r\n",
        "The passive-aggressive algorithms are a family of algorithms for large-scale learning. They are similar to the Perceptron in that they do not require a learning rate. However, contrary to the Perceptron, they include a regularization parameter C\r\n",
        "\r\n",
        "* **C ->** Maximum step size (regularization). Defaults to 1.0.\r\n",
        "\r\n",
        "* **max_iter ->** The maximum number of passes over the training data (aka epochs). It only impacts the behavior in the fit method, and not the partial_fit method.\r\n",
        "\r\n",
        "* **tol->** The stopping criterion. If it is not None, the iterations will stop when (loss > previous_loss - tol).\r\n",
        "\r\n",
        "* **early_stopping->** Whether to use early stopping to terminate training when validation. score is not improving. If set to True, it will automatically set aside a fraction of training data as validation and terminate training when validation score is not improving by at least tol for n_iter_no_change consecutive epochs.\r\n",
        "\r\n",
        "* **validation_fraction->** The proportion of training data to set aside as validation set for early stopping. Must be between 0 and 1. Only used if early_stopping is True.\r\n",
        "\r\n",
        "* **n_iter_no_change->** Number of iterations with no improvement to wait before early stopping.\r\n",
        "\r\n",
        "* **shuffle->** Whether or not the training data should be shuffled after each epoch.\r\n",
        "\r\n",
        "* **loss->** The loss function to be used: epsilon_insensitive: equivalent to PA-I in the reference paper. squared_epsilon_insensitive: equivalent to PA-II in the reference paper.\r\n",
        "\r\n",
        "* **epsilon->** If the difference between the current prediction and the correct label is below this threshold, the model is not updated.\r\n"
      ],
      "metadata": {
        "id": "pK-InvKtk4i6"
      }
    },
    {
      "cell_type": "code",
      "execution_count": 14,
      "source": [
        "#training the PassiveAggressiveRegressor\r\n",
        "\r\n",
        "model = make_pipeline(MinMaxScaler(),PowerTransformer(),PassiveAggressiveRegressor(random_state=1))\r\n",
        "model.fit(X_train,y_train)"
      ],
      "outputs": [
        {
          "output_type": "execute_result",
          "data": {
            "text/plain": [
              "Pipeline(memory=None,\n",
              "         steps=[('minmaxscaler', MinMaxScaler(copy=True, feature_range=(0, 1))),\n",
              "                ('powertransformer',\n",
              "                 PowerTransformer(copy=True, method='yeo-johnson',\n",
              "                                  standardize=True)),\n",
              "                ('passiveaggressiveregressor',\n",
              "                 PassiveAggressiveRegressor(C=1.0, average=False,\n",
              "                                            early_stopping=False, epsilon=0.1,\n",
              "                                            fit_intercept=True,\n",
              "                                            loss='epsilon_insensitive',\n",
              "                                            max_iter=1000, n_iter_no_change=5,\n",
              "                                            random_state=1, shuffle=True,\n",
              "                                            tol=0.001, validation_fraction=0.1,\n",
              "                                            verbose=0, warm_start=False))],\n",
              "         verbose=False)"
            ]
          },
          "metadata": {},
          "execution_count": 14
        }
      ],
      "metadata": {
        "colab": {
          "base_uri": "https://localhost:8080/"
        },
        "id": "qBeMkicCk4i6",
        "outputId": "b6406ac2-b18c-4cfc-a0e3-46a3266f4e7f"
      }
    },
    {
      "cell_type": "markdown",
      "source": [
        "#### Model Accuracy\n",
        "score() method return the mean accuracy on the given test data and labels.\n",
        "\n",
        "In multi-label classification, this is the subset accuracy which is a harsh metric since you require for each sample that each label set be correctly predicted."
      ],
      "metadata": {
        "id": "_uJy973Hk4i7"
      }
    },
    {
      "cell_type": "code",
      "execution_count": 15,
      "source": [
        "print(\"Accuracy score {:.2f} %\\n\".format(model.score(X_test,y_test)*100))"
      ],
      "outputs": [
        {
          "output_type": "stream",
          "name": "stdout",
          "text": [
            "Accuracy score 92.12 %\n",
            "\n"
          ]
        }
      ],
      "metadata": {
        "colab": {
          "base_uri": "https://localhost:8080/"
        },
        "id": "bn0yT9Mhk4i7",
        "outputId": "3393c266-034b-4a5d-9276-03bef4fdb830"
      }
    },
    {
      "cell_type": "code",
      "execution_count": 16,
      "source": [
        "#prediction on testing set\r\n",
        "prediction=model.predict(X_test)"
      ],
      "outputs": [],
      "metadata": {
        "id": "pudITVbxk4i7"
      }
    },
    {
      "cell_type": "markdown",
      "source": [
        "### Model evolution\n",
        "\n",
        "\n",
        "**r2_score:** The r2_score function computes the percentage variablility explained by our model, either the fraction or the count of correct predictions.\n",
        "\n",
        "**MAE:** The mean abosolute error function calculates the amount of total error(absolute average distance between the real data and the predicted data) by our model.\n",
        "\n",
        "**MSE:** The mean squared error function squares the error(penalizes the model for large errors) by our model."
      ],
      "metadata": {
        "id": "6pSAeXyfk4i8"
      }
    },
    {
      "cell_type": "code",
      "execution_count": 17,
      "source": [
        "print('Mean Absolute Error:', mean_absolute_error(y_test, prediction))  \r\n",
        "print('Mean Squared Error:', mean_squared_error(y_test, prediction))  \r\n",
        "print('Root Mean Squared Error:', np.sqrt(mean_squared_error(y_test, prediction)))"
      ],
      "outputs": [
        {
          "output_type": "stream",
          "name": "stdout",
          "text": [
            "Mean Absolute Error: 3.932915134874886\n",
            "Mean Squared Error: 23.6173921192437\n",
            "Root Mean Squared Error: 4.859772846465532\n"
          ]
        }
      ],
      "metadata": {
        "colab": {
          "base_uri": "https://localhost:8080/"
        },
        "id": "-INV0xOUk4i8",
        "outputId": "d8212f7f-7f70-4c6d-cedf-69bad340b784"
      }
    },
    {
      "cell_type": "code",
      "execution_count": 18,
      "source": [
        "print(\"R-squared score : \",r2_score(y_test,prediction))"
      ],
      "outputs": [
        {
          "output_type": "stream",
          "name": "stdout",
          "text": [
            "R-squared score :  0.9212203466883644\n"
          ]
        }
      ],
      "metadata": {
        "colab": {
          "base_uri": "https://localhost:8080/"
        },
        "id": "M6HnyWFMk4i8",
        "outputId": "67480ae3-902e-4914-82db-4e3469a4e899"
      }
    },
    {
      "cell_type": "code",
      "execution_count": 19,
      "source": [
        "#ploting actual and predicted\r\n",
        "red = plt.scatter(np.arange(0,80,5),prediction[0:80:5],color = \"red\")\r\n",
        "green = plt.scatter(np.arange(0,80,5),y_test[0:80:5],color = \"green\")\r\n",
        "plt.title(\"Comparison of Regression Algorithms\")\r\n",
        "plt.xlabel(\"Index of Candidate\")\r\n",
        "plt.ylabel(\"target\")\r\n",
        "plt.legend((red,green),('PassiveAggressiveRegressor', 'REAL'))\r\n",
        "plt.show()\r\n"
      ],
      "outputs": [
        {
          "output_type": "display_data",
          "data": {
            "text/plain": [
              "<Figure size 432x288 with 1 Axes>"
            ],
            "image/png": "[encoded data removed]"
          },
          "metadata": {
            "needs_background": "light"
          }
        }
      ],
      "metadata": {
        "colab": {
          "base_uri": "https://localhost:8080/",
          "height": 295
        },
        "id": "8U7eO40qk4i9",
        "outputId": "7e34f29d-f0fc-4f1f-c431-d4768622f420"
      }
    },
    {
      "cell_type": "markdown",
      "source": [
        "### Prediction Plot\n",
        "First, we make use of a plot to plot the actual observations, with x_train on the x-axis and y_train on the y-axis. For the regression line, we will use x_train on the x-axis and then the predictions of the x_train observations on the y-axis."
      ],
      "metadata": {
        "id": "0Zz7zMsJk4i9"
      }
    },
    {
      "cell_type": "code",
      "execution_count": 20,
      "source": [
        "plt.figure(figsize=(10,6))\r\n",
        "plt.plot(range(20),y_test[0:20], color = \"green\")\r\n",
        "plt.plot(range(20),model.predict(X_test[0:20]), color = \"red\")\r\n",
        "plt.legend([\"Actual\",\"prediction\"]) \r\n",
        "plt.title(\"Predicted vs True Value\")\r\n",
        "plt.xlabel(\"Record number\")\r\n",
        "plt.ylabel(target)\r\n",
        "plt.show()"
      ],
      "outputs": [
        {
          "output_type": "display_data",
          "data": {
            "text/plain": [
              "<Figure size 720x432 with 1 Axes>"
            ],
            "image/png": "[encoded data removed]"
          },
          "metadata": {
            "needs_background": "light"
          }
        }
      ],
      "metadata": {
        "colab": {
          "base_uri": "https://localhost:8080/",
          "height": 404
        },
        "id": "MUw7yPblk4i-",
        "outputId": "96b272bb-8e43-4fff-9782-e44f6cfa2723"
      }
    },
    {
      "cell_type": "markdown",
      "source": [
        "#### Creator: Ganapathi Thota , Github: [Profile](https://github.com/Shikiz)"
      ],
      "metadata": {
        "id": "m9f-ubyuk4i-"
      }
    }
  ]
}