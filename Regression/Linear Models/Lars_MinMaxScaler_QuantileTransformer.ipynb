{
  "nbformat": 4,
  "nbformat_minor": 2,
  "metadata": {
    "kernelspec": {
      "language": "python",
      "display_name": "Python 3",
      "name": "python3"
    },
    "language_info": {
      "name": "python",
      "version": "3.7.10",
      "mimetype": "text/x-python",
      "codemirror_mode": {
        "name": "ipython",
        "version": 3
      },
      "pygments_lexer": "ipython3",
      "nbconvert_exporter": "python",
      "file_extension": ".py"
    },
    "colab": {
      "name": "Lars_MinMaxScaler_QuantileTransformer.ipynb",
      "provenance": []
    }
  },
  "cells": [
    {
      "cell_type": "markdown",
      "source": [
        "# Least Angle Regression with MinMaxScaler and Quantile Transformer"
      ],
      "metadata": {
        "id": "uOTPMR89I-09"
      }
    },
    {
      "cell_type": "markdown",
      "source": [
        "This Code template is for the regression analysis using LARS Regressor and the feature transformation technique Quantile Transformer and MinMax Scaling rescaling technique in a pipeline."
      ],
      "metadata": {
        "id": "i8EBXa0rI-1B"
      }
    },
    {
      "cell_type": "markdown",
      "source": [
        "### **Required Packages**"
      ],
      "metadata": {
        "id": "msh29YkOI-1C"
      }
    },
    {
      "cell_type": "code",
      "execution_count": null,
      "source": [
        "import warnings\r\n",
        "import numpy as np \r\n",
        "import pandas as pd \r\n",
        "import seaborn as se \r\n",
        "import matplotlib.pyplot as plt \r\n",
        "from sklearn.model_selection import train_test_split \r\n",
        "from sklearn.preprocessing import QuantileTransformer,MinMaxScaler\r\n",
        "from sklearn.pipeline import make_pipeline\r\n",
        "from sklearn.metrics import r2_score, mean_absolute_error, mean_squared_error \r\n",
        "from sklearn.linear_model import Lars\r\n",
        "warnings.filterwarnings('ignore')"
      ],
      "outputs": [],
      "metadata": {
        "execution": {
          "iopub.status.busy": "2021-08-30T12:28:48.194528Z",
          "iopub.execute_input": "2021-08-30T12:28:48.194980Z",
          "iopub.status.idle": "2021-08-30T12:28:49.516782Z",
          "shell.execute_reply.started": "2021-08-30T12:28:48.194886Z",
          "shell.execute_reply": "2021-08-30T12:28:49.515934Z"
        },
        "trusted": true,
        "id": "r08ZesVlI-1D"
      }
    },
    {
      "cell_type": "markdown",
      "source": [
        "### **Initialization**\n",
        "Filepath of CSV file"
      ],
      "metadata": {
        "id": "IRzrD4CaI-1E"
      }
    },
    {
      "cell_type": "code",
      "execution_count": null,
      "source": [
        "file_path= \"\""
      ],
      "outputs": [],
      "metadata": {
        "execution": {
          "iopub.status.busy": "2021-08-30T12:28:49.518529Z",
          "iopub.execute_input": "2021-08-30T12:28:49.519197Z",
          "iopub.status.idle": "2021-08-30T12:28:49.523611Z",
          "shell.execute_reply.started": "2021-08-30T12:28:49.519133Z",
          "shell.execute_reply": "2021-08-30T12:28:49.522595Z"
        },
        "trusted": true,
        "id": "CY5v0M4oI-1E"
      }
    },
    {
      "cell_type": "markdown",
      "source": [
        "List of features which are required for model training ."
      ],
      "metadata": {
        "id": "HXb-2nH1I-1F"
      }
    },
    {
      "cell_type": "code",
      "execution_count": null,
      "source": [
        "features = []"
      ],
      "outputs": [],
      "metadata": {
        "execution": {
          "iopub.status.busy": "2021-08-30T12:28:49.525784Z",
          "iopub.execute_input": "2021-08-30T12:28:49.526463Z",
          "iopub.status.idle": "2021-08-30T12:28:49.537186Z",
          "shell.execute_reply.started": "2021-08-30T12:28:49.526409Z",
          "shell.execute_reply": "2021-08-30T12:28:49.536009Z"
        },
        "trusted": true,
        "id": "O_4iT2B4I-1G"
      }
    },
    {
      "cell_type": "markdown",
      "source": [
        "Target feature for prediction."
      ],
      "metadata": {
        "id": "B6HN5ozgI-1G"
      }
    },
    {
      "cell_type": "code",
      "execution_count": null,
      "source": [
        "target = ''"
      ],
      "outputs": [],
      "metadata": {
        "execution": {
          "iopub.status.busy": "2021-08-30T12:28:49.539135Z",
          "iopub.execute_input": "2021-08-30T12:28:49.539550Z",
          "iopub.status.idle": "2021-08-30T12:28:49.548883Z",
          "shell.execute_reply.started": "2021-08-30T12:28:49.539520Z",
          "shell.execute_reply": "2021-08-30T12:28:49.548094Z"
        },
        "trusted": true,
        "id": "jldd9mHhI-1H"
      }
    },
    {
      "cell_type": "markdown",
      "source": [
        "### **Dataset Overview**\n",
        "Pandas is an open-source, BSD-licensed library providing high-performance, easy-to-use data manipulation and data analysis tools.\n",
        "\n",
        "We will use panda's library to read the CSV file using its storage path.And we use the head function to display the initial row or entry."
      ],
      "metadata": {
        "id": "c2lBXGV5I-1I"
      }
    },
    {
      "cell_type": "code",
      "execution_count": null,
      "source": [
        "df=pd.read_csv(file_path)\n",
        "df.head()"
      ],
      "outputs": [
        {
          "output_type": "execute_result",
          "data": {
            "text/html": [
              "<div>\n",
              "<style scoped>\n",
              "    .dataframe tbody tr th:only-of-type {\n",
              "        vertical-align: middle;\n",
              "    }\n",
              "\n",
              "    .dataframe tbody tr th {\n",
              "        vertical-align: top;\n",
              "    }\n",
              "\n",
              "    .dataframe thead th {\n",
              "        text-align: right;\n",
              "    }\n",
              "</style>\n",
              "<table border=\"1\" class=\"dataframe\">\n",
              "  <thead>\n",
              "    <tr style=\"text-align: right;\">\n",
              "      <th></th>\n",
              "      <th>age</th>\n",
              "      <th>sex</th>\n",
              "      <th>bmi</th>\n",
              "      <th>children</th>\n",
              "      <th>smoker</th>\n",
              "      <th>region</th>\n",
              "      <th>charges</th>\n",
              "    </tr>\n",
              "  </thead>\n",
              "  <tbody>\n",
              "    <tr>\n",
              "      <th>0</th>\n",
              "      <td>19</td>\n",
              "      <td>female</td>\n",
              "      <td>27.900</td>\n",
              "      <td>0</td>\n",
              "      <td>yes</td>\n",
              "      <td>southwest</td>\n",
              "      <td>16884.92400</td>\n",
              "    </tr>\n",
              "    <tr>\n",
              "      <th>1</th>\n",
              "      <td>18</td>\n",
              "      <td>male</td>\n",
              "      <td>33.770</td>\n",
              "      <td>1</td>\n",
              "      <td>no</td>\n",
              "      <td>southeast</td>\n",
              "      <td>1725.55230</td>\n",
              "    </tr>\n",
              "    <tr>\n",
              "      <th>2</th>\n",
              "      <td>28</td>\n",
              "      <td>male</td>\n",
              "      <td>33.000</td>\n",
              "      <td>3</td>\n",
              "      <td>no</td>\n",
              "      <td>southeast</td>\n",
              "      <td>4449.46200</td>\n",
              "    </tr>\n",
              "    <tr>\n",
              "      <th>3</th>\n",
              "      <td>33</td>\n",
              "      <td>male</td>\n",
              "      <td>22.705</td>\n",
              "      <td>0</td>\n",
              "      <td>no</td>\n",
              "      <td>northwest</td>\n",
              "      <td>21984.47061</td>\n",
              "    </tr>\n",
              "    <tr>\n",
              "      <th>4</th>\n",
              "      <td>32</td>\n",
              "      <td>male</td>\n",
              "      <td>28.880</td>\n",
              "      <td>0</td>\n",
              "      <td>no</td>\n",
              "      <td>northwest</td>\n",
              "      <td>3866.85520</td>\n",
              "    </tr>\n",
              "  </tbody>\n",
              "</table>\n",
              "</div>"
            ],
            "text/plain": [
              "   age     sex     bmi  children smoker     region      charges\n",
              "0   19  female  27.900         0    yes  southwest  16884.92400\n",
              "1   18    male  33.770         1     no  southeast   1725.55230\n",
              "2   28    male  33.000         3     no  southeast   4449.46200\n",
              "3   33    male  22.705         0     no  northwest  21984.47061\n",
              "4   32    male  28.880         0     no  northwest   3866.85520"
            ]
          },
          "metadata": {},
          "execution_count": 5
        }
      ],
      "metadata": {
        "execution": {
          "iopub.status.busy": "2021-08-30T12:28:49.550081Z",
          "iopub.execute_input": "2021-08-30T12:28:49.550624Z",
          "iopub.status.idle": "2021-08-30T12:28:49.609565Z",
          "shell.execute_reply.started": "2021-08-30T12:28:49.550590Z",
          "shell.execute_reply": "2021-08-30T12:28:49.608863Z"
        },
        "trusted": true,
        "colab": {
          "base_uri": "https://localhost:8080/",
          "height": 203
        },
        "id": "REN7Jjb0I-1I",
        "outputId": "25572c8a-9bce-419d-fd27-70a831dd8941"
      }
    },
    {
      "cell_type": "markdown",
      "source": [
        "### **Dataset Information**\n",
        "Print a concise summary of a DataFrame.\n",
        "\n",
        "We will use info() method to print the information about the DataFrame including the index dtype and columns, non-null values and memory usage."
      ],
      "metadata": {
        "id": "oVcSAPzbI-1J"
      }
    },
    {
      "cell_type": "code",
      "execution_count": null,
      "source": [
        "df.info()"
      ],
      "outputs": [
        {
          "output_type": "stream",
          "name": "stdout",
          "text": [
            "<class 'pandas.core.frame.DataFrame'>\n",
            "RangeIndex: 1338 entries, 0 to 1337\n",
            "Data columns (total 7 columns):\n",
            " #   Column    Non-Null Count  Dtype  \n",
            "---  ------    --------------  -----  \n",
            " 0   age       1338 non-null   int64  \n",
            " 1   sex       1338 non-null   object \n",
            " 2   bmi       1338 non-null   float64\n",
            " 3   children  1338 non-null   int64  \n",
            " 4   smoker    1338 non-null   object \n",
            " 5   region    1338 non-null   object \n",
            " 6   charges   1338 non-null   float64\n",
            "dtypes: float64(2), int64(2), object(3)\n",
            "memory usage: 73.3+ KB\n"
          ]
        }
      ],
      "metadata": {
        "execution": {
          "iopub.status.busy": "2021-08-30T12:28:49.610743Z",
          "iopub.execute_input": "2021-08-30T12:28:49.611227Z",
          "iopub.status.idle": "2021-08-30T12:28:49.631793Z",
          "shell.execute_reply.started": "2021-08-30T12:28:49.611195Z",
          "shell.execute_reply": "2021-08-30T12:28:49.630843Z"
        },
        "trusted": true,
        "colab": {
          "base_uri": "https://localhost:8080/"
        },
        "id": "E6ntBlTlI-1J",
        "outputId": "9aec5d0d-bd83-4fa3-c580-a96109dffb68"
      }
    },
    {
      "cell_type": "markdown",
      "source": [
        "### **Dataset Describe**\n",
        "Generate descriptive statistics.\n",
        "\n",
        "Descriptive statistics include those that summarize the central tendency, dispersion and shape of a dataset’s distribution, excluding NaN values.\n",
        "\n",
        "We will analyzes both numeric and object series, as well as DataFrame column sets of mixed data types. "
      ],
      "metadata": {
        "id": "f0H1MawQI-1K"
      }
    },
    {
      "cell_type": "code",
      "execution_count": null,
      "source": [
        "df.describe()"
      ],
      "outputs": [
        {
          "output_type": "execute_result",
          "data": {
            "text/html": [
              "<div>\n",
              "<style scoped>\n",
              "    .dataframe tbody tr th:only-of-type {\n",
              "        vertical-align: middle;\n",
              "    }\n",
              "\n",
              "    .dataframe tbody tr th {\n",
              "        vertical-align: top;\n",
              "    }\n",
              "\n",
              "    .dataframe thead th {\n",
              "        text-align: right;\n",
              "    }\n",
              "</style>\n",
              "<table border=\"1\" class=\"dataframe\">\n",
              "  <thead>\n",
              "    <tr style=\"text-align: right;\">\n",
              "      <th></th>\n",
              "      <th>age</th>\n",
              "      <th>bmi</th>\n",
              "      <th>children</th>\n",
              "      <th>charges</th>\n",
              "    </tr>\n",
              "  </thead>\n",
              "  <tbody>\n",
              "    <tr>\n",
              "      <th>count</th>\n",
              "      <td>1338.000000</td>\n",
              "      <td>1338.000000</td>\n",
              "      <td>1338.000000</td>\n",
              "      <td>1338.000000</td>\n",
              "    </tr>\n",
              "    <tr>\n",
              "      <th>mean</th>\n",
              "      <td>39.207025</td>\n",
              "      <td>30.663397</td>\n",
              "      <td>1.094918</td>\n",
              "      <td>13270.422265</td>\n",
              "    </tr>\n",
              "    <tr>\n",
              "      <th>std</th>\n",
              "      <td>14.049960</td>\n",
              "      <td>6.098187</td>\n",
              "      <td>1.205493</td>\n",
              "      <td>12110.011237</td>\n",
              "    </tr>\n",
              "    <tr>\n",
              "      <th>min</th>\n",
              "      <td>18.000000</td>\n",
              "      <td>15.960000</td>\n",
              "      <td>0.000000</td>\n",
              "      <td>1121.873900</td>\n",
              "    </tr>\n",
              "    <tr>\n",
              "      <th>25%</th>\n",
              "      <td>27.000000</td>\n",
              "      <td>26.296250</td>\n",
              "      <td>0.000000</td>\n",
              "      <td>4740.287150</td>\n",
              "    </tr>\n",
              "    <tr>\n",
              "      <th>50%</th>\n",
              "      <td>39.000000</td>\n",
              "      <td>30.400000</td>\n",
              "      <td>1.000000</td>\n",
              "      <td>9382.033000</td>\n",
              "    </tr>\n",
              "    <tr>\n",
              "      <th>75%</th>\n",
              "      <td>51.000000</td>\n",
              "      <td>34.693750</td>\n",
              "      <td>2.000000</td>\n",
              "      <td>16639.912515</td>\n",
              "    </tr>\n",
              "    <tr>\n",
              "      <th>max</th>\n",
              "      <td>64.000000</td>\n",
              "      <td>53.130000</td>\n",
              "      <td>5.000000</td>\n",
              "      <td>63770.428010</td>\n",
              "    </tr>\n",
              "  </tbody>\n",
              "</table>\n",
              "</div>"
            ],
            "text/plain": [
              "               age          bmi     children       charges\n",
              "count  1338.000000  1338.000000  1338.000000   1338.000000\n",
              "mean     39.207025    30.663397     1.094918  13270.422265\n",
              "std      14.049960     6.098187     1.205493  12110.011237\n",
              "min      18.000000    15.960000     0.000000   1121.873900\n",
              "25%      27.000000    26.296250     0.000000   4740.287150\n",
              "50%      39.000000    30.400000     1.000000   9382.033000\n",
              "75%      51.000000    34.693750     2.000000  16639.912515\n",
              "max      64.000000    53.130000     5.000000  63770.428010"
            ]
          },
          "metadata": {},
          "execution_count": 7
        }
      ],
      "metadata": {
        "execution": {
          "iopub.status.busy": "2021-08-30T12:28:49.633127Z",
          "iopub.execute_input": "2021-08-30T12:28:49.633563Z",
          "iopub.status.idle": "2021-08-30T12:28:49.668063Z",
          "shell.execute_reply.started": "2021-08-30T12:28:49.633528Z",
          "shell.execute_reply": "2021-08-30T12:28:49.667028Z"
        },
        "trusted": true,
        "colab": {
          "base_uri": "https://localhost:8080/",
          "height": 295
        },
        "id": "VoLzBbGlI-1K",
        "outputId": "1c403029-7545-46a9-8fb6-29a144e8eab7"
      }
    },
    {
      "cell_type": "markdown",
      "source": [
        "### **Feature Selection**\n",
        "It is the process of reducing the number of input variables when developing a predictive model. Used to reduce the number of input variables to both reduce the computational cost of modelling and, in some cases, to improve the performance of the model.\n",
        "\n",
        "We will assign all the required input features to X and target/outcome to Y."
      ],
      "metadata": {
        "id": "z0HSck70I-1K"
      }
    },
    {
      "cell_type": "code",
      "execution_count": null,
      "source": [
        "X=df[features]\n",
        "Y=df[target]"
      ],
      "outputs": [],
      "metadata": {
        "execution": {
          "iopub.status.busy": "2021-08-30T12:28:49.670488Z",
          "iopub.execute_input": "2021-08-30T12:28:49.670794Z",
          "iopub.status.idle": "2021-08-30T12:28:49.677256Z",
          "shell.execute_reply.started": "2021-08-30T12:28:49.670763Z",
          "shell.execute_reply": "2021-08-30T12:28:49.675945Z"
        },
        "trusted": true,
        "id": "VAf7xngAI-1L"
      }
    },
    {
      "cell_type": "markdown",
      "source": [
        "### **Data Preprocessing**\n",
        "Since we do not know what is the number of Null values in each column.So,we print the columns arranged in descreasnig orde "
      ],
      "metadata": {
        "id": "SvXUUPRZI-1L"
      }
    },
    {
      "cell_type": "code",
      "execution_count": null,
      "source": [
        "print(df.isnull().sum().sort_values(ascending=False))"
      ],
      "outputs": [
        {
          "output_type": "stream",
          "name": "stdout",
          "text": [
            "charges     0\n",
            "region      0\n",
            "smoker      0\n",
            "children    0\n",
            "bmi         0\n",
            "sex         0\n",
            "age         0\n",
            "dtype: int64\n"
          ]
        }
      ],
      "metadata": {
        "execution": {
          "iopub.status.busy": "2021-08-30T12:28:49.678720Z",
          "iopub.execute_input": "2021-08-30T12:28:49.679038Z",
          "iopub.status.idle": "2021-08-30T12:28:49.694716Z",
          "shell.execute_reply.started": "2021-08-30T12:28:49.679010Z",
          "shell.execute_reply": "2021-08-30T12:28:49.693508Z"
        },
        "trusted": true,
        "colab": {
          "base_uri": "https://localhost:8080/"
        },
        "id": "GQqsPDMFI-1L",
        "outputId": "399a5015-7cb1-402a-85cf-e3299fe4c0b6"
      }
    },
    {
      "cell_type": "markdown",
      "source": [
        "Since the majority of the machine learning models in the Sklearn library doesn't handle string category data and Null value, we have to explicitly remove or replace null values. The below snippet have functions, which removes the null value if any exists. And convert the string classes data in the datasets by encoding them to integer classes."
      ],
      "metadata": {
        "id": "2V6iHH6_I-1L"
      }
    },
    {
      "cell_type": "code",
      "execution_count": null,
      "source": [
        "def NullClearner(df):\n",
        "    if(isinstance(df, pd.Series) and (df.dtype in [\"float64\",\"int64\"])):\n",
        "        df.fillna(df.mean(),inplace=True)\n",
        "        return df\n",
        "    elif(isinstance(df, pd.Series)):\n",
        "        df.fillna(df.mode()[0],inplace=True)\n",
        "        return df\n",
        "    else:return df\n",
        "def EncodeX(df):\n",
        "    return pd.get_dummies(df)"
      ],
      "outputs": [],
      "metadata": {
        "execution": {
          "iopub.status.busy": "2021-08-30T12:28:49.696301Z",
          "iopub.execute_input": "2021-08-30T12:28:49.696585Z",
          "iopub.status.idle": "2021-08-30T12:28:49.706926Z",
          "shell.execute_reply.started": "2021-08-30T12:28:49.696557Z",
          "shell.execute_reply": "2021-08-30T12:28:49.705563Z"
        },
        "trusted": true,
        "id": "Hy1pERycI-1M"
      }
    },
    {
      "cell_type": "markdown",
      "source": [
        "Calling preprocessing functions on the feature and target set."
      ],
      "metadata": {
        "id": "_LqlTkLoI-1M"
      }
    },
    {
      "cell_type": "code",
      "execution_count": null,
      "source": [
        "x=X.columns.to_list()\n",
        "for i in x:\n",
        "    X[i]=NullClearner(X[i])\n",
        "X=EncodeX(X)\n",
        "Y=NullClearner(Y)\n",
        "X.head()"
      ],
      "outputs": [
        {
          "output_type": "execute_result",
          "data": {
            "text/html": [
              "<div>\n",
              "<style scoped>\n",
              "    .dataframe tbody tr th:only-of-type {\n",
              "        vertical-align: middle;\n",
              "    }\n",
              "\n",
              "    .dataframe tbody tr th {\n",
              "        vertical-align: top;\n",
              "    }\n",
              "\n",
              "    .dataframe thead th {\n",
              "        text-align: right;\n",
              "    }\n",
              "</style>\n",
              "<table border=\"1\" class=\"dataframe\">\n",
              "  <thead>\n",
              "    <tr style=\"text-align: right;\">\n",
              "      <th></th>\n",
              "      <th>age</th>\n",
              "      <th>bmi</th>\n",
              "      <th>children</th>\n",
              "      <th>sex_female</th>\n",
              "      <th>sex_male</th>\n",
              "      <th>smoker_no</th>\n",
              "      <th>smoker_yes</th>\n",
              "      <th>region_northeast</th>\n",
              "      <th>region_northwest</th>\n",
              "      <th>region_southeast</th>\n",
              "      <th>region_southwest</th>\n",
              "    </tr>\n",
              "  </thead>\n",
              "  <tbody>\n",
              "    <tr>\n",
              "      <th>0</th>\n",
              "      <td>19</td>\n",
              "      <td>27.900</td>\n",
              "      <td>0</td>\n",
              "      <td>1</td>\n",
              "      <td>0</td>\n",
              "      <td>0</td>\n",
              "      <td>1</td>\n",
              "      <td>0</td>\n",
              "      <td>0</td>\n",
              "      <td>0</td>\n",
              "      <td>1</td>\n",
              "    </tr>\n",
              "    <tr>\n",
              "      <th>1</th>\n",
              "      <td>18</td>\n",
              "      <td>33.770</td>\n",
              "      <td>1</td>\n",
              "      <td>0</td>\n",
              "      <td>1</td>\n",
              "      <td>1</td>\n",
              "      <td>0</td>\n",
              "      <td>0</td>\n",
              "      <td>0</td>\n",
              "      <td>1</td>\n",
              "      <td>0</td>\n",
              "    </tr>\n",
              "    <tr>\n",
              "      <th>2</th>\n",
              "      <td>28</td>\n",
              "      <td>33.000</td>\n",
              "      <td>3</td>\n",
              "      <td>0</td>\n",
              "      <td>1</td>\n",
              "      <td>1</td>\n",
              "      <td>0</td>\n",
              "      <td>0</td>\n",
              "      <td>0</td>\n",
              "      <td>1</td>\n",
              "      <td>0</td>\n",
              "    </tr>\n",
              "    <tr>\n",
              "      <th>3</th>\n",
              "      <td>33</td>\n",
              "      <td>22.705</td>\n",
              "      <td>0</td>\n",
              "      <td>0</td>\n",
              "      <td>1</td>\n",
              "      <td>1</td>\n",
              "      <td>0</td>\n",
              "      <td>0</td>\n",
              "      <td>1</td>\n",
              "      <td>0</td>\n",
              "      <td>0</td>\n",
              "    </tr>\n",
              "    <tr>\n",
              "      <th>4</th>\n",
              "      <td>32</td>\n",
              "      <td>28.880</td>\n",
              "      <td>0</td>\n",
              "      <td>0</td>\n",
              "      <td>1</td>\n",
              "      <td>1</td>\n",
              "      <td>0</td>\n",
              "      <td>0</td>\n",
              "      <td>1</td>\n",
              "      <td>0</td>\n",
              "      <td>0</td>\n",
              "    </tr>\n",
              "  </tbody>\n",
              "</table>\n",
              "</div>"
            ],
            "text/plain": [
              "   age     bmi  children  ...  region_northwest  region_southeast  region_southwest\n",
              "0   19  27.900         0  ...                 0                 0                 1\n",
              "1   18  33.770         1  ...                 0                 1                 0\n",
              "2   28  33.000         3  ...                 0                 1                 0\n",
              "3   33  22.705         0  ...                 1                 0                 0\n",
              "4   32  28.880         0  ...                 1                 0                 0\n",
              "\n",
              "[5 rows x 11 columns]"
            ]
          },
          "metadata": {},
          "execution_count": 11
        }
      ],
      "metadata": {
        "execution": {
          "iopub.status.busy": "2021-08-30T12:28:49.708527Z",
          "iopub.execute_input": "2021-08-30T12:28:49.708948Z",
          "iopub.status.idle": "2021-08-30T12:28:49.740875Z",
          "shell.execute_reply.started": "2021-08-30T12:28:49.708906Z",
          "shell.execute_reply": "2021-08-30T12:28:49.739782Z"
        },
        "trusted": true,
        "colab": {
          "base_uri": "https://localhost:8080/",
          "height": 203
        },
        "id": "JHS4mUwlI-1M",
        "outputId": "deab100b-2421-4b41-9aad-404e7d50fd70"
      }
    },
    {
      "cell_type": "markdown",
      "source": [
        "#### **Correlation Map**\n",
        "In order to check the correlation between the features, we will plot a correlation matrix. It is effective in summarizing a large amount of data where the goal is to see patterns."
      ],
      "metadata": {
        "id": "7POw4FP8I-1M"
      }
    },
    {
      "cell_type": "code",
      "execution_count": null,
      "source": [
        "f,ax = plt.subplots(figsize=(18, 18))\n",
        "matrix = np.triu(X.corr())\n",
        "se.heatmap(X.corr(), annot=True, linewidths=.5, fmt= '.1f',ax=ax, mask=matrix)\n",
        "plt.show()"
      ],
      "outputs": [
        {
          "output_type": "display_data",
          "data": {
            "image/png": "[encoded data removed]",
            "text/plain": [
              "<Figure size 1296x1296 with 2 Axes>"
            ]
          },
          "metadata": {
            "needs_background": "light"
          }
        }
      ],
      "metadata": {
        "execution": {
          "iopub.status.busy": "2021-08-30T12:28:49.742133Z",
          "iopub.execute_input": "2021-08-30T12:28:49.742455Z",
          "iopub.status.idle": "2021-08-30T12:28:50.135462Z",
          "shell.execute_reply.started": "2021-08-30T12:28:49.742426Z",
          "shell.execute_reply": "2021-08-30T12:28:50.134635Z"
        },
        "trusted": true,
        "colab": {
          "base_uri": "https://localhost:8080/",
          "height": 1000
        },
        "id": "u6ck5D-YI-1N",
        "outputId": "a1b3e46d-7825-4beb-fb1e-9135de5b116a"
      }
    },
    {
      "cell_type": "markdown",
      "source": [
        "## **Data Splitting**\n",
        "The train-test split is a procedure for evaluating the performance of an algorithm. The procedure involves taking a dataset and dividing it into two subsets. The first subset is utilized to fit/train the model. The second subset is used for prediction. The main motive is to estimate the performance of the model on new data."
      ],
      "metadata": {
        "id": "cb_W4i3AI-1N"
      }
    },
    {
      "cell_type": "code",
      "execution_count": null,
      "source": [
        "x_train,x_test,y_train,y_test=train_test_split(X,Y,test_size=0.2,random_state=123)"
      ],
      "outputs": [],
      "metadata": {
        "execution": {
          "iopub.status.busy": "2021-08-30T12:28:50.136525Z",
          "iopub.execute_input": "2021-08-30T12:28:50.136950Z",
          "iopub.status.idle": "2021-08-30T12:28:50.143776Z",
          "shell.execute_reply.started": "2021-08-30T12:28:50.136902Z",
          "shell.execute_reply": "2021-08-30T12:28:50.142783Z"
        },
        "trusted": true,
        "id": "YIO6eCSZI-1N"
      }
    },
    {
      "cell_type": "markdown",
      "source": [
        "### **Model**\n",
        "Least-angle regression (LARS) is a regression algorithm for high-dimensional data, developed by Bradley Efron, Trevor Hastie, Iain Johnstone and Robert Tibshirani. LARS is similar to forward stepwise regression. At each step, it finds the feature most correlated with the target. When there are multiple features having equal correlation, instead of continuing along the same feature, it proceeds in a direction equiangular between the features.\n",
        "\n",
        "**Model Tuning Parameters**\n",
        "\n",
        "    1. jitter \n",
        "> Upper bound on a uniform noise parameter to be added to the y values, to satisfy the model’s assumption of one-at-a-time computations. Might help with stability.\n",
        "\n",
        "    2. eps \n",
        "> The machine-precision regularization in the computation of the Cholesky diagonal factors. Increase this for very ill-conditioned systems. Unlike the tol parameter in some iterative optimization-based algorithms, this parameter does not control the tolerance of the optimization.\n",
        "\n",
        "    3. n_nonzero_coefs \n",
        "> Target number of non-zero coefficients. Use np.inf for no limit.\n",
        "\n",
        "    4. precompute\n",
        "> Whether to use a precomputed Gram matrix to speed up calculations.\n",
        "\n",
        "\n",
        "**Data Rescaling**\n",
        "\n",
        "Min Max Scaler \n",
        "\n",
        "Transform features by scaling each feature to a given range.\n",
        "\n",
        "This estimator scales and translates each feature individually such that it is in the given range on the training set, e.g. between zero and one.\n",
        "\n",
        "[Read more here](https://scikit-learn.org/stable/modules/generated/sklearn.preprocessing.MinMaxScaler.html)\n",
        "\n",
        "<br>\n",
        "\n",
        "**Data Transformation**\n",
        "\n",
        "Quantile Transformer \n",
        "\n",
        "Transform features using quantiles information.\n",
        "\n",
        "This method transforms the features to follow a uniform or a normal distribution. Therefore, for a given feature, this transformation tends to spread out the most frequent values. It also reduces the impact of (marginal) outliers: this is therefore a robust preprocessing scheme.\n",
        "\n",
        "[Quantile Transformer API](https://scikit-learn.org/stable/modules/generated/sklearn.preprocessing.QuantileTransformer.html)"
      ],
      "metadata": {
        "id": "paSuMD7GI-1O"
      }
    },
    {
      "cell_type": "code",
      "execution_count": null,
      "source": [
        "model = make_pipeline(MinMaxScaler(),QuantileTransformer(),Lars())\n",
        "model.fit(x_train,y_train)"
      ],
      "outputs": [
        {
          "output_type": "execute_result",
          "data": {
            "text/plain": [
              "Pipeline(memory=None,\n",
              "         steps=[('minmaxscaler', MinMaxScaler(copy=True, feature_range=(0, 1))),\n",
              "                ('quantiletransformer',\n",
              "                 QuantileTransformer(copy=True, ignore_implicit_zeros=False,\n",
              "                                     n_quantiles=1000,\n",
              "                                     output_distribution='uniform',\n",
              "                                     random_state=None, subsample=100000)),\n",
              "                ('lars',\n",
              "                 Lars(copy_X=True, eps=2.220446049250313e-16,\n",
              "                      fit_intercept=True, fit_path=True, n_nonzero_coefs=500,\n",
              "                      normalize=True, precompute='auto', verbose=False))],\n",
              "         verbose=False)"
            ]
          },
          "metadata": {},
          "execution_count": 15
        }
      ],
      "metadata": {
        "execution": {
          "iopub.status.busy": "2021-08-30T12:28:50.145108Z",
          "iopub.execute_input": "2021-08-30T12:28:50.145564Z",
          "iopub.status.idle": "2021-08-30T12:28:50.322193Z",
          "shell.execute_reply.started": "2021-08-30T12:28:50.145514Z",
          "shell.execute_reply": "2021-08-30T12:28:50.321210Z"
        },
        "trusted": true,
        "colab": {
          "base_uri": "https://localhost:8080/"
        },
        "id": "PuFPCX7dI-1O",
        "outputId": "049156b5-f41b-492b-a688-7a18cc845297"
      }
    },
    {
      "cell_type": "markdown",
      "source": [
        "#### **Model Accuracy**\n",
        "We will use the trained model to make a prediction on the test set.Then use the predicted value for measuring the accuracy of our model.\n",
        "\n",
        "score: The score function returns the coefficient of determination R2 of the prediction."
      ],
      "metadata": {
        "id": "KBfcRgZ6I-1O"
      }
    },
    {
      "cell_type": "code",
      "execution_count": null,
      "source": [
        "print(\"Accuracy score {:.2f} %\\n\".format(model.score(x_test,y_test)*100))"
      ],
      "outputs": [
        {
          "output_type": "stream",
          "name": "stdout",
          "text": [
            "Accuracy score 79.94 %\n",
            "\n"
          ]
        }
      ],
      "metadata": {
        "execution": {
          "iopub.status.busy": "2021-08-30T12:28:50.323514Z",
          "iopub.execute_input": "2021-08-30T12:28:50.323808Z",
          "iopub.status.idle": "2021-08-30T12:28:50.333067Z",
          "shell.execute_reply.started": "2021-08-30T12:28:50.323780Z",
          "shell.execute_reply": "2021-08-30T12:28:50.331997Z"
        },
        "trusted": true,
        "colab": {
          "base_uri": "https://localhost:8080/"
        },
        "id": "hcypUaI6I-1O",
        "outputId": "34cf010f-d106-453b-9ab1-2007d3805aa5"
      }
    },
    {
      "cell_type": "markdown",
      "source": [
        "> r2_score: The r2_score function computes the percentage variablility explained by our model, either the fraction or the count of correct predictions.\n",
        "\n",
        "> mae: The mean abosolute error function calculates the amount of total error(absolute average distance between the real data and the predicted data) by our model.\n",
        "\n",
        "> mse: The mean squared error function squares the error(penalizes the model for large errors) by our model."
      ],
      "metadata": {
        "id": "UGfcU3d2I-1P"
      }
    },
    {
      "cell_type": "code",
      "execution_count": null,
      "source": [
        "y_pred=model.predict(x_test)\n",
        "print(\"R2 Score: {:.2f} %\".format(r2_score(y_test,y_pred)*100))\n",
        "print(\"Mean Absolute Error {:.2f}\".format(mean_absolute_error(y_test,y_pred)))\n",
        "print(\"Mean Squared Error {:.2f}\".format(mean_squared_error(y_test,y_pred)))"
      ],
      "outputs": [
        {
          "output_type": "stream",
          "name": "stdout",
          "text": [
            "R2 Score: 79.94 %\n",
            "Mean Absolute Error 4108.64\n",
            "Mean Squared Error 30666254.00\n"
          ]
        }
      ],
      "metadata": {
        "execution": {
          "iopub.status.busy": "2021-08-30T12:28:50.334512Z",
          "iopub.execute_input": "2021-08-30T12:28:50.334788Z",
          "iopub.status.idle": "2021-08-30T12:28:50.348422Z",
          "shell.execute_reply.started": "2021-08-30T12:28:50.334762Z",
          "shell.execute_reply": "2021-08-30T12:28:50.347449Z"
        },
        "trusted": true,
        "colab": {
          "base_uri": "https://localhost:8080/"
        },
        "id": "BiTviudqI-1P",
        "outputId": "7418f320-8078-4847-c3f2-8069846db07a"
      }
    },
    {
      "cell_type": "markdown",
      "source": [
        "#### **Prediction Plot**\n",
        "> First, we make use of a plot to plot the actual observations, with x_train on the x-axis and y_train on the y-axis. For the regression line, we will use x_train on the x-axis and then the predictions of the x_train observations on the y-axis."
      ],
      "metadata": {
        "id": "mTTgSEAzI-1Q"
      }
    },
    {
      "cell_type": "code",
      "execution_count": null,
      "source": [
        "plt.figure(figsize=(14,10))\n",
        "plt.plot(range(20),y_test[0:20], color = \"green\")\n",
        "plt.plot(range(20),model.predict(x_test[0:20]), color = \"red\")\n",
        "plt.legend([\"Actual\",\"prediction\"]) \n",
        "plt.title(\"Predicted vs True Value\")\n",
        "plt.xlabel(\"Record number\")\n",
        "plt.ylabel(target)\n",
        "plt.show()"
      ],
      "outputs": [
        {
          "output_type": "display_data",
          "data": {
            "image/png": "[encoded data removed]",
            "text/plain": [
              "<Figure size 1008x720 with 1 Axes>"
            ]
          },
          "metadata": {
            "needs_background": "light"
          }
        }
      ],
      "metadata": {
        "execution": {
          "iopub.status.busy": "2021-08-30T12:28:50.349679Z",
          "iopub.execute_input": "2021-08-30T12:28:50.349980Z",
          "iopub.status.idle": "2021-08-30T12:28:50.573112Z",
          "shell.execute_reply.started": "2021-08-30T12:28:50.349952Z",
          "shell.execute_reply": "2021-08-30T12:28:50.572096Z"
        },
        "trusted": true,
        "colab": {
          "base_uri": "https://localhost:8080/",
          "height": 621
        },
        "id": "6ZQBYLMKI-1Q",
        "outputId": "8b1d6575-5232-47b3-90e4-623210260e99"
      }
    },
    {
      "cell_type": "markdown",
      "source": [
        "#### Creator: Anu Rithiga B , Github: [Profile - Iamgrootsh7](https://github.com/iamgrootsh7)"
      ],
      "metadata": {
        "id": "DFcUtcFxZiSM"
      }
    }
  ]
}