{
  "nbformat": 4,
  "nbformat_minor": 0,
  "metadata": {
    "interpreter": {
      "hash": "51a9663a131f1b5758c45b97a2d6917c8ae86b33e231c3733631cbc7265cfc89"
    },
    "kernelspec": {
      "display_name": "Python 3",
      "language": "python",
      "name": "python3"
    },
    "language_info": {
      "codemirror_mode": {
        "name": "ipython",
        "version": 3
      },
      "file_extension": ".py",
      "mimetype": "text/x-python",
      "name": "python",
      "nbconvert_exporter": "python",
      "pygments_lexer": "ipython3",
      "version": "3.8.6"
    },
    "colab": {
      "name": "SGDRegressor_QuantileTransformer.ipynb",
      "provenance": [],
      "collapsed_sections": []
    }
  },
  "cells": [
    {
      "cell_type": "markdown",
      "metadata": {
        "id": "qw-3zVyjI8c1"
      },
      "source": [
        "# SGDRegressor with Quantile Transformer\n",
        "### Required Packages"
      ]
    },
    {
      "cell_type": "code",
      "metadata": {
        "id": "Cf2KNVaWI8c8"
      },
      "source": [
        "import warnings \n",
        "import numpy as np \n",
        "import pandas as pd \n",
        "import seaborn as se \n",
        "import matplotlib.pyplot as plt\n",
        "from sklearn.pipeline import make_pipeline\n",
        "from sklearn.preprocessing import QuantileTransformer\n",
        "from sklearn.model_selection import train_test_split\n",
        "from sklearn.metrics import r2_score, mean_absolute_error, mean_squared_error \n",
        "from sklearn.linear_model import SGDRegressor\n",
        "warnings.filterwarnings('ignore')"
      ],
      "execution_count": null,
      "outputs": []
    },
    {
      "cell_type": "markdown",
      "metadata": {
        "id": "lFykDmJII8c9"
      },
      "source": [
        "### Initialization\n",
        "Filepath of CSV file"
      ]
    },
    {
      "cell_type": "code",
      "metadata": {
        "id": "tO2uUlukI8c-"
      },
      "source": [
        "#filepath\n",
        "file_path= \"\""
      ],
      "execution_count": null,
      "outputs": []
    },
    {
      "cell_type": "markdown",
      "metadata": {
        "id": "XAJDKzqXI8c_"
      },
      "source": [
        "List of features which are  required for model training."
      ]
    },
    {
      "cell_type": "code",
      "metadata": {
        "id": "-jzGscQhI8c_"
      },
      "source": [
        "#x_values\n",
        "features=[]"
      ],
      "execution_count": null,
      "outputs": []
    },
    {
      "cell_type": "markdown",
      "metadata": {
        "id": "6DFzqbb3I8dA"
      },
      "source": [
        "Target feature for prediction."
      ]
    },
    {
      "cell_type": "code",
      "metadata": {
        "id": "bqjRo4AWI8dB"
      },
      "source": [
        "#y_value\n",
        "target=''"
      ],
      "execution_count": null,
      "outputs": []
    },
    {
      "cell_type": "markdown",
      "metadata": {
        "id": "fqv7RkeKI8dC"
      },
      "source": [
        "### Data Fetching\n",
        "\n",
        "Pandas is an open-source, BSD-licensed library providing high-performance, easy-to-use data manipulation and data analysis tools.\n",
        "\n",
        "We will use panda's library to read the CSV file using its storage path.And we use the head function to display the initial row or entry."
      ]
    },
    {
      "cell_type": "code",
      "metadata": {
        "id": "sDuo2DzBI8dD",
        "colab": {
          "base_uri": "https://localhost:8080/",
          "height": 203
        },
        "outputId": "887e829b-707b-49b7-e443-530dc09c4000"
      },
      "source": [
        "df=pd.read_csv(file_path)\n",
        "df.head()"
      ],
      "execution_count": null,
      "outputs": [
        {
          "output_type": "execute_result",
          "data": {
            "text/html": [
              "<div>\n",
              "<style scoped>\n",
              "    .dataframe tbody tr th:only-of-type {\n",
              "        vertical-align: middle;\n",
              "    }\n",
              "\n",
              "    .dataframe tbody tr th {\n",
              "        vertical-align: top;\n",
              "    }\n",
              "\n",
              "    .dataframe thead th {\n",
              "        text-align: right;\n",
              "    }\n",
              "</style>\n",
              "<table border=\"1\" class=\"dataframe\">\n",
              "  <thead>\n",
              "    <tr style=\"text-align: right;\">\n",
              "      <th></th>\n",
              "      <th>CO(GT)</th>\n",
              "      <th>PT08.S1(CO)</th>\n",
              "      <th>NMHC(GT)</th>\n",
              "      <th>C6H6(GT)</th>\n",
              "      <th>PT08.S2(NMHC)</th>\n",
              "      <th>NOx(GT)</th>\n",
              "      <th>PT08.S3(NOx)</th>\n",
              "      <th>NO2(GT)</th>\n",
              "      <th>PT08.S4(NO2)</th>\n",
              "      <th>PT08.S5(O3)</th>\n",
              "      <th>T</th>\n",
              "      <th>RH</th>\n",
              "      <th>AH</th>\n",
              "    </tr>\n",
              "  </thead>\n",
              "  <tbody>\n",
              "    <tr>\n",
              "      <th>0</th>\n",
              "      <td>2.6</td>\n",
              "      <td>1360</td>\n",
              "      <td>150</td>\n",
              "      <td>11.9</td>\n",
              "      <td>1046</td>\n",
              "      <td>166</td>\n",
              "      <td>1056</td>\n",
              "      <td>113</td>\n",
              "      <td>1692</td>\n",
              "      <td>1268</td>\n",
              "      <td>13.6</td>\n",
              "      <td>48.9</td>\n",
              "      <td>0.7578</td>\n",
              "    </tr>\n",
              "    <tr>\n",
              "      <th>1</th>\n",
              "      <td>2.0</td>\n",
              "      <td>1292</td>\n",
              "      <td>112</td>\n",
              "      <td>9.4</td>\n",
              "      <td>955</td>\n",
              "      <td>103</td>\n",
              "      <td>1174</td>\n",
              "      <td>92</td>\n",
              "      <td>1559</td>\n",
              "      <td>972</td>\n",
              "      <td>13.3</td>\n",
              "      <td>47.7</td>\n",
              "      <td>0.7255</td>\n",
              "    </tr>\n",
              "    <tr>\n",
              "      <th>2</th>\n",
              "      <td>2.2</td>\n",
              "      <td>1402</td>\n",
              "      <td>88</td>\n",
              "      <td>9.0</td>\n",
              "      <td>939</td>\n",
              "      <td>131</td>\n",
              "      <td>1140</td>\n",
              "      <td>114</td>\n",
              "      <td>1555</td>\n",
              "      <td>1074</td>\n",
              "      <td>11.9</td>\n",
              "      <td>54.0</td>\n",
              "      <td>0.7502</td>\n",
              "    </tr>\n",
              "    <tr>\n",
              "      <th>3</th>\n",
              "      <td>2.2</td>\n",
              "      <td>1376</td>\n",
              "      <td>80</td>\n",
              "      <td>9.2</td>\n",
              "      <td>948</td>\n",
              "      <td>172</td>\n",
              "      <td>1092</td>\n",
              "      <td>122</td>\n",
              "      <td>1584</td>\n",
              "      <td>1203</td>\n",
              "      <td>11.0</td>\n",
              "      <td>60.0</td>\n",
              "      <td>0.7867</td>\n",
              "    </tr>\n",
              "    <tr>\n",
              "      <th>4</th>\n",
              "      <td>1.6</td>\n",
              "      <td>1272</td>\n",
              "      <td>51</td>\n",
              "      <td>6.5</td>\n",
              "      <td>836</td>\n",
              "      <td>131</td>\n",
              "      <td>1205</td>\n",
              "      <td>116</td>\n",
              "      <td>1490</td>\n",
              "      <td>1110</td>\n",
              "      <td>11.2</td>\n",
              "      <td>59.6</td>\n",
              "      <td>0.7888</td>\n",
              "    </tr>\n",
              "  </tbody>\n",
              "</table>\n",
              "</div>"
            ],
            "text/plain": [
              "   CO(GT)  PT08.S1(CO)  NMHC(GT)  C6H6(GT)  ...  PT08.S5(O3)     T    RH      AH\n",
              "0     2.6         1360       150      11.9  ...         1268  13.6  48.9  0.7578\n",
              "1     2.0         1292       112       9.4  ...          972  13.3  47.7  0.7255\n",
              "2     2.2         1402        88       9.0  ...         1074  11.9  54.0  0.7502\n",
              "3     2.2         1376        80       9.2  ...         1203  11.0  60.0  0.7867\n",
              "4     1.6         1272        51       6.5  ...         1110  11.2  59.6  0.7888\n",
              "\n",
              "[5 rows x 13 columns]"
            ]
          },
          "metadata": {
            "tags": []
          },
          "execution_count": 5
        }
      ]
    },
    {
      "cell_type": "markdown",
      "metadata": {
        "id": "MXsFAFHWI8dF"
      },
      "source": [
        "### Feature Selections\n",
        "\n",
        "It is the process of reducing the number of input variables when developing a predictive model. Used to reduce the number of input variables to both reduce the computational cost of modelling and, in some cases, to improve the performance of the model.\n",
        "\n",
        "We will assign all the required input features to X and target/outcome to Y."
      ]
    },
    {
      "cell_type": "code",
      "metadata": {
        "id": "arW9ZJsGI8dG"
      },
      "source": [
        "X=df[features]\n",
        "Y=df[target]"
      ],
      "execution_count": null,
      "outputs": []
    },
    {
      "cell_type": "markdown",
      "metadata": {
        "id": "Nd5lLS_gI8dG"
      },
      "source": [
        "### Data Preprocessing\n",
        "\n",
        "Since the majority of the machine learning models in the Sklearn library doesn't handle string category data and Null value, we have to explicitly remove or replace null values. The below snippet have functions, which removes the null value if any exists. And convert the string classes data in the datasets by encoding them to integer classes.\n"
      ]
    },
    {
      "cell_type": "code",
      "metadata": {
        "id": "baDl1Fx8I8dH"
      },
      "source": [
        "def NullClearner(df):\n",
        "    if(isinstance(df, pd.Series) and (df.dtype in [\"float64\",\"int64\"])):\n",
        "        df.fillna(df.mean(),inplace=True)\n",
        "        return df\n",
        "    elif(isinstance(df, pd.Series)):\n",
        "        df.fillna(df.mode()[0],inplace=True)\n",
        "        return df\n",
        "    else:return df\n",
        "def EncodeX(df):\n",
        "    return pd.get_dummies(df)"
      ],
      "execution_count": null,
      "outputs": []
    },
    {
      "cell_type": "markdown",
      "metadata": {
        "id": "6WPtP4w1I8dH"
      },
      "source": [
        "Calling preprocessing functions on the feature and target set.\n"
      ]
    },
    {
      "cell_type": "code",
      "metadata": {
        "id": "qR1kiLwoI8dI",
        "colab": {
          "base_uri": "https://localhost:8080/",
          "height": 203
        },
        "outputId": "51de3026-1af7-4d8e-999e-d527380b9820"
      },
      "source": [
        "x=X.columns.to_list()\n",
        "for i in x:\n",
        "    X[i]=NullClearner(X[i])\n",
        "X=EncodeX(X)\n",
        "Y=NullClearner(Y)\n",
        "X.head()"
      ],
      "execution_count": null,
      "outputs": [
        {
          "output_type": "execute_result",
          "data": {
            "text/html": [
              "<div>\n",
              "<style scoped>\n",
              "    .dataframe tbody tr th:only-of-type {\n",
              "        vertical-align: middle;\n",
              "    }\n",
              "\n",
              "    .dataframe tbody tr th {\n",
              "        vertical-align: top;\n",
              "    }\n",
              "\n",
              "    .dataframe thead th {\n",
              "        text-align: right;\n",
              "    }\n",
              "</style>\n",
              "<table border=\"1\" class=\"dataframe\">\n",
              "  <thead>\n",
              "    <tr style=\"text-align: right;\">\n",
              "      <th></th>\n",
              "      <th>CO(GT)</th>\n",
              "      <th>PT08.S1(CO)</th>\n",
              "      <th>NMHC(GT)</th>\n",
              "      <th>C6H6(GT)</th>\n",
              "      <th>PT08.S2(NMHC)</th>\n",
              "      <th>NOx(GT)</th>\n",
              "      <th>PT08.S3(NOx)</th>\n",
              "      <th>NO2(GT)</th>\n",
              "      <th>PT08.S4(NO2)</th>\n",
              "      <th>PT08.S5(O3)</th>\n",
              "      <th>RH</th>\n",
              "      <th>AH</th>\n",
              "    </tr>\n",
              "  </thead>\n",
              "  <tbody>\n",
              "    <tr>\n",
              "      <th>0</th>\n",
              "      <td>2.6</td>\n",
              "      <td>1360</td>\n",
              "      <td>150</td>\n",
              "      <td>11.9</td>\n",
              "      <td>1046</td>\n",
              "      <td>166</td>\n",
              "      <td>1056</td>\n",
              "      <td>113</td>\n",
              "      <td>1692</td>\n",
              "      <td>1268</td>\n",
              "      <td>48.9</td>\n",
              "      <td>0.7578</td>\n",
              "    </tr>\n",
              "    <tr>\n",
              "      <th>1</th>\n",
              "      <td>2.0</td>\n",
              "      <td>1292</td>\n",
              "      <td>112</td>\n",
              "      <td>9.4</td>\n",
              "      <td>955</td>\n",
              "      <td>103</td>\n",
              "      <td>1174</td>\n",
              "      <td>92</td>\n",
              "      <td>1559</td>\n",
              "      <td>972</td>\n",
              "      <td>47.7</td>\n",
              "      <td>0.7255</td>\n",
              "    </tr>\n",
              "    <tr>\n",
              "      <th>2</th>\n",
              "      <td>2.2</td>\n",
              "      <td>1402</td>\n",
              "      <td>88</td>\n",
              "      <td>9.0</td>\n",
              "      <td>939</td>\n",
              "      <td>131</td>\n",
              "      <td>1140</td>\n",
              "      <td>114</td>\n",
              "      <td>1555</td>\n",
              "      <td>1074</td>\n",
              "      <td>54.0</td>\n",
              "      <td>0.7502</td>\n",
              "    </tr>\n",
              "    <tr>\n",
              "      <th>3</th>\n",
              "      <td>2.2</td>\n",
              "      <td>1376</td>\n",
              "      <td>80</td>\n",
              "      <td>9.2</td>\n",
              "      <td>948</td>\n",
              "      <td>172</td>\n",
              "      <td>1092</td>\n",
              "      <td>122</td>\n",
              "      <td>1584</td>\n",
              "      <td>1203</td>\n",
              "      <td>60.0</td>\n",
              "      <td>0.7867</td>\n",
              "    </tr>\n",
              "    <tr>\n",
              "      <th>4</th>\n",
              "      <td>1.6</td>\n",
              "      <td>1272</td>\n",
              "      <td>51</td>\n",
              "      <td>6.5</td>\n",
              "      <td>836</td>\n",
              "      <td>131</td>\n",
              "      <td>1205</td>\n",
              "      <td>116</td>\n",
              "      <td>1490</td>\n",
              "      <td>1110</td>\n",
              "      <td>59.6</td>\n",
              "      <td>0.7888</td>\n",
              "    </tr>\n",
              "  </tbody>\n",
              "</table>\n",
              "</div>"
            ],
            "text/plain": [
              "   CO(GT)  PT08.S1(CO)  NMHC(GT)  ...  PT08.S5(O3)    RH      AH\n",
              "0     2.6         1360       150  ...         1268  48.9  0.7578\n",
              "1     2.0         1292       112  ...          972  47.7  0.7255\n",
              "2     2.2         1402        88  ...         1074  54.0  0.7502\n",
              "3     2.2         1376        80  ...         1203  60.0  0.7867\n",
              "4     1.6         1272        51  ...         1110  59.6  0.7888\n",
              "\n",
              "[5 rows x 12 columns]"
            ]
          },
          "metadata": {
            "tags": []
          },
          "execution_count": 8
        }
      ]
    },
    {
      "cell_type": "markdown",
      "metadata": {
        "id": "lSMfmgUiI8dJ"
      },
      "source": [
        "#### Correlation Map\n",
        "\n",
        "In order to check the correlation between the features, we will plot a correlation matrix. It is effective in summarizing a large amount of data where the goal is to see patterns."
      ]
    },
    {
      "cell_type": "code",
      "metadata": {
        "id": "N3MzDudTI8dJ",
        "colab": {
          "base_uri": "https://localhost:8080/",
          "height": 1000
        },
        "outputId": "9739412e-6007-4da8-9f2f-8bc09536d829"
      },
      "source": [
        "f,ax = plt.subplots(figsize=(18, 18))\n",
        "matrix = np.triu(X.corr())\n",
        "se.heatmap(X.corr(), annot=True, linewidths=.5, fmt= '.1f',ax=ax, mask=matrix)\n",
        "plt.show()"
      ],
      "execution_count": null,
      "outputs": [
        {
          "output_type": "display_data",
          "data": {
            "image/png": "[encoded data removed]",
            "text/plain": [
              "<Figure size 1296x1296 with 2 Axes>"
            ]
          },
          "metadata": {
            "tags": [],
            "needs_background": "light"
          }
        }
      ]
    },
    {
      "cell_type": "markdown",
      "metadata": {
        "id": "BCzPWpndI8dK"
      },
      "source": [
        "### Data Splitting\n",
        "\n",
        "The train-test split is a procedure for evaluating the performance of an algorithm. The procedure involves taking a dataset and dividing it into two subsets. The first subset is utilized to fit/train the model. The second subset is used for prediction. The main motive is to estimate the performance of the model on new data."
      ]
    },
    {
      "cell_type": "code",
      "metadata": {
        "id": "sDBwqB_iI8dL"
      },
      "source": [
        "x_train,x_test,y_train,y_test=train_test_split(X,Y,test_size=0.2,random_state=123)"
      ],
      "execution_count": null,
      "outputs": []
    },
    {
      "cell_type": "markdown",
      "metadata": {
        "id": "lGYlVXGTI8dL"
      },
      "source": [
        "### Model\n",
        "\n",
        "Stochastic Gradient Descent (SGD) is a simple yet very efficient approach to fitting linear classifiers and regressors under convex loss functions such as (linear) Support Vector Machines and Logistic Regression. SGD is merely an optimization technique and does not correspond to a specific family of machine learning models. It is only a way to train a model. Often, an instance of SGDClassifier or SGDRegressor will have an equivalent estimator in the scikit-learn API, potentially using a different optimization technique.\n",
        "\n",
        "\n",
        "For example, using SGDRegressor(loss='squared_loss', penalty='l2') and Ridge solve the same optimization problem, via different means.\n",
        "\n",
        "#### Model Tuning Parameters\n",
        "> - **loss** -> The loss function to be used. The possible values are ‘squared_loss’, ‘huber’, ‘epsilon_insensitive’, or ‘squared_epsilon_insensitive’\n",
        "> - **penalty** -> The penalty (aka regularization term) to be used. Defaults to ‘l2’ which is the standard regularizer for linear SVM models. ‘l1’ and ‘elasticnet’ might bring sparsity to the model (feature selection) not achievable with ‘l2’.\n",
        "> - **alpha** -> Constant that multiplies the regularization term. The higher the value, the stronger the regularization. Also used to compute the learning rate when set to learning_rate is set to ‘optimal’.\n",
        "> - **l1_ratio** -> The Elastic Net mixing parameter, with 0 <= l1_ratio <= 1. l1_ratio=0 corresponds to L2 penalty, l1_ratio=1 to L1. Only used if penalty is ‘elasticnet’.\n",
        "> - **tol** -> The stopping criterion\n",
        "> - **learning_rate** -> The learning rate schedule,possible values {'optimal','constant','invscaling','adaptive'}\n",
        "> - **eta0** -> The initial learning rate for the ‘constant’, ‘invscaling’ or ‘adaptive’ schedules.\n",
        "> - **power_t** -> The exponent for inverse scaling learning rate.\n",
        "> - **epsilon** -> Epsilon in the epsilon-insensitive loss functions; only if loss is ‘huber’, ‘epsilon_insensitive’, or ‘squared_epsilon_insensitive’."
      ]
    },
    {
      "cell_type": "markdown",
      "metadata": {
        "id": "exjvTH6UuQam"
      },
      "source": [
        "### Quantile Transformer\n",
        "\n",
        "This method transforms the features to follow a uniform or a normal distribution. Therefore, for a given feature, this transformation tends to spread out the most frequent values. It also reduces the impact of (marginal) outliers: this is therefore a robust preprocessing scheme.\n",
        "\n",
        "Transform features using quantiles information."
      ]
    },
    {
      "cell_type": "code",
      "metadata": {
        "colab": {
          "base_uri": "https://localhost:8080/"
        },
        "id": "vjQa0UjOulBw",
        "outputId": "fb84f701-8e4e-4488-892f-60bad89881a2"
      },
      "source": [
        "model=make_pipeline(QuantileTransformer(),SGDRegressor(random_state=123))\n",
        "model.fit(x_train,y_train)"
      ],
      "execution_count": null,
      "outputs": [
        {
          "output_type": "execute_result",
          "data": {
            "text/plain": [
              "Pipeline(memory=None,\n",
              "         steps=[('quantiletransformer',\n",
              "                 QuantileTransformer(copy=True, ignore_implicit_zeros=False,\n",
              "                                     n_quantiles=1000,\n",
              "                                     output_distribution='uniform',\n",
              "                                     random_state=None, subsample=100000)),\n",
              "                ('sgdregressor',\n",
              "                 SGDRegressor(alpha=0.0001, average=False, early_stopping=False,\n",
              "                              epsilon=0.1, eta0=0.01, fit_intercept=True,\n",
              "                              l1_ratio=0.15, learning_rate='invscaling',\n",
              "                              loss='squared_loss', max_iter=1000,\n",
              "                              n_iter_no_change=5, penalty='l2', power_t=0.25,\n",
              "                              random_state=123, shuffle=True, tol=0.001,\n",
              "                              validation_fraction=0.1, verbose=0,\n",
              "                              warm_start=False))],\n",
              "         verbose=False)"
            ]
          },
          "metadata": {
            "tags": []
          },
          "execution_count": 11
        }
      ]
    },
    {
      "cell_type": "markdown",
      "metadata": {
        "id": "IF1ERs_jI8dN"
      },
      "source": [
        "#### Model Accuracy\n",
        "\n",
        "We will use the trained model to make a prediction on the test set.Then use the predicted value for measuring the accuracy of our model.\n",
        "\n",
        "score: The score function returns the coefficient of determination R2 of the prediction.\n",
        "\n"
      ]
    },
    {
      "cell_type": "code",
      "metadata": {
        "id": "2EVdoyqyI8dN",
        "colab": {
          "base_uri": "https://localhost:8080/"
        },
        "outputId": "14d09eee-f764-453c-b7c2-de8327ea238b"
      },
      "source": [
        "print(\"Accuracy score {:.2f} %\\n\".format(model.score(x_test,y_test)*100))"
      ],
      "execution_count": null,
      "outputs": [
        {
          "output_type": "stream",
          "text": [
            "Accuracy score 85.24 %\n",
            "\n"
          ],
          "name": "stdout"
        }
      ]
    },
    {
      "cell_type": "markdown",
      "metadata": {
        "id": "Tq4WUuhpI8dN"
      },
      "source": [
        "> **r2_score**: The **r2_score** function computes the percentage variablility explained by our model, either the fraction or the count of correct predictions.  \n",
        "\n",
        "> **mae**: The **mean abosolute error** function calculates the amount of total error(absolute average distance between the real data and the predicted data) by our model.  \n",
        "\n",
        "> **mse**: The **mean squared error** function squares the error(penalizes the model for large errors) by our model. "
      ]
    },
    {
      "cell_type": "code",
      "metadata": {
        "id": "6bcfLtmvI8dO",
        "colab": {
          "base_uri": "https://localhost:8080/"
        },
        "outputId": "65918768-5a10-4253-f553-447743b6a29d"
      },
      "source": [
        "y_pred=model.predict(x_test)\n",
        "print(\"R2 Score: {:.2f} %\".format(r2_score(y_test,y_pred)*100))\n",
        "print(\"Mean Absolute Error {:.2f}\".format(mean_absolute_error(y_test,y_pred)))\n",
        "print(\"Mean Squared Error {:.2f}\".format(mean_squared_error(y_test,y_pred)))"
      ],
      "execution_count": null,
      "outputs": [
        {
          "output_type": "stream",
          "text": [
            "R2 Score: 85.24 %\n",
            "Mean Absolute Error 11.19\n",
            "Mean Squared Error 239.80\n"
          ],
          "name": "stdout"
        }
      ]
    },
    {
      "cell_type": "markdown",
      "metadata": {
        "id": "UJ2XyLgoI8dO"
      },
      "source": [
        "#### Prediction Plot\n",
        "\n",
        "First, we make use of a plot to plot the actual observations, with x_train on the x-axis and y_train on the y-axis.\n",
        "For the regression line, we will use x_train on the x-axis and then the predictions of the x_train observations on the y-axis."
      ]
    },
    {
      "cell_type": "code",
      "metadata": {
        "id": "MYStajl_I8dO",
        "colab": {
          "base_uri": "https://localhost:8080/",
          "height": 621
        },
        "outputId": "88c12a7b-4782-442a-d1b5-aaae6bfeb4f0"
      },
      "source": [
        "n=len(x_test) if len(x_test)<20 else 20\n",
        "plt.figure(figsize=(14,10))\n",
        "plt.plot(range(n),y_test[0:n], color = \"green\")\n",
        "plt.plot(range(n),model.predict(x_test[0:n]), color = \"red\")\n",
        "plt.legend([\"Actual\",\"prediction\"]) \n",
        "plt.title(\"Predicted vs True Value\")\n",
        "plt.xlabel(\"Record number\")\n",
        "plt.ylabel(target)\n",
        "plt.show()"
      ],
      "execution_count": null,
      "outputs": [
        {
          "output_type": "display_data",
          "data": {
            "image/png": "[encoded data removed]",
            "text/plain": [
              "<Figure size 1008x720 with 1 Axes>"
            ]
          },
          "metadata": {
            "tags": [],
            "needs_background": "light"
          }
        }
      ]
    },
    {
      "cell_type": "markdown",
      "metadata": {
        "id": "eLjzoA50I8dP"
      },
      "source": [
        "#### Creator: Ayush Gupta , Github: [Profile](https://github.com/guptayush179)"
      ]
    }
  ]
}