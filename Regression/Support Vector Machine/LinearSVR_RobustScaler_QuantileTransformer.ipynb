{
  "nbformat": 4,
  "nbformat_minor": 0,
  "metadata": {
    "kernelspec": {
      "language": "python",
      "display_name": "Python 3",
      "name": "python3"
    },
    "language_info": {
      "name": "python",
      "version": "3.7.10",
      "mimetype": "text/x-python",
      "codemirror_mode": {
        "name": "ipython",
        "version": 3
      },
      "pygments_lexer": "ipython3",
      "nbconvert_exporter": "python",
      "file_extension": ".py"
    },
    "colab": {
      "name": "LinearSVR_RobustScaler_QuantileTransformer.ipynb",
      "provenance": [],
      "collapsed_sections": []
    }
  },
  "cells": [
    {
      "cell_type": "markdown",
      "metadata": {
        "id": "L09XB2V4NoSF"
      },
      "source": [
        "# **LinearSVR with RobustScaler & QuantileTransformer**"
      ]
    },
    {
      "cell_type": "markdown",
      "metadata": {
        "id": "FIyjcntYNoSO"
      },
      "source": [
        "This Code template is for the regression analysis using a LinearSVR where separate rescaling is done using RobustScaler and feature transformation is done using QuantileTransformer in a pipeline."
      ]
    },
    {
      "cell_type": "markdown",
      "metadata": {
        "id": "u06WXXrWNoSQ"
      },
      "source": [
        "### **Required Packages**"
      ]
    },
    {
      "cell_type": "code",
      "metadata": {
        "execution": {
          "iopub.status.busy": "2021-08-31T07:10:26.745930Z",
          "iopub.execute_input": "2021-08-31T07:10:26.746385Z",
          "iopub.status.idle": "2021-08-31T07:10:26.752695Z",
          "shell.execute_reply.started": "2021-08-31T07:10:26.746344Z",
          "shell.execute_reply": "2021-08-31T07:10:26.751486Z"
        },
        "trusted": true,
        "id": "3dnanZCkNoSR"
      },
      "source": [
        "import warnings\n",
        "import numpy as np \n",
        "import pandas as pd \n",
        "import seaborn as se \n",
        "import matplotlib.pyplot as plt \n",
        "from sklearn.model_selection import train_test_split \n",
        "from sklearn.preprocessing import RobustScaler, QuantileTransformer\n",
        "from sklearn.pipeline import make_pipeline\n",
        "from sklearn.metrics import r2_score, mean_absolute_error, mean_squared_error \n",
        "from sklearn.svm import LinearSVR\n",
        "warnings.filterwarnings('ignore')"
      ],
      "execution_count": null,
      "outputs": []
    },
    {
      "cell_type": "markdown",
      "metadata": {
        "id": "CdfIHaTXNoSU"
      },
      "source": [
        "### **Initialization**\n",
        "Filepath of CSV file"
      ]
    },
    {
      "cell_type": "code",
      "metadata": {
        "execution": {
          "iopub.status.busy": "2021-08-31T07:10:26.754499Z",
          "iopub.execute_input": "2021-08-31T07:10:26.754881Z",
          "iopub.status.idle": "2021-08-31T07:10:26.767220Z",
          "shell.execute_reply.started": "2021-08-31T07:10:26.754851Z",
          "shell.execute_reply": "2021-08-31T07:10:26.766091Z"
        },
        "trusted": true,
        "id": "RONjXbitNoSV"
      },
      "source": [
        "file_path= \"\""
      ],
      "execution_count": null,
      "outputs": []
    },
    {
      "cell_type": "markdown",
      "metadata": {
        "id": "8nO5HIB2NoSX"
      },
      "source": [
        "List of features which are required for model training ."
      ]
    },
    {
      "cell_type": "code",
      "metadata": {
        "execution": {
          "iopub.status.busy": "2021-08-31T07:10:26.769016Z",
          "iopub.execute_input": "2021-08-31T07:10:26.769391Z",
          "iopub.status.idle": "2021-08-31T07:10:26.780627Z",
          "shell.execute_reply.started": "2021-08-31T07:10:26.769360Z",
          "shell.execute_reply": "2021-08-31T07:10:26.779588Z"
        },
        "trusted": true,
        "id": "IJ0irIcbNoSa"
      },
      "source": [
        "features = []"
      ],
      "execution_count": null,
      "outputs": []
    },
    {
      "cell_type": "markdown",
      "metadata": {
        "id": "O2ypObwJNoSc"
      },
      "source": [
        "Target feature for prediction."
      ]
    },
    {
      "cell_type": "code",
      "metadata": {
        "execution": {
          "iopub.status.busy": "2021-08-31T07:10:26.782515Z",
          "iopub.execute_input": "2021-08-31T07:10:26.782798Z",
          "iopub.status.idle": "2021-08-31T07:10:26.791954Z",
          "shell.execute_reply.started": "2021-08-31T07:10:26.782770Z",
          "shell.execute_reply": "2021-08-31T07:10:26.791130Z"
        },
        "trusted": true,
        "id": "YAUo-dGrNoSf"
      },
      "source": [
        "target = ''"
      ],
      "execution_count": null,
      "outputs": []
    },
    {
      "cell_type": "markdown",
      "metadata": {
        "id": "ZPE8rzkoNoSh"
      },
      "source": [
        "### **Dataset Overview**\n",
        "Pandas is an open-source, BSD-licensed library providing high-performance, easy-to-use data manipulation and data analysis tools.\n",
        "\n",
        "We will use panda's library to read the CSV file using its storage path.And we use the head function to display the initial row or entry."
      ]
    },
    {
      "cell_type": "code",
      "metadata": {
        "execution": {
          "iopub.status.busy": "2021-08-31T07:10:26.793324Z",
          "iopub.execute_input": "2021-08-31T07:10:26.793704Z",
          "iopub.status.idle": "2021-08-31T07:10:26.823580Z",
          "shell.execute_reply.started": "2021-08-31T07:10:26.793670Z",
          "shell.execute_reply": "2021-08-31T07:10:26.822608Z"
        },
        "trusted": true,
        "colab": {
          "base_uri": "https://localhost:8080/",
          "height": 204
        },
        "id": "FJ_mV8Y5NoSi",
        "outputId": "a407aeae-e45f-494d-8b1b-1cf5f1572d14"
      },
      "source": [
        "df=pd.read_csv(file_path)\n",
        "df.head()"
      ],
      "execution_count": null,
      "outputs": [
        {
          "output_type": "execute_result",
          "data": {
            "text/html": [
              "<div>\n",
              "<style scoped>\n",
              "    .dataframe tbody tr th:only-of-type {\n",
              "        vertical-align: middle;\n",
              "    }\n",
              "\n",
              "    .dataframe tbody tr th {\n",
              "        vertical-align: top;\n",
              "    }\n",
              "\n",
              "    .dataframe thead th {\n",
              "        text-align: right;\n",
              "    }\n",
              "</style>\n",
              "<table border=\"1\" class=\"dataframe\">\n",
              "  <thead>\n",
              "    <tr style=\"text-align: right;\">\n",
              "      <th></th>\n",
              "      <th>AT</th>\n",
              "      <th>V</th>\n",
              "      <th>AP</th>\n",
              "      <th>RH</th>\n",
              "      <th>PE</th>\n",
              "    </tr>\n",
              "  </thead>\n",
              "  <tbody>\n",
              "    <tr>\n",
              "      <th>0</th>\n",
              "      <td>14.96</td>\n",
              "      <td>41.76</td>\n",
              "      <td>1024.07</td>\n",
              "      <td>73.17</td>\n",
              "      <td>463.26</td>\n",
              "    </tr>\n",
              "    <tr>\n",
              "      <th>1</th>\n",
              "      <td>25.18</td>\n",
              "      <td>62.96</td>\n",
              "      <td>1020.04</td>\n",
              "      <td>59.08</td>\n",
              "      <td>444.37</td>\n",
              "    </tr>\n",
              "    <tr>\n",
              "      <th>2</th>\n",
              "      <td>5.11</td>\n",
              "      <td>39.40</td>\n",
              "      <td>1012.16</td>\n",
              "      <td>92.14</td>\n",
              "      <td>488.56</td>\n",
              "    </tr>\n",
              "    <tr>\n",
              "      <th>3</th>\n",
              "      <td>20.86</td>\n",
              "      <td>57.32</td>\n",
              "      <td>1010.24</td>\n",
              "      <td>76.64</td>\n",
              "      <td>446.48</td>\n",
              "    </tr>\n",
              "    <tr>\n",
              "      <th>4</th>\n",
              "      <td>10.82</td>\n",
              "      <td>37.50</td>\n",
              "      <td>1009.23</td>\n",
              "      <td>96.62</td>\n",
              "      <td>473.90</td>\n",
              "    </tr>\n",
              "  </tbody>\n",
              "</table>\n",
              "</div>"
            ],
            "text/plain": [
              "      AT      V       AP     RH      PE\n",
              "0  14.96  41.76  1024.07  73.17  463.26\n",
              "1  25.18  62.96  1020.04  59.08  444.37\n",
              "2   5.11  39.40  1012.16  92.14  488.56\n",
              "3  20.86  57.32  1010.24  76.64  446.48\n",
              "4  10.82  37.50  1009.23  96.62  473.90"
            ]
          },
          "metadata": {},
          "execution_count": 5
        }
      ]
    },
    {
      "cell_type": "markdown",
      "metadata": {
        "id": "jigDrVCBNoSk"
      },
      "source": [
        "### **Dataset Information**\n",
        "Print a concise summary of a DataFrame.\n",
        "\n",
        "We will use info() method to print the information about the DataFrame including the index dtype and columns, non-null values and memory usage."
      ]
    },
    {
      "cell_type": "code",
      "metadata": {
        "execution": {
          "iopub.status.busy": "2021-08-31T07:10:26.824878Z",
          "iopub.execute_input": "2021-08-31T07:10:26.825214Z",
          "iopub.status.idle": "2021-08-31T07:10:26.838631Z",
          "shell.execute_reply.started": "2021-08-31T07:10:26.825185Z",
          "shell.execute_reply": "2021-08-31T07:10:26.837497Z"
        },
        "trusted": true,
        "colab": {
          "base_uri": "https://localhost:8080/"
        },
        "id": "U5WQoQEsNoSm",
        "outputId": "01ad6d65-dd3c-4a18-d6b1-d32cb4d46869"
      },
      "source": [
        "df.info()"
      ],
      "execution_count": null,
      "outputs": [
        {
          "output_type": "stream",
          "name": "stdout",
          "text": [
            "<class 'pandas.core.frame.DataFrame'>\n",
            "RangeIndex: 9568 entries, 0 to 9567\n",
            "Data columns (total 5 columns):\n",
            " #   Column  Non-Null Count  Dtype  \n",
            "---  ------  --------------  -----  \n",
            " 0   AT      9568 non-null   float64\n",
            " 1   V       9568 non-null   float64\n",
            " 2   AP      9568 non-null   float64\n",
            " 3   RH      9568 non-null   float64\n",
            " 4   PE      9568 non-null   float64\n",
            "dtypes: float64(5)\n",
            "memory usage: 373.9 KB\n"
          ]
        }
      ]
    },
    {
      "cell_type": "markdown",
      "metadata": {
        "id": "a5KgtqRANoSn"
      },
      "source": [
        "### **Dataset Describe**\n",
        "Generate descriptive statistics.\n",
        "\n",
        "Descriptive statistics include those that summarize the central tendency, dispersion and shape of a dataset’s distribution, excluding NaN values.\n",
        "\n",
        "We will analyzes both numeric and object series, as well as DataFrame column sets of mixed data types. "
      ]
    },
    {
      "cell_type": "code",
      "metadata": {
        "execution": {
          "iopub.status.busy": "2021-08-31T07:10:26.840161Z",
          "iopub.execute_input": "2021-08-31T07:10:26.840440Z",
          "iopub.status.idle": "2021-08-31T07:10:26.869538Z",
          "shell.execute_reply.started": "2021-08-31T07:10:26.840414Z",
          "shell.execute_reply": "2021-08-31T07:10:26.868689Z"
        },
        "trusted": true,
        "colab": {
          "base_uri": "https://localhost:8080/",
          "height": 297
        },
        "id": "QGIQQYbmNoSo",
        "outputId": "79a9d9a4-f53e-49ef-d387-ae9dd900bac6"
      },
      "source": [
        "df.describe()"
      ],
      "execution_count": null,
      "outputs": [
        {
          "output_type": "execute_result",
          "data": {
            "text/html": [
              "<div>\n",
              "<style scoped>\n",
              "    .dataframe tbody tr th:only-of-type {\n",
              "        vertical-align: middle;\n",
              "    }\n",
              "\n",
              "    .dataframe tbody tr th {\n",
              "        vertical-align: top;\n",
              "    }\n",
              "\n",
              "    .dataframe thead th {\n",
              "        text-align: right;\n",
              "    }\n",
              "</style>\n",
              "<table border=\"1\" class=\"dataframe\">\n",
              "  <thead>\n",
              "    <tr style=\"text-align: right;\">\n",
              "      <th></th>\n",
              "      <th>AT</th>\n",
              "      <th>V</th>\n",
              "      <th>AP</th>\n",
              "      <th>RH</th>\n",
              "      <th>PE</th>\n",
              "    </tr>\n",
              "  </thead>\n",
              "  <tbody>\n",
              "    <tr>\n",
              "      <th>count</th>\n",
              "      <td>9568.000000</td>\n",
              "      <td>9568.000000</td>\n",
              "      <td>9568.000000</td>\n",
              "      <td>9568.000000</td>\n",
              "      <td>9568.000000</td>\n",
              "    </tr>\n",
              "    <tr>\n",
              "      <th>mean</th>\n",
              "      <td>19.651231</td>\n",
              "      <td>54.305804</td>\n",
              "      <td>1013.259078</td>\n",
              "      <td>73.308978</td>\n",
              "      <td>454.365009</td>\n",
              "    </tr>\n",
              "    <tr>\n",
              "      <th>std</th>\n",
              "      <td>7.452473</td>\n",
              "      <td>12.707893</td>\n",
              "      <td>5.938784</td>\n",
              "      <td>14.600269</td>\n",
              "      <td>17.066995</td>\n",
              "    </tr>\n",
              "    <tr>\n",
              "      <th>min</th>\n",
              "      <td>1.810000</td>\n",
              "      <td>25.360000</td>\n",
              "      <td>992.890000</td>\n",
              "      <td>25.560000</td>\n",
              "      <td>420.260000</td>\n",
              "    </tr>\n",
              "    <tr>\n",
              "      <th>25%</th>\n",
              "      <td>13.510000</td>\n",
              "      <td>41.740000</td>\n",
              "      <td>1009.100000</td>\n",
              "      <td>63.327500</td>\n",
              "      <td>439.750000</td>\n",
              "    </tr>\n",
              "    <tr>\n",
              "      <th>50%</th>\n",
              "      <td>20.345000</td>\n",
              "      <td>52.080000</td>\n",
              "      <td>1012.940000</td>\n",
              "      <td>74.975000</td>\n",
              "      <td>451.550000</td>\n",
              "    </tr>\n",
              "    <tr>\n",
              "      <th>75%</th>\n",
              "      <td>25.720000</td>\n",
              "      <td>66.540000</td>\n",
              "      <td>1017.260000</td>\n",
              "      <td>84.830000</td>\n",
              "      <td>468.430000</td>\n",
              "    </tr>\n",
              "    <tr>\n",
              "      <th>max</th>\n",
              "      <td>37.110000</td>\n",
              "      <td>81.560000</td>\n",
              "      <td>1033.300000</td>\n",
              "      <td>100.160000</td>\n",
              "      <td>495.760000</td>\n",
              "    </tr>\n",
              "  </tbody>\n",
              "</table>\n",
              "</div>"
            ],
            "text/plain": [
              "                AT            V           AP           RH           PE\n",
              "count  9568.000000  9568.000000  9568.000000  9568.000000  9568.000000\n",
              "mean     19.651231    54.305804  1013.259078    73.308978   454.365009\n",
              "std       7.452473    12.707893     5.938784    14.600269    17.066995\n",
              "min       1.810000    25.360000   992.890000    25.560000   420.260000\n",
              "25%      13.510000    41.740000  1009.100000    63.327500   439.750000\n",
              "50%      20.345000    52.080000  1012.940000    74.975000   451.550000\n",
              "75%      25.720000    66.540000  1017.260000    84.830000   468.430000\n",
              "max      37.110000    81.560000  1033.300000   100.160000   495.760000"
            ]
          },
          "metadata": {},
          "execution_count": 7
        }
      ]
    },
    {
      "cell_type": "markdown",
      "metadata": {
        "id": "WTC_QaeyNoSo"
      },
      "source": [
        "### **Feature Selection**\n",
        "It is the process of reducing the number of input variables when developing a predictive model. Used to reduce the number of input variables to both reduce the computational cost of modelling and, in some cases, to improve the performance of the model.\n",
        "\n",
        "We will assign all the required input features to X and target/outcome to Y."
      ]
    },
    {
      "cell_type": "code",
      "metadata": {
        "execution": {
          "iopub.status.busy": "2021-08-31T07:10:26.871533Z",
          "iopub.execute_input": "2021-08-31T07:10:26.871800Z",
          "iopub.status.idle": "2021-08-31T07:10:26.876522Z",
          "shell.execute_reply.started": "2021-08-31T07:10:26.871774Z",
          "shell.execute_reply": "2021-08-31T07:10:26.875431Z"
        },
        "trusted": true,
        "id": "-q3eRAukNoSp"
      },
      "source": [
        "X=df[features]\n",
        "Y=df[target]"
      ],
      "execution_count": null,
      "outputs": []
    },
    {
      "cell_type": "code",
      "metadata": {
        "colab": {
          "base_uri": "https://localhost:8080/"
        },
        "id": "6HGfopnyQEZt",
        "outputId": "ad89f66b-a902-434f-dc0c-7d748ba2ea58"
      },
      "source": [
        "y.head()"
      ],
      "execution_count": null,
      "outputs": [
        {
          "output_type": "execute_result",
          "data": {
            "text/plain": [
              "0    463.26\n",
              "1    444.37\n",
              "2    488.56\n",
              "3    446.48\n",
              "4    473.90\n",
              "Name: PE, dtype: float64"
            ]
          },
          "metadata": {},
          "execution_count": 16
        }
      ]
    },
    {
      "cell_type": "markdown",
      "metadata": {
        "id": "ph0vRv2LNoSp"
      },
      "source": [
        "### **Data Preprocessing**\n",
        "Since we do not know what is the number of Null values in each column.So,we print the columns arranged in descreasnig orde "
      ]
    },
    {
      "cell_type": "code",
      "metadata": {
        "execution": {
          "iopub.status.busy": "2021-08-31T07:10:26.878169Z",
          "iopub.execute_input": "2021-08-31T07:10:26.878434Z",
          "iopub.status.idle": "2021-08-31T07:10:26.894299Z",
          "shell.execute_reply.started": "2021-08-31T07:10:26.878408Z",
          "shell.execute_reply": "2021-08-31T07:10:26.893275Z"
        },
        "trusted": true,
        "colab": {
          "base_uri": "https://localhost:8080/"
        },
        "id": "FmnyaFw2NoSp",
        "outputId": "dc087430-c581-488f-99fc-8e38a47dc43d"
      },
      "source": [
        "print(df.isnull().sum().sort_values(ascending=False))"
      ],
      "execution_count": null,
      "outputs": [
        {
          "output_type": "stream",
          "name": "stdout",
          "text": [
            "PE    0\n",
            "RH    0\n",
            "AP    0\n",
            "V     0\n",
            "AT    0\n",
            "dtype: int64\n"
          ]
        }
      ]
    },
    {
      "cell_type": "markdown",
      "metadata": {
        "id": "cpEaMyDtNoSq"
      },
      "source": [
        "Since the majority of the machine learning models in the Sklearn library doesn't handle string category data and Null value, we have to explicitly remove or replace null values. The below snippet have functions, which removes the null value if any exists. And convert the string classes data in the datasets by encoding them to integer classes."
      ]
    },
    {
      "cell_type": "code",
      "metadata": {
        "execution": {
          "iopub.status.busy": "2021-08-31T07:10:26.896019Z",
          "iopub.execute_input": "2021-08-31T07:10:26.896338Z",
          "iopub.status.idle": "2021-08-31T07:10:26.904356Z",
          "shell.execute_reply.started": "2021-08-31T07:10:26.896310Z",
          "shell.execute_reply": "2021-08-31T07:10:26.903312Z"
        },
        "trusted": true,
        "id": "oKIUNFztNoSq"
      },
      "source": [
        "def NullClearner(df):\n",
        "    if(isinstance(df, pd.Series) and (df.dtype in [\"float64\",\"int64\"])):\n",
        "        df.fillna(df.mean(),inplace=True)\n",
        "        return df\n",
        "    elif(isinstance(df, pd.Series)):\n",
        "        df.fillna(df.mode()[0],inplace=True)\n",
        "        return df\n",
        "    else:return df\n",
        "def EncodeX(df):\n",
        "    return pd.get_dummies(df)"
      ],
      "execution_count": null,
      "outputs": []
    },
    {
      "cell_type": "markdown",
      "metadata": {
        "id": "NBm5KY2ONoSr"
      },
      "source": [
        "Calling preprocessing functions on the feature and target set."
      ]
    },
    {
      "cell_type": "code",
      "metadata": {
        "execution": {
          "iopub.status.busy": "2021-08-31T07:10:26.931504Z",
          "iopub.execute_input": "2021-08-31T07:10:26.931998Z",
          "iopub.status.idle": "2021-08-31T07:10:26.955117Z",
          "shell.execute_reply.started": "2021-08-31T07:10:26.931956Z",
          "shell.execute_reply": "2021-08-31T07:10:26.954170Z"
        },
        "trusted": true,
        "colab": {
          "base_uri": "https://localhost:8080/",
          "height": 204
        },
        "id": "kIZldjd-NoSs",
        "outputId": "b55bd75d-0edb-43ca-cee2-51bb465f9003"
      },
      "source": [
        "x=X.columns.to_list()\n",
        "for i in x:\n",
        "    X[i]=NullClearner(X[i])\n",
        "X=EncodeX(X)\n",
        "Y=NullClearner(Y)\n",
        "X.head()"
      ],
      "execution_count": null,
      "outputs": [
        {
          "output_type": "execute_result",
          "data": {
            "text/html": [
              "<div>\n",
              "<style scoped>\n",
              "    .dataframe tbody tr th:only-of-type {\n",
              "        vertical-align: middle;\n",
              "    }\n",
              "\n",
              "    .dataframe tbody tr th {\n",
              "        vertical-align: top;\n",
              "    }\n",
              "\n",
              "    .dataframe thead th {\n",
              "        text-align: right;\n",
              "    }\n",
              "</style>\n",
              "<table border=\"1\" class=\"dataframe\">\n",
              "  <thead>\n",
              "    <tr style=\"text-align: right;\">\n",
              "      <th></th>\n",
              "      <th>AT</th>\n",
              "      <th>V</th>\n",
              "      <th>AP</th>\n",
              "      <th>RH</th>\n",
              "    </tr>\n",
              "  </thead>\n",
              "  <tbody>\n",
              "    <tr>\n",
              "      <th>0</th>\n",
              "      <td>14.96</td>\n",
              "      <td>41.76</td>\n",
              "      <td>1024.07</td>\n",
              "      <td>73.17</td>\n",
              "    </tr>\n",
              "    <tr>\n",
              "      <th>1</th>\n",
              "      <td>25.18</td>\n",
              "      <td>62.96</td>\n",
              "      <td>1020.04</td>\n",
              "      <td>59.08</td>\n",
              "    </tr>\n",
              "    <tr>\n",
              "      <th>2</th>\n",
              "      <td>5.11</td>\n",
              "      <td>39.40</td>\n",
              "      <td>1012.16</td>\n",
              "      <td>92.14</td>\n",
              "    </tr>\n",
              "    <tr>\n",
              "      <th>3</th>\n",
              "      <td>20.86</td>\n",
              "      <td>57.32</td>\n",
              "      <td>1010.24</td>\n",
              "      <td>76.64</td>\n",
              "    </tr>\n",
              "    <tr>\n",
              "      <th>4</th>\n",
              "      <td>10.82</td>\n",
              "      <td>37.50</td>\n",
              "      <td>1009.23</td>\n",
              "      <td>96.62</td>\n",
              "    </tr>\n",
              "  </tbody>\n",
              "</table>\n",
              "</div>"
            ],
            "text/plain": [
              "      AT      V       AP     RH\n",
              "0  14.96  41.76  1024.07  73.17\n",
              "1  25.18  62.96  1020.04  59.08\n",
              "2   5.11  39.40  1012.16  92.14\n",
              "3  20.86  57.32  1010.24  76.64\n",
              "4  10.82  37.50  1009.23  96.62"
            ]
          },
          "metadata": {},
          "execution_count": 19
        }
      ]
    },
    {
      "cell_type": "markdown",
      "metadata": {
        "id": "RWVLyhcYNoSs"
      },
      "source": [
        "#### **Correlation Map**\n",
        "In order to check the correlation between the features, we will plot a correlation matrix. It is effective in summarizing a large amount of data where the goal is to see patterns."
      ]
    },
    {
      "cell_type": "code",
      "metadata": {
        "execution": {
          "iopub.status.busy": "2021-08-31T07:10:26.957920Z",
          "iopub.execute_input": "2021-08-31T07:10:26.958235Z",
          "iopub.status.idle": "2021-08-31T07:10:27.228300Z",
          "shell.execute_reply.started": "2021-08-31T07:10:26.958206Z",
          "shell.execute_reply": "2021-08-31T07:10:27.227341Z"
        },
        "trusted": true,
        "colab": {
          "base_uri": "https://localhost:8080/",
          "height": 1000
        },
        "id": "GgcjrGq9NoSt",
        "outputId": "efe7ad89-d000-46a6-98f3-945ebca9918a"
      },
      "source": [
        "f,ax = plt.subplots(figsize=(18, 18))\n",
        "matrix = np.triu(X.corr())\n",
        "se.heatmap(X.corr(), annot=True, linewidths=.5, fmt= '.1f',ax=ax, mask=matrix)\n",
        "plt.show()"
      ],
      "execution_count": null,
      "outputs": [
        {
          "output_type": "display_data",
          "data": {
            "image/png": "[encoded data removed]",
            "text/plain": [
              "<Figure size 1296x1296 with 2 Axes>"
            ]
          },
          "metadata": {
            "needs_background": "light"
          }
        }
      ]
    },
    {
      "cell_type": "markdown",
      "metadata": {
        "id": "rLZTvSy2NoSt"
      },
      "source": [
        "## **Data Splitting**\n",
        "The train-test split is a procedure for evaluating the performance of an algorithm. The procedure involves taking a dataset and dividing it into two subsets. The first subset is utilized to fit/train the model. The second subset is used for prediction. The main motive is to estimate the performance of the model on new data."
      ]
    },
    {
      "cell_type": "code",
      "metadata": {
        "execution": {
          "iopub.status.busy": "2021-08-31T07:10:27.230166Z",
          "iopub.execute_input": "2021-08-31T07:10:27.230443Z",
          "iopub.status.idle": "2021-08-31T07:10:27.237835Z",
          "shell.execute_reply.started": "2021-08-31T07:10:27.230416Z",
          "shell.execute_reply": "2021-08-31T07:10:27.237148Z"
        },
        "trusted": true,
        "id": "isE4-mt7NoSt"
      },
      "source": [
        "x_train,x_test,y_train,y_test=train_test_split(X,Y,test_size=0.2,random_state=123)"
      ],
      "execution_count": null,
      "outputs": []
    },
    {
      "cell_type": "markdown",
      "metadata": {
        "id": "x2nyv16FNoSu"
      },
      "source": [
        "### **Quantile Transformer**\n",
        "QuantileTransformer method transforms features in a way that follows a uniform or a normal distribution, which results in an increase in the frequency of values for any given feature. In the first step, values are mapped to a uniform distribution using an estimate of the cumulative distribution function. Using the associated quantile function, the obtained values are mapped to the desired output distribution. \n",
        "\n",
        "[reference](https://scikit-learn.org/stable/modules/generated/sklearn.preprocessing.QuantileTransformer.html) "
      ]
    },
    {
      "cell_type": "markdown",
      "metadata": {
        "id": "GwJbfDUtNoSu"
      },
      "source": [
        "### **Model**\n",
        "Support vector machines (SVMs) are a set of supervised learning methods used for classification, regression and outliers detection.\n",
        "\n",
        "A Support Vector Machine is a discriminative classifier formally defined by a separating hyperplane. In other terms, for a given known/labelled data points, the SVM outputs an appropriate hyperplane that classifies the inputted new cases based on the hyperplane. In 2-Dimensional space, this hyperplane is a line separating a plane into two segments where each class or group occupied on either side.\n",
        "\n",
        "LinearSVR is similar to SVR with kernel=’linear’. It has more flexibility in the choice of tuning parameters and is suited for large samples."
      ]
    },
    {
      "cell_type": "markdown",
      "metadata": {
        "id": "irl_BaBvNoSv"
      },
      "source": [
        "**Model Tuning Parameters**\n",
        "> epsilon : float, default=0.0 -> Epsilon parameter in the epsilon-insensitive loss function.\n",
        "\n",
        "> loss : {‘epsilon_insensitive’, ‘squared_epsilon_insensitive’}, default=’epsilon_insensitive’ -> Specifies the loss function. ‘hinge’ is the standard SVM loss (used e.g. by the SVC class) while ‘squared_hinge’ is the square of the hinge loss. The combination of penalty='l1' and loss='hinge' is not supported.\n",
        "\n",
        ">  C : float, default=1.0 ->Regularization parameter. The strength of the regularization is inversely proportional to C. Must be strictly positive.\n",
        "\n",
        "> tol : float, default=1e-4-> Tolerance for stopping criteria."
      ]
    },
    {
      "cell_type": "markdown",
      "metadata": {
        "id": "NhO1CBMDNoSv"
      },
      "source": [
        "#### **Rescaling Technique**\n",
        "RobustScaler scales features using statistics that are robust to outliers.\n",
        "\n",
        "This Scaler removes the median and scales the data according to the quantile range (defaults to IQR: Interquartile Range). The IQR is the range between the 1st quartile (25th quantile) and the 3rd quartile (75th quantile).\n",
        "\n",
        "Centering and scaling happen independently on each feature by computing the relevant statistics on the samples in the training set. Median and interquartile range are then stored to be used on later data using the transform method."
      ]
    },
    {
      "cell_type": "code",
      "metadata": {
        "execution": {
          "iopub.status.busy": "2021-08-31T07:10:27.239357Z",
          "iopub.execute_input": "2021-08-31T07:10:27.239757Z",
          "iopub.status.idle": "2021-08-31T07:10:27.289748Z",
          "shell.execute_reply.started": "2021-08-31T07:10:27.239717Z",
          "shell.execute_reply": "2021-08-31T07:10:27.288554Z"
        },
        "trusted": true,
        "colab": {
          "base_uri": "https://localhost:8080/"
        },
        "id": "vAOdQ8n4NoSw",
        "outputId": "c2c98d36-0384-4963-9ae7-c896c94fd90c"
      },
      "source": [
        "model = make_pipeline(RobustScaler(),QuantileTransformer(),LinearSVR())\n",
        "model.fit(x_train,y_train)"
      ],
      "execution_count": null,
      "outputs": [
        {
          "output_type": "execute_result",
          "data": {
            "text/plain": [
              "Pipeline(memory=None,\n",
              "         steps=[('robustscaler',\n",
              "                 RobustScaler(copy=True, quantile_range=(25.0, 75.0),\n",
              "                              with_centering=True, with_scaling=True)),\n",
              "                ('quantiletransformer',\n",
              "                 QuantileTransformer(copy=True, ignore_implicit_zeros=False,\n",
              "                                     n_quantiles=1000,\n",
              "                                     output_distribution='uniform',\n",
              "                                     random_state=None, subsample=100000)),\n",
              "                ('linearsvr',\n",
              "                 LinearSVR(C=1.0, dual=True, epsilon=0.0, fit_intercept=True,\n",
              "                           intercept_scaling=1.0, loss='epsilon_insensitive',\n",
              "                           max_iter=1000, random_state=None, tol=0.0001,\n",
              "                           verbose=0))],\n",
              "         verbose=False)"
            ]
          },
          "metadata": {},
          "execution_count": 22
        }
      ]
    },
    {
      "cell_type": "markdown",
      "metadata": {
        "id": "tEPVnMWFNoSx"
      },
      "source": [
        "#### **Model Accuracy**\n",
        "We will use the trained model to make a prediction on the test set.Then use the predicted value for measuring the accuracy of our model.\n",
        "\n",
        "score: The score function returns the coefficient of determination R2 of the prediction."
      ]
    },
    {
      "cell_type": "code",
      "metadata": {
        "execution": {
          "iopub.status.busy": "2021-08-31T07:10:27.291026Z",
          "iopub.execute_input": "2021-08-31T07:10:27.291343Z",
          "iopub.status.idle": "2021-08-31T07:10:27.303421Z",
          "shell.execute_reply.started": "2021-08-31T07:10:27.291312Z",
          "shell.execute_reply": "2021-08-31T07:10:27.302070Z"
        },
        "trusted": true,
        "colab": {
          "base_uri": "https://localhost:8080/"
        },
        "id": "H8LroWwENoSx",
        "outputId": "f8647c74-c727-4529-f53c-c929f4f637e4"
      },
      "source": [
        "print(\"Accuracy score {:.2f} %\\n\".format(model.score(x_test,y_test)*100))"
      ],
      "execution_count": null,
      "outputs": [
        {
          "output_type": "stream",
          "name": "stdout",
          "text": [
            "Accuracy score 89.08 %\n",
            "\n"
          ]
        }
      ]
    },
    {
      "cell_type": "markdown",
      "metadata": {
        "id": "CbN7h0TsNoSx"
      },
      "source": [
        "> r2_score: The r2_score function computes the percentage variablility explained by our model, either the fraction or the count of correct predictions.\n",
        "\n",
        "> mae: The mean abosolute error function calculates the amount of total error(absolute average distance between the real data and the predicted data) by our model.\n",
        "\n",
        "> mse: The mean squared error function squares the error(penalizes the model for large errors) by our model."
      ]
    },
    {
      "cell_type": "code",
      "metadata": {
        "execution": {
          "iopub.status.busy": "2021-08-31T07:10:27.305409Z",
          "iopub.execute_input": "2021-08-31T07:10:27.306175Z",
          "iopub.status.idle": "2021-08-31T07:10:27.322219Z",
          "shell.execute_reply.started": "2021-08-31T07:10:27.306127Z",
          "shell.execute_reply": "2021-08-31T07:10:27.320799Z"
        },
        "trusted": true,
        "colab": {
          "base_uri": "https://localhost:8080/"
        },
        "id": "3XHfPZSKNoSy",
        "outputId": "2284f51b-41ca-47df-b966-e973ba40fb39"
      },
      "source": [
        "y_pred=model.predict(x_test)\n",
        "print(\"R2 Score: {:.2f} %\".format(r2_score(y_test,y_pred)*100))\n",
        "print(\"Mean Absolute Error {:.2f}\".format(mean_absolute_error(y_test,y_pred)))\n",
        "print(\"Mean Squared Error {:.2f}\".format(mean_squared_error(y_test,y_pred)))"
      ],
      "execution_count": null,
      "outputs": [
        {
          "output_type": "stream",
          "name": "stdout",
          "text": [
            "R2 Score: 89.08 %\n",
            "Mean Absolute Error 4.38\n",
            "Mean Squared Error 31.59\n"
          ]
        }
      ]
    },
    {
      "cell_type": "markdown",
      "metadata": {
        "id": "qaVlaDJ0NoSz"
      },
      "source": [
        "#### **Prediction Plot**\n",
        "> First, we make use of a plot to plot the actual observations, with x_train on the x-axis and y_train on the y-axis. For the regression line, we will use x_train on the x-axis and then the predictions of the x_train observations on the y-axis."
      ]
    },
    {
      "cell_type": "code",
      "metadata": {
        "execution": {
          "iopub.status.busy": "2021-08-31T07:10:27.324167Z",
          "iopub.execute_input": "2021-08-31T07:10:27.324890Z",
          "iopub.status.idle": "2021-08-31T07:10:27.689221Z",
          "shell.execute_reply.started": "2021-08-31T07:10:27.324845Z",
          "shell.execute_reply": "2021-08-31T07:10:27.688473Z"
        },
        "trusted": true,
        "colab": {
          "base_uri": "https://localhost:8080/",
          "height": 621
        },
        "id": "1fsureDINoSz",
        "outputId": "a6888f28-9b5a-4eda-9e4d-4f9397b8a337"
      },
      "source": [
        "plt.figure(figsize=(14,10))\n",
        "plt.plot(range(20),y_test[0:20], color = \"green\")\n",
        "plt.plot(range(20),model.predict(x_test[0:20]), color = \"red\")\n",
        "plt.legend([\"Actual\",\"prediction\"]) \n",
        "plt.title(\"Predicted vs True Value\")\n",
        "plt.xlabel(\"Record number\")\n",
        "plt.ylabel(target)\n",
        "plt.show()"
      ],
      "execution_count": null,
      "outputs": [
        {
          "output_type": "display_data",
          "data": {
            "image/png": "[encoded data removed]",
            "text/plain": [
              "<Figure size 1008x720 with 1 Axes>"
            ]
          },
          "metadata": {
            "needs_background": "light"
          }
        }
      ]
    },
    {
      "cell_type": "markdown",
      "metadata": {
        "id": "l1Wu5fomgmu0"
      },
      "source": [
        "**creator: Virat Chowdary, GitHub: [profile](https://github.com/viratchowdary21)**\n"
      ]
    }
  ]
}