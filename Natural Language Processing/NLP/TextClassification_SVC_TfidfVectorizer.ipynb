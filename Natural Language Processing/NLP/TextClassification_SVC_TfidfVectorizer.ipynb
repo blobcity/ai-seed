{
 "cells": [
  {
   "cell_type": "markdown",
   "source": [
    "\n",
    "# Text Classification using SVC and TfidfVectorizer"
   ],
   "metadata": {
    "id": "iws1EZcbaquY"
   }
  },
  {
   "cell_type": "markdown",
   "source": [
    "This Code Template is for Text Classification using SVC based on Support Vector Machine Algorithm along with Text Feature technique TfidfVectorizer from Scikit-learn in python."
   ],
   "metadata": {
    "id": "3sYA5-5xayzK"
   }
  },
  {
   "cell_type": "markdown",
   "source": [
    "### Required Packages"
   ],
   "metadata": {
    "id": "DxclZ9Jka773"
   }
  },
  {
   "cell_type": "code",
   "execution_count": null,
   "source": [
    "!pip install nltk\r\n",
    "!pip install imblearn"
   ],
   "outputs": [],
   "metadata": {}
  },
  {
   "cell_type": "code",
   "execution_count": null,
   "source": [
    "import warnings\r\n",
    "warnings.filterwarnings('ignore')\r\n",
    "import numpy as np \r\n",
    "import pandas as pd \r\n",
    "import matplotlib.pyplot as plt\r\n",
    "import seaborn as se\r\n",
    "import re, string\r\n",
    "import nltk\r\n",
    "from nltk.tokenize import word_tokenize\r\n",
    "from nltk.corpus import stopwords, wordnet\r\n",
    "from nltk.stem import SnowballStemmer, WordNetLemmatizer\r\n",
    "from nltk.stem import PorterStemmer\r\n",
    "nltk.download('stopwords')\r\n",
    "nltk.download('punkt')\r\n",
    "nltk.download('averaged_perceptron_tagger')\r\n",
    "nltk.download('wordnet')\r\n",
    "from imblearn.over_sampling import RandomOverSampler\r\n",
    "from sklearn.feature_extraction.text import TfidfVectorizer\r\n",
    "from sklearn.model_selection import train_test_split\r\n",
    "from sklearn.preprocessing import LabelEncoder\r\n",
    "from sklearn.metrics import plot_confusion_matrix,classification_report\r\n",
    "from sklearn.svm import SVC "
   ],
   "outputs": [],
   "metadata": {
    "colab": {
     "base_uri": "https://localhost:8080/"
    },
    "id": "DVQ8QbNMa9SM",
    "outputId": "c17a2354-e5ca-4626-f5d9-8270beb87842",
    "scrolled": true
   }
  },
  {
   "cell_type": "markdown",
   "source": [
    "### Initialization"
   ],
   "metadata": {
    "id": "vcKNbYf-cFXE"
   }
  },
  {
   "cell_type": "markdown",
   "source": [
    "Filepath of CSV file"
   ],
   "metadata": {
    "id": "gMC9nA6dcFl2"
   }
  },
  {
   "cell_type": "code",
   "execution_count": 2,
   "source": [
    "#filepath\n",
    "file_path= \"\""
   ],
   "outputs": [],
   "metadata": {
    "id": "XYms4d_4cLcc"
   }
  },
  {
   "cell_type": "markdown",
   "source": [
    "**Target** variable for prediction."
   ],
   "metadata": {
    "id": "tYMsqgb2gezr"
   }
  },
  {
   "cell_type": "code",
   "execution_count": 3,
   "source": [
    "target=''"
   ],
   "outputs": [],
   "metadata": {
    "id": "8dqaqzN4ghl9"
   }
  },
  {
   "cell_type": "markdown",
   "source": [
    "Text column containing all the text data\n"
   ],
   "metadata": {
    "id": "thVb7na9glcy"
   }
  },
  {
   "cell_type": "code",
   "execution_count": 4,
   "source": [
    "text=\"\""
   ],
   "outputs": [],
   "metadata": {
    "id": "FWgps0zmgpB9"
   }
  },
  {
   "cell_type": "markdown",
   "source": [
    "## Data Fetching"
   ],
   "metadata": {
    "id": "-wZ37AFSdTPW"
   }
  },
  {
   "cell_type": "markdown",
   "source": [
    "Pandas is an open-source, BSD-licensed library providing high-performance, easy-to-use data manipulation and data analysis tools.\n",
    "\n",
    "We will use panda's library to read the CSV file using its storage path.And we use the head function to display the initial row or entry."
   ],
   "metadata": {
    "id": "u_bvM8SadTpO"
   }
  },
  {
   "cell_type": "code",
   "execution_count": 5,
   "source": [
    "df=pd.read_csv(file_path)\n",
    "df.head()"
   ],
   "outputs": [
    {
     "output_type": "execute_result",
     "data": {
      "text/html": [
       "<div>\n",
       "<style scoped>\n",
       "    .dataframe tbody tr th:only-of-type {\n",
       "        vertical-align: middle;\n",
       "    }\n",
       "\n",
       "    .dataframe tbody tr th {\n",
       "        vertical-align: top;\n",
       "    }\n",
       "\n",
       "    .dataframe thead th {\n",
       "        text-align: right;\n",
       "    }\n",
       "</style>\n",
       "<table border=\"1\" class=\"dataframe\">\n",
       "  <thead>\n",
       "    <tr style=\"text-align: right;\">\n",
       "      <th></th>\n",
       "      <th>Unnamed: 0</th>\n",
       "      <th>ItemID</th>\n",
       "      <th>Sentiment</th>\n",
       "      <th>SentimentText</th>\n",
       "    </tr>\n",
       "  </thead>\n",
       "  <tbody>\n",
       "    <tr>\n",
       "      <th>0</th>\n",
       "      <td>0</td>\n",
       "      <td>1</td>\n",
       "      <td>0</td>\n",
       "      <td>is so sad for my APL frie...</td>\n",
       "    </tr>\n",
       "    <tr>\n",
       "      <th>1</th>\n",
       "      <td>1</td>\n",
       "      <td>2</td>\n",
       "      <td>0</td>\n",
       "      <td>I missed the New Moon trail...</td>\n",
       "    </tr>\n",
       "    <tr>\n",
       "      <th>2</th>\n",
       "      <td>2</td>\n",
       "      <td>3</td>\n",
       "      <td>1</td>\n",
       "      <td>omg its already 7:30 :O</td>\n",
       "    </tr>\n",
       "    <tr>\n",
       "      <th>3</th>\n",
       "      <td>3</td>\n",
       "      <td>4</td>\n",
       "      <td>0</td>\n",
       "      <td>.. Omgaga. Im sooo  im gunna CRy. I'...</td>\n",
       "    </tr>\n",
       "    <tr>\n",
       "      <th>4</th>\n",
       "      <td>4</td>\n",
       "      <td>5</td>\n",
       "      <td>0</td>\n",
       "      <td>i think mi bf is cheating on me!!!   ...</td>\n",
       "    </tr>\n",
       "  </tbody>\n",
       "</table>\n",
       "</div>"
      ],
      "text/plain": [
       "   Unnamed: 0  ItemID  Sentiment  \\\n",
       "0           0       1          0   \n",
       "1           1       2          0   \n",
       "2           2       3          1   \n",
       "3           3       4          0   \n",
       "4           4       5          0   \n",
       "\n",
       "                                       SentimentText  \n",
       "0                       is so sad for my APL frie...  \n",
       "1                     I missed the New Moon trail...  \n",
       "2                            omg its already 7:30 :O  \n",
       "3            .. Omgaga. Im sooo  im gunna CRy. I'...  \n",
       "4           i think mi bf is cheating on me!!!   ...  "
      ]
     },
     "metadata": {},
     "execution_count": 5
    }
   ],
   "metadata": {
    "colab": {
     "base_uri": "https://localhost:8080/",
     "height": 204
    },
    "id": "vbgp9mOggxtI",
    "outputId": "7744a9b5-cef0-4382-9c79-8e6fd931153f"
   }
  },
  {
   "cell_type": "markdown",
   "source": [
    "### Data Preprocessing"
   ],
   "metadata": {
    "id": "7FKVbIjqj-0_"
   }
  },
  {
   "cell_type": "markdown",
   "source": [
    "Since the majority of the machine learning models in the Sklearn library doesn't handle string category data and Null value, we have to explicitly remove or replace null values. The below snippet have functions, which removes the null value if any exists. And convert the string classes data in the datasets by encoding them to integer classes."
   ],
   "metadata": {
    "id": "renAqXpkj-35"
   }
  },
  {
   "cell_type": "code",
   "execution_count": 6,
   "source": [
    "#convert to lowercase, strip and remove punctuations\n",
    "def preprocess(text):\n",
    "    text = text.lower() \n",
    "    text = text.strip()  \n",
    "    text = re.compile('<.*?>').sub('', text) \n",
    "    text = re.compile('[%s]' % re.escape(string.punctuation)).sub(' ', text)  \n",
    "    text = re.sub('\\s+', ' ', text)  \n",
    "    text = re.sub(r'\\[[0-9]*\\]',' ',text) \n",
    "    text = re.sub(r'[^\\w\\s]', '', str(text).lower().strip())\n",
    "    text = re.sub(r'\\d',' ',text) \n",
    "    text = re.sub(r'\\s+',' ',text) \n",
    "    return text\n",
    "\n",
    " \n",
    "# STOPWORD REMOVAL\n",
    "def stopword(string):\n",
    "    a= [i for i in string.split() if i not in stopwords.words('english')]\n",
    "    return ' '.join(a)\n",
    "\n",
    "# STEMMING\n",
    "# Initialize the Stemmer\n",
    "ps = PorterStemmer()\n",
    "\n",
    "# Stem the sentence\n",
    "def stemmer(string):\n",
    "    return ps.stem(string)\n",
    "\n",
    "# LEMMATIZATION\n",
    "# Initialize the lemmatizer\n",
    "wl = WordNetLemmatizer()\n",
    " \n",
    "# This is a helper function to map NTLK position tags\n",
    "def get_wordnet_pos(tag):\n",
    "    if tag.startswith('J'):\n",
    "        return wordnet.ADJ\n",
    "    elif tag.startswith('V'):\n",
    "        return wordnet.VERB\n",
    "    elif tag.startswith('N'):\n",
    "        return wordnet.NOUN\n",
    "    elif tag.startswith('R'):\n",
    "        return wordnet.ADV\n",
    "    else:\n",
    "        return wordnet.NOUN\n",
    "# Lemmatize the sentence\n",
    "def lemmatizer(string):\n",
    "    word_pos_tags = nltk.pos_tag(word_tokenize(string)) # Get position tags\n",
    "    a=[wl.lemmatize(tag[0], get_wordnet_pos(tag[1])) for idx, tag in enumerate(word_pos_tags)] # Map the position tag and lemmatize the word/token\n",
    "    return \" \".join(a)\n",
    "\n",
    "def textlemmapreprocess(string):\n",
    "    return lemmatizer(stopword(preprocess(string)))\n",
    "\n",
    "def textstempreprocess(string):\n",
    "    return stemmer(stopword(preprocess(string)))\n",
    "\n",
    "def textfinalpreprocess(df, modifier = 'stemmer'):\n",
    "    if modifier == 'lemmatization':\n",
    "        return(df[text].apply(lambda x: textlemmapreprocess(x)))\n",
    "    elif modifier == 'stemmer':\n",
    "        return(df[text].apply(lambda x: textstempreprocess(x)))\n",
    "\n",
    "def data_preprocess(df, target):\n",
    "    df = df.dropna(axis=0, how = 'any')\n",
    "    df[target] = LabelEncoder().fit_transform(df[target])    \n",
    "    return df"
   ],
   "outputs": [],
   "metadata": {
    "id": "gy_OFA53kD_J"
   }
  },
  {
   "cell_type": "code",
   "execution_count": 7,
   "source": [
    "df = data_preprocess(df, target)\n",
    "df[text] = textfinalpreprocess(df, modifier = 'stemmer') #modifier has two options: 'stemmer', 'lemmatization'\n",
    "df.head()"
   ],
   "outputs": [
    {
     "output_type": "execute_result",
     "data": {
      "text/html": [
       "<div>\n",
       "<style scoped>\n",
       "    .dataframe tbody tr th:only-of-type {\n",
       "        vertical-align: middle;\n",
       "    }\n",
       "\n",
       "    .dataframe tbody tr th {\n",
       "        vertical-align: top;\n",
       "    }\n",
       "\n",
       "    .dataframe thead th {\n",
       "        text-align: right;\n",
       "    }\n",
       "</style>\n",
       "<table border=\"1\" class=\"dataframe\">\n",
       "  <thead>\n",
       "    <tr style=\"text-align: right;\">\n",
       "      <th></th>\n",
       "      <th>Unnamed: 0</th>\n",
       "      <th>ItemID</th>\n",
       "      <th>Sentiment</th>\n",
       "      <th>SentimentText</th>\n",
       "    </tr>\n",
       "  </thead>\n",
       "  <tbody>\n",
       "    <tr>\n",
       "      <th>0</th>\n",
       "      <td>0</td>\n",
       "      <td>1</td>\n",
       "      <td>0</td>\n",
       "      <td>sad apl friend</td>\n",
       "    </tr>\n",
       "    <tr>\n",
       "      <th>1</th>\n",
       "      <td>1</td>\n",
       "      <td>2</td>\n",
       "      <td>0</td>\n",
       "      <td>missed new moon trail</td>\n",
       "    </tr>\n",
       "    <tr>\n",
       "      <th>2</th>\n",
       "      <td>2</td>\n",
       "      <td>3</td>\n",
       "      <td>1</td>\n",
       "      <td>omg alreadi</td>\n",
       "    </tr>\n",
       "    <tr>\n",
       "      <th>3</th>\n",
       "      <td>3</td>\n",
       "      <td>4</td>\n",
       "      <td>0</td>\n",
       "      <td>omgaga im sooo im gunna cry dentist since supo...</td>\n",
       "    </tr>\n",
       "    <tr>\n",
       "      <th>4</th>\n",
       "      <td>4</td>\n",
       "      <td>5</td>\n",
       "      <td>0</td>\n",
       "      <td>think mi bf ch</td>\n",
       "    </tr>\n",
       "  </tbody>\n",
       "</table>\n",
       "</div>"
      ],
      "text/plain": [
       "   Unnamed: 0  ItemID  Sentiment  \\\n",
       "0           0       1          0   \n",
       "1           1       2          0   \n",
       "2           2       3          1   \n",
       "3           3       4          0   \n",
       "4           4       5          0   \n",
       "\n",
       "                                       SentimentText  \n",
       "0                                     sad apl friend  \n",
       "1                              missed new moon trail  \n",
       "2                                        omg alreadi  \n",
       "3  omgaga im sooo im gunna cry dentist since supo...  \n",
       "4                                     think mi bf ch  "
      ]
     },
     "metadata": {},
     "execution_count": 7
    }
   ],
   "metadata": {
    "colab": {
     "base_uri": "https://localhost:8080/",
     "height": 204
    },
    "id": "4ajKAt-1v220",
    "outputId": "ca5eebe4-7f11-4b60-d3c3-3499993809bf"
   }
  },
  {
   "cell_type": "markdown",
   "source": [
    "### Feature Selections"
   ],
   "metadata": {
    "id": "_pAHqMokjI0Q"
   }
  },
  {
   "cell_type": "markdown",
   "source": [
    "It is the process of reducing the number of input variables when developing a predictive model. Used to reduce the number of input variables to both reduce the computational cost of modelling and, in some cases, to improve the performance of the model.\n",
    "\n",
    "We will assign all the required input features to X and target/outcome to Y."
   ],
   "metadata": {
    "id": "mtsrehs6jJDK"
   }
  },
  {
   "cell_type": "code",
   "execution_count": 8,
   "source": [
    "X=df[text]\n",
    "Y=df[target]"
   ],
   "outputs": [],
   "metadata": {
    "id": "_MNVdxu6jMjD"
   }
  },
  {
   "cell_type": "markdown",
   "source": [
    "#### Distribution Of Target Variable"
   ],
   "metadata": {
    "id": "RwwCPRS3Du30"
   }
  },
  {
   "cell_type": "code",
   "execution_count": 9,
   "source": [
    "plt.figure(figsize = (10,6))\n",
    "se.countplot(Y)"
   ],
   "outputs": [
    {
     "output_type": "execute_result",
     "data": {
      "text/plain": [
       "<AxesSubplot:xlabel='Sentiment', ylabel='count'>"
      ]
     },
     "metadata": {},
     "execution_count": 9
    },
    {
     "output_type": "display_data",
     "data": {
      "image/png": "[encoded data removed]",
      "text/plain": [
       "<Figure size 720x432 with 1 Axes>"
      ]
     },
     "metadata": {
      "needs_background": "light"
     }
    }
   ],
   "metadata": {
    "colab": {
     "base_uri": "https://localhost:8080/",
     "height": 405
    },
    "id": "dobw-AfYDy3g",
    "outputId": "d25a4d8b-5d1f-423b-ea12-5bf2d442fcfc"
   }
  },
  {
   "cell_type": "markdown",
   "source": [
    "### Data Splitting\n",
    "Since we are using a univariate dataset, we can directly split our data into training and testing subsets. The first subset is utilized to fit/train the model. The second subset is used for prediction. The main motive is to estimate the performance of the model on new data."
   ],
   "metadata": {
    "id": "u3iVx_6v_-De"
   }
  },
  {
   "cell_type": "code",
   "execution_count": 10,
   "source": [
    "x_train,x_test,y_train,y_test=train_test_split(X,Y,test_size=0.2,random_state=123)"
   ],
   "outputs": [],
   "metadata": {
    "id": "jKoGwzU3AAkW"
   }
  },
  {
   "cell_type": "markdown",
   "source": [
    "### Feature Transformation"
   ],
   "metadata": {
    "id": "ufHKpTiN90UC"
   }
  },
  {
   "cell_type": "markdown",
   "source": [
    "**TfidfVectorizer** converts a collection of raw documents to a matrix of TF-IDF features.\n",
    "\n",
    "It's equivalent to CountVectorizer followed by TfidfTransformer.\n",
    "\n",
    "For more information on TfidfVectorizer [click here](https://scikit-learn.org/stable/modules/generated/sklearn.feature_extraction.text.TfidfVectorizer.html)"
   ],
   "metadata": {
    "id": "R_PpHDfQ-BJU"
   }
  },
  {
   "cell_type": "code",
   "execution_count": 11,
   "source": [
    "vectorizer = TfidfVectorizer()\n",
    "vectorizer.fit(x_train)\n",
    "\n",
    "x_train = vectorizer.transform(x_train)\n",
    "x_test  = vectorizer.transform(x_test)"
   ],
   "outputs": [],
   "metadata": {
    "id": "WU9H2MXk-b70"
   }
  },
  {
   "cell_type": "markdown",
   "source": [
    "#### Handling Target Imbalance\n",
    "The challenge of working with imbalanced datasets is that most machine learning techniques will ignore, and in turn have poor performance on, the minority class, although typically it is performance on the minority class that is most important.\n",
    "\n",
    "One approach to addressing imbalanced datasets is to oversample the minority class. The simplest approach involves duplicating examples in the minority class.We will perform overspampling using imblearn library."
   ],
   "metadata": {}
  },
  {
   "cell_type": "code",
   "execution_count": 12,
   "source": [
    "x_train,y_train = RandomOverSampler(random_state=123).fit_resample(x_train, y_train)"
   ],
   "outputs": [],
   "metadata": {}
  },
  {
   "cell_type": "markdown",
   "source": [
    "## Model"
   ],
   "metadata": {
    "id": "d4ByFdUKCQ7k"
   }
  },
  {
   "cell_type": "markdown",
   "source": [
    "Support vector machines (SVMs) are a set of supervised learning methods used for classification, regression and outliers detection.\n",
    "\n",
    "A Support Vector Machine is a discriminative classifier formally defined by a separating hyperplane. In other terms, for a given known/labelled data points, the SVM outputs an appropriate hyperplane that classifies the inputted new cases based on the hyperplane. In 2-Dimensional space, this hyperplane is a line separating a plane into two segments where each class or group occupied on either side.\n",
    "\n",
    "Here we have used SVC, the svc implementation is based on libsvm."
   ],
   "metadata": {
    "id": "DOhgjmbaCQwC"
   }
  },
  {
   "cell_type": "markdown",
   "source": [
    "\n",
    "#### Model Tuning Parameters\n",
    " > - C -> Regularization parameter. The strength of the regularization is inversely proportional to C. Must be strictly positive.\n",
    " > - kernel -> Specifies the kernel type to be used in the algorithm. It must be one of ‘linear’, ‘poly’, ‘rbf’, ‘sigmoid’, ‘precomputed’ or a callable. If none is given, ‘rbf’ will be used. If a callable is given it is used to pre-compute the kernel matrix from data matrices; that matrix should be an array of shape (n_samples, n_samples).\n",
    "\n",
    "> - gamma -> Gamma is a hyperparameter that we have to set before the training model. Gamma decides how much curvature we want in a decision boundary.\n",
    "\n",
    "> - degree -> Degree of the polynomial kernel function (‘poly’). Ignored by all other kernels.Using degree 1 is similar to using a linear kernel. Also, increasing degree parameter leads to higher training times."
   ],
   "metadata": {
    "id": "r1YQa7jLCXUt"
   }
  },
  {
   "cell_type": "code",
   "execution_count": 13,
   "source": [
    "model=SVC(random_state=123)\n",
    "model.fit(x_train,y_train)"
   ],
   "outputs": [
    {
     "output_type": "execute_result",
     "data": {
      "text/plain": [
       "SVC(random_state=123)"
      ]
     },
     "metadata": {},
     "execution_count": 13
    }
   ],
   "metadata": {
    "colab": {
     "base_uri": "https://localhost:8080/"
    },
    "id": "uQ1b_UYhAoB4",
    "outputId": "ead85146-b112-4297-9986-c59e33dc318c"
   }
  },
  {
   "cell_type": "markdown",
   "source": [
    "#### Model Accuracy\n",
    "score() method return the mean accuracy on the given test data and labels.\n",
    "\n",
    "In multi-label classification, this is the subset accuracy which is a harsh metric since you require for each sample that each label set be correctly predicted."
   ],
   "metadata": {
    "id": "GYatcCDDC2JP"
   }
  },
  {
   "cell_type": "code",
   "execution_count": 14,
   "source": [
    "print(\"Accuracy score {:.2f} %\\n\".format(model.score(x_test,y_test)*100))"
   ],
   "outputs": [
    {
     "output_type": "stream",
     "name": "stdout",
     "text": [
      "Accuracy score 76.21 %\n",
      "\n"
     ]
    }
   ],
   "metadata": {
    "colab": {
     "base_uri": "https://localhost:8080/"
    },
    "id": "C8b5oAH7C3Ya",
    "outputId": "03064f1b-1706-403a-bd46-aa723fcd8a53"
   }
  },
  {
   "cell_type": "markdown",
   "source": [
    "#### Confusion Matrix\n",
    "A confusion matrix is utilized to understand the performance of the classification model or algorithm in machine learning for a given test set where results are known."
   ],
   "metadata": {
    "id": "yas-d-CAC9bz"
   }
  },
  {
   "cell_type": "code",
   "execution_count": 15,
   "source": [
    "plot_confusion_matrix(model,x_test,y_test,cmap=plt.cm.Blues)"
   ],
   "outputs": [
    {
     "output_type": "execute_result",
     "data": {
      "text/plain": [
       "<sklearn.metrics._plot.confusion_matrix.ConfusionMatrixDisplay at 0x2a68a50a910>"
      ]
     },
     "metadata": {},
     "execution_count": 15
    },
    {
     "output_type": "display_data",
     "data": {
      "image/png": "[encoded data removed]",
      "text/plain": [
       "<Figure size 432x288 with 2 Axes>"
      ]
     },
     "metadata": {
      "needs_background": "light"
     }
    }
   ],
   "metadata": {
    "colab": {
     "base_uri": "https://localhost:8080/",
     "height": 296
    },
    "id": "MXz0euBYC-95",
    "outputId": "6e7b964e-0d72-4182-b497-9c049ef6ba7c"
   }
  },
  {
   "cell_type": "markdown",
   "source": [
    "#### Classification Report\n",
    "A Classification report is used to measure the quality of predictions from a classification algorithm. How many predictions are True, how many are False.\n",
    "* where:\n",
    "  - Precision:- Accuracy of positive predictions.\n",
    "  -  Recall:- Fraction of positives that were correctly identified.\n",
    "  -  f1-score:- percent of positive predictions were correct\n",
    "  -  support:- Support is the number of actual occurrences of the class in the specified dataset."
   ],
   "metadata": {
    "id": "gny6G4OsDBTT"
   }
  },
  {
   "cell_type": "code",
   "execution_count": 16,
   "source": [
    "print(classification_report(y_test,model.predict(x_test)))"
   ],
   "outputs": [
    {
     "output_type": "stream",
     "name": "stdout",
     "text": [
      "              precision    recall  f1-score   support\n",
      "\n",
      "           0       0.76      0.85      0.80      1141\n",
      "           1       0.76      0.65      0.70       860\n",
      "\n",
      "    accuracy                           0.76      2001\n",
      "   macro avg       0.76      0.75      0.75      2001\n",
      "weighted avg       0.76      0.76      0.76      2001\n",
      "\n"
     ]
    }
   ],
   "metadata": {
    "colab": {
     "base_uri": "https://localhost:8080/"
    },
    "id": "AowdAdt4DaPh",
    "outputId": "9e53e419-38e2-4f51-8f4e-440260a854cc"
   }
  },
  {
   "cell_type": "markdown",
   "source": [
    "#### Creator: Viraj Jayant, Github: [Profile](https://github.com/Viraj-Jayant)"
   ],
   "metadata": {
    "id": "R2tcbGJGDhK4"
   }
  }
 ],
 "metadata": {
  "colab": {
   "collapsed_sections": [],
   "name": "TextClassificationSVC_CountVectorizer",
   "provenance": []
  },
  "kernelspec": {
   "display_name": "Python 3",
   "language": "python",
   "name": "python3"
  },
  "language_info": {
   "codemirror_mode": {
    "name": "ipython",
    "version": 3
   },
   "file_extension": ".py",
   "mimetype": "text/x-python",
   "name": "python",
   "nbconvert_exporter": "python",
   "pygments_lexer": "ipython3",
   "version": "3.8.8"
  }
 },
 "nbformat": 4,
 "nbformat_minor": 1
}