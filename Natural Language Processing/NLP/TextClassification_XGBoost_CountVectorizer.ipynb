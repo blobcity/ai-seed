{
 "cells": [
  {
   "cell_type": "markdown",
   "source": [
    "# Text Classification using XGBoost and CountVectorizer"
   ],
   "metadata": {
    "id": "iws1EZcbaquY"
   }
  },
  {
   "cell_type": "markdown",
   "source": [
    "This Code Template is for Text Classification using XGBoost along with Text Feature technique CountVectorizer from Scikit-learn in python."
   ],
   "metadata": {
    "id": "3sYA5-5xayzK"
   }
  },
  {
   "cell_type": "markdown",
   "source": [
    "### Required Packages"
   ],
   "metadata": {
    "id": "DxclZ9Jka773"
   }
  },
  {
   "cell_type": "code",
   "execution_count": 1,
   "source": [
    "!pip install nltk\r\n",
    "!pip install xgboost"
   ],
   "outputs": [],
   "metadata": {}
  },
  {
   "cell_type": "code",
   "execution_count": 2,
   "source": [
    "import warnings\r\n",
    "warnings.filterwarnings('ignore')\r\n",
    "import numpy as np \r\n",
    "import pandas as pd \r\n",
    "import matplotlib.pyplot as plt\r\n",
    "import seaborn as se\r\n",
    "import re, string\r\n",
    "import nltk\r\n",
    "from nltk.tokenize import word_tokenize\r\n",
    "from nltk.corpus import stopwords, wordnet\r\n",
    "from nltk.stem import SnowballStemmer, WordNetLemmatizer\r\n",
    "nltk.download('stopwords')\r\n",
    "nltk.download('punkt')\r\n",
    "nltk.download('averaged_perceptron_tagger')\r\n",
    "nltk.download('wordnet')\r\n",
    "from imblearn.over_sampling import RandomOverSampler\r\n",
    "from sklearn.feature_extraction.text import CountVectorizer\r\n",
    "from sklearn.model_selection import train_test_split\r\n",
    "from sklearn.preprocessing import LabelEncoder\r\n",
    "from sklearn.metrics import plot_confusion_matrix,classification_report\r\n",
    "from xgboost import XGBClassifier"
   ],
   "outputs": [
    {
     "output_type": "stream",
     "name": "stderr",
     "text": []
    }
   ],
   "metadata": {
    "colab": {
     "base_uri": "https://localhost:8080/"
    },
    "id": "DVQ8QbNMa9SM",
    "outputId": "c17a2354-e5ca-4626-f5d9-8270beb87842"
   }
  },
  {
   "cell_type": "markdown",
   "source": [
    "### Initialization"
   ],
   "metadata": {
    "id": "vcKNbYf-cFXE"
   }
  },
  {
   "cell_type": "markdown",
   "source": [
    "Filepath of CSV file"
   ],
   "metadata": {
    "id": "gMC9nA6dcFl2"
   }
  },
  {
   "cell_type": "code",
   "execution_count": 3,
   "source": [
    "#filepath\n",
    "file_path= ''"
   ],
   "outputs": [],
   "metadata": {
    "id": "XYms4d_4cLcc"
   }
  },
  {
   "cell_type": "markdown",
   "source": [
    "**Target** variable for prediction."
   ],
   "metadata": {
    "id": "tYMsqgb2gezr"
   }
  },
  {
   "cell_type": "code",
   "execution_count": 4,
   "source": [
    "target=''"
   ],
   "outputs": [],
   "metadata": {
    "id": "8dqaqzN4ghl9"
   }
  },
  {
   "cell_type": "markdown",
   "source": [
    "Text column containing all the text data\n"
   ],
   "metadata": {
    "id": "thVb7na9glcy"
   }
  },
  {
   "cell_type": "code",
   "execution_count": 5,
   "source": [
    "text=\"\""
   ],
   "outputs": [],
   "metadata": {
    "id": "FWgps0zmgpB9"
   }
  },
  {
   "cell_type": "markdown",
   "source": [
    "## Data Fetching"
   ],
   "metadata": {
    "id": "-wZ37AFSdTPW"
   }
  },
  {
   "cell_type": "markdown",
   "source": [
    "Pandas is an open-source, BSD-licensed library providing high-performance, easy-to-use data manipulation and data analysis tools.\n",
    "\n",
    "We will use panda's library to read the CSV file using its storage path.And we use the head function to display the initial row or entry."
   ],
   "metadata": {
    "id": "u_bvM8SadTpO"
   }
  },
  {
   "cell_type": "code",
   "execution_count": 6,
   "source": [
    "df=pd.read_csv(file_path)\n",
    "df.head()"
   ],
   "outputs": [
    {
     "output_type": "execute_result",
     "data": {
      "text/html": [
       "<div>\n",
       "<style scoped>\n",
       "    .dataframe tbody tr th:only-of-type {\n",
       "        vertical-align: middle;\n",
       "    }\n",
       "\n",
       "    .dataframe tbody tr th {\n",
       "        vertical-align: top;\n",
       "    }\n",
       "\n",
       "    .dataframe thead th {\n",
       "        text-align: right;\n",
       "    }\n",
       "</style>\n",
       "<table border=\"1\" class=\"dataframe\">\n",
       "  <thead>\n",
       "    <tr style=\"text-align: right;\">\n",
       "      <th></th>\n",
       "      <th>v1</th>\n",
       "      <th>v2</th>\n",
       "    </tr>\n",
       "  </thead>\n",
       "  <tbody>\n",
       "    <tr>\n",
       "      <th>0</th>\n",
       "      <td>ham</td>\n",
       "      <td>Go until jurong point, crazy.. Available only ...</td>\n",
       "    </tr>\n",
       "    <tr>\n",
       "      <th>1</th>\n",
       "      <td>ham</td>\n",
       "      <td>Ok lar... Joking wif u oni...</td>\n",
       "    </tr>\n",
       "    <tr>\n",
       "      <th>2</th>\n",
       "      <td>spam</td>\n",
       "      <td>Free entry in 2 a wkly comp to win FA Cup fina...</td>\n",
       "    </tr>\n",
       "    <tr>\n",
       "      <th>3</th>\n",
       "      <td>ham</td>\n",
       "      <td>U dun say so early hor... U c already then say...</td>\n",
       "    </tr>\n",
       "    <tr>\n",
       "      <th>4</th>\n",
       "      <td>ham</td>\n",
       "      <td>Nah I don't think he goes to usf, he lives aro...</td>\n",
       "    </tr>\n",
       "  </tbody>\n",
       "</table>\n",
       "</div>"
      ],
      "text/plain": [
       "     v1                                                 v2\n",
       "0   ham  Go until jurong point, crazy.. Available only ...\n",
       "1   ham                      Ok lar... Joking wif u oni...\n",
       "2  spam  Free entry in 2 a wkly comp to win FA Cup fina...\n",
       "3   ham  U dun say so early hor... U c already then say...\n",
       "4   ham  Nah I don't think he goes to usf, he lives aro..."
      ]
     },
     "metadata": {},
     "execution_count": 6
    }
   ],
   "metadata": {
    "colab": {
     "base_uri": "https://localhost:8080/",
     "height": 204
    },
    "id": "vbgp9mOggxtI",
    "outputId": "7744a9b5-cef0-4382-9c79-8e6fd931153f"
   }
  },
  {
   "cell_type": "markdown",
   "source": [
    "### Data Preprocessing"
   ],
   "metadata": {
    "id": "7FKVbIjqj-0_"
   }
  },
  {
   "cell_type": "markdown",
   "source": [
    "Since the majority of the machine learning models in the Sklearn library doesn't handle string category data and Null value, we have to explicitly remove or replace null values. The below snippet have functions, which removes the null value if any exists. And convert the string classes data in the datasets by encoding them to integer classes."
   ],
   "metadata": {
    "id": "renAqXpkj-35"
   }
  },
  {
   "cell_type": "code",
   "execution_count": 7,
   "source": [
    "#convert to lowercase, strip and remove punctuations\n",
    "def preprocess(text):\n",
    "    text = text.lower() \n",
    "    text=text.strip()  \n",
    "    text=re.compile('<.*?>').sub('', text) \n",
    "    text = re.compile('[%s]' % re.escape(string.punctuation)).sub(' ', text)  \n",
    "    text = re.sub('\\s+', ' ', text)  \n",
    "    text = re.sub(r'\\[[0-9]*\\]',' ',text) \n",
    "    text=re.sub(r'[^\\w\\s]', '', str(text).lower().strip())\n",
    "    text = re.sub(r'\\d',' ',text) \n",
    "    text = re.sub(r'\\s+',' ',text) \n",
    "    return text\n",
    "\n",
    " \n",
    "# STOPWORD REMOVAL\n",
    "def stopword(string):\n",
    "    a= [i for i in string.split() if i not in stopwords.words('english')]\n",
    "    return ' '.join(a)\n",
    "#LEMMATIZATION\n",
    "# Initialize the lemmatizer\n",
    "wl = WordNetLemmatizer()\n",
    " \n",
    "# This is a helper function to map NTLK position tags\n",
    "def get_wordnet_pos(tag):\n",
    "    if tag.startswith('J'):\n",
    "        return wordnet.ADJ\n",
    "    elif tag.startswith('V'):\n",
    "        return wordnet.VERB\n",
    "    elif tag.startswith('N'):\n",
    "        return wordnet.NOUN\n",
    "    elif tag.startswith('R'):\n",
    "        return wordnet.ADV\n",
    "    else:\n",
    "        return wordnet.NOUN\n",
    "# Tokenize the sentence\n",
    "def lemmatizer(string):\n",
    "    word_pos_tags = nltk.pos_tag(word_tokenize(string)) # Get position tags\n",
    "    a=[wl.lemmatize(tag[0], get_wordnet_pos(tag[1])) for idx, tag in enumerate(word_pos_tags)] # Map the position tag and lemmatize the word/token\n",
    "    return \" \".join(a)\n",
    "\n",
    "def textfinalpreprocess(string):\n",
    "    return lemmatizer(stopword(preprocess(string)))\n",
    "\n",
    "def data_preprocess(df, target):\n",
    "    df = df.dropna(axis=0, how = 'any')\n",
    "    df[target] = LabelEncoder().fit_transform(df[target])    \n",
    "    return df"
   ],
   "outputs": [],
   "metadata": {
    "id": "gy_OFA53kD_J"
   }
  },
  {
   "cell_type": "code",
   "execution_count": 8,
   "source": [
    "df = data_preprocess(df, target)\n",
    "df[text] = df[text].apply(lambda x: textfinalpreprocess(x))\n",
    "df.head()"
   ],
   "outputs": [
    {
     "output_type": "execute_result",
     "data": {
      "text/html": [
       "<div>\n",
       "<style scoped>\n",
       "    .dataframe tbody tr th:only-of-type {\n",
       "        vertical-align: middle;\n",
       "    }\n",
       "\n",
       "    .dataframe tbody tr th {\n",
       "        vertical-align: top;\n",
       "    }\n",
       "\n",
       "    .dataframe thead th {\n",
       "        text-align: right;\n",
       "    }\n",
       "</style>\n",
       "<table border=\"1\" class=\"dataframe\">\n",
       "  <thead>\n",
       "    <tr style=\"text-align: right;\">\n",
       "      <th></th>\n",
       "      <th>v1</th>\n",
       "      <th>v2</th>\n",
       "    </tr>\n",
       "  </thead>\n",
       "  <tbody>\n",
       "    <tr>\n",
       "      <th>0</th>\n",
       "      <td>0</td>\n",
       "      <td>go jurong point crazy available bugis n great ...</td>\n",
       "    </tr>\n",
       "    <tr>\n",
       "      <th>1</th>\n",
       "      <td>0</td>\n",
       "      <td>ok lar joking wif u oni</td>\n",
       "    </tr>\n",
       "    <tr>\n",
       "      <th>2</th>\n",
       "      <td>1</td>\n",
       "      <td>free entry wkly comp win fa cup final tkts st ...</td>\n",
       "    </tr>\n",
       "    <tr>\n",
       "      <th>3</th>\n",
       "      <td>0</td>\n",
       "      <td>u dun say early hor u c already say</td>\n",
       "    </tr>\n",
       "    <tr>\n",
       "      <th>4</th>\n",
       "      <td>0</td>\n",
       "      <td>nah think go usf life around though</td>\n",
       "    </tr>\n",
       "  </tbody>\n",
       "</table>\n",
       "</div>"
      ],
      "text/plain": [
       "   v1                                                 v2\n",
       "0   0  go jurong point crazy available bugis n great ...\n",
       "1   0                            ok lar joking wif u oni\n",
       "2   1  free entry wkly comp win fa cup final tkts st ...\n",
       "3   0                u dun say early hor u c already say\n",
       "4   0                nah think go usf life around though"
      ]
     },
     "metadata": {},
     "execution_count": 8
    }
   ],
   "metadata": {
    "colab": {
     "base_uri": "https://localhost:8080/",
     "height": 204
    },
    "id": "4ajKAt-1v220",
    "outputId": "ca5eebe4-7f11-4b60-d3c3-3499993809bf"
   }
  },
  {
   "cell_type": "markdown",
   "source": [
    "### Feature Selections"
   ],
   "metadata": {
    "id": "_pAHqMokjI0Q"
   }
  },
  {
   "cell_type": "markdown",
   "source": [
    "It is the process of reducing the number of input variables when developing a predictive model. Used to reduce the number of input variables to both reduce the computational cost of modelling and, in some cases, to improve the performance of the model.\n",
    "\n",
    "We will assign all the required input features to X and target/outcome to Y."
   ],
   "metadata": {
    "id": "mtsrehs6jJDK"
   }
  },
  {
   "cell_type": "code",
   "execution_count": 9,
   "source": [
    "X=df[text]\n",
    "Y=df[target]"
   ],
   "outputs": [],
   "metadata": {
    "id": "_MNVdxu6jMjD"
   }
  },
  {
   "cell_type": "markdown",
   "source": [
    "#### Distribution Of Target Variable"
   ],
   "metadata": {
    "id": "RwwCPRS3Du30"
   }
  },
  {
   "cell_type": "code",
   "execution_count": 10,
   "source": [
    "plt.figure(figsize = (10,6))\n",
    "se.countplot(Y)"
   ],
   "outputs": [
    {
     "output_type": "execute_result",
     "data": {
      "text/plain": [
       "<AxesSubplot:xlabel='v1', ylabel='count'>"
      ]
     },
     "metadata": {},
     "execution_count": 10
    },
    {
     "output_type": "display_data",
     "data": {
      "image/png": "[encoded data removed]",
      "text/plain": [
       "<Figure size 720x432 with 1 Axes>"
      ]
     },
     "metadata": {
      "needs_background": "light"
     }
    }
   ],
   "metadata": {
    "colab": {
     "base_uri": "https://localhost:8080/",
     "height": 405
    },
    "id": "dobw-AfYDy3g",
    "outputId": "d25a4d8b-5d1f-423b-ea12-5bf2d442fcfc"
   }
  },
  {
   "cell_type": "markdown",
   "source": [
    "### Data Splitting\n",
    "Since we are using a univariate dataset, we can directly split our data into training and testing subsets. The first subset is utilized to fit/train the model. The second subset is used for prediction. The main motive is to estimate the performance of the model on new data."
   ],
   "metadata": {
    "id": "u3iVx_6v_-De"
   }
  },
  {
   "cell_type": "code",
   "execution_count": 11,
   "source": [
    "x_train,x_test,y_train,y_test=train_test_split(X,Y,test_size=0.2,random_state=123)"
   ],
   "outputs": [],
   "metadata": {
    "id": "jKoGwzU3AAkW"
   }
  },
  {
   "cell_type": "markdown",
   "source": [
    "### Feature Transformation"
   ],
   "metadata": {
    "id": "ufHKpTiN90UC"
   }
  },
  {
   "cell_type": "markdown",
   "source": [
    "**CountVectorizer** is a text transformation technique provided by the scikit-learn library that transforms a given text into a vector on the basis of the frequency (count) of each word that occurs in the entire text.\n",
    "\n",
    "It converts a collection of text documents to a matrix of token counts\n",
    "\n",
    "***For more information on CountVectorizer [click here](https://scikit-learn.org/stable/modules/generated/sklearn.feature_extraction.text.CountVectorizer.html)***"
   ],
   "metadata": {
    "id": "R_PpHDfQ-BJU"
   }
  },
  {
   "cell_type": "code",
   "execution_count": 12,
   "source": [
    "vectorizer = CountVectorizer()\n",
    "vectorizer.fit(x_train)\n",
    "\n",
    "x_train = vectorizer.transform(x_train)\n",
    "x_test  = vectorizer.transform(x_test)"
   ],
   "outputs": [],
   "metadata": {
    "id": "WU9H2MXk-b70"
   }
  },
  {
   "cell_type": "code",
   "execution_count": 13,
   "source": [
    "x_train,y_train = RandomOverSampler(random_state=123).fit_resample(x_train, y_train)"
   ],
   "outputs": [],
   "metadata": {}
  },
  {
   "cell_type": "markdown",
   "source": [
    "## Model"
   ],
   "metadata": {
    "id": "d4ByFdUKCQ7k"
   }
  },
  {
   "cell_type": "markdown",
   "source": [
    "XGBoost is an optimized distributed gradient boosting library designed to be highly efficient, flexible and portable. It implements machine learning algorithms under the Gradient Boosting framework. XGBoost provides a parallel tree boosting (also known as GBDT, GBM) that solve many data science problems in a fast and accurate way."
   ],
   "metadata": {
    "id": "DOhgjmbaCQwC"
   }
  },
  {
   "cell_type": "markdown",
   "source": [
    "\n",
    "#### Model Tuning Parameters\n",
    " > - booster ->  Which booster to use. Can be gbtree, gblinear or dart; gbtree and dart use tree based models while gblinear uses linear functions.\n",
    " \n",
    " > - validate_parameters ->  When set to True, XGBoost will perform validation of input parameters to check whether a parameter is used or not. The feature is still experimental. It’s expected to have some false positives.\n",
    "\n",
    "> - num_pbuffer ->  Size of prediction buffer, normally set to number of training instances. The buffers are used to save the prediction results of last boosting step.\n",
    "\n",
    "> - num_feature ->  Feature dimension used in boosting, set to maximum dimension of the feature\n",
    "\n",
    "Read more at [xgboost.readthedocs.io](https://xgboost.readthedocs.io/en/latest/parameter.html)"
   ],
   "metadata": {
    "id": "r1YQa7jLCXUt"
   }
  },
  {
   "cell_type": "code",
   "execution_count": 14,
   "source": [
    "model=XGBClassifier()\n",
    "model.fit(x_train,y_train)"
   ],
   "outputs": [
    {
     "output_type": "stream",
     "name": "stdout",
     "text": []
    },
    {
     "output_type": "execute_result",
     "data": {
      "text/plain": [
       "XGBClassifier(base_score=0.5, booster='gbtree', colsample_bylevel=1,\n",
       "              colsample_bynode=1, colsample_bytree=1, gamma=0, gpu_id=-1,\n",
       "              importance_type='gain', interaction_constraints='',\n",
       "              learning_rate=0.300000012, max_delta_step=0, max_depth=6,\n",
       "              min_child_weight=1, missing=nan, monotone_constraints='()',\n",
       "              n_estimators=100, n_jobs=8, num_parallel_tree=1, random_state=0,\n",
       "              reg_alpha=0, reg_lambda=1, scale_pos_weight=1, subsample=1,\n",
       "              tree_method='exact', validate_parameters=1, verbosity=None)"
      ]
     },
     "metadata": {},
     "execution_count": 14
    }
   ],
   "metadata": {
    "colab": {
     "base_uri": "https://localhost:8080/"
    },
    "id": "uQ1b_UYhAoB4",
    "outputId": "ead85146-b112-4297-9986-c59e33dc318c"
   }
  },
  {
   "cell_type": "markdown",
   "source": [
    "#### Model Accuracy\n",
    "score() method return the mean accuracy on the given test data and labels.\n",
    "\n",
    "In multi-label classification, this is the subset accuracy which is a harsh metric since you require for each sample that each label set be correctly predicted."
   ],
   "metadata": {
    "id": "GYatcCDDC2JP"
   }
  },
  {
   "cell_type": "code",
   "execution_count": 15,
   "source": [
    "print(\"Accuracy score {:.2f} %\\n\".format(model.score(x_test,y_test)*100))"
   ],
   "outputs": [
    {
     "output_type": "stream",
     "name": "stdout",
     "text": [
      "Accuracy score 98.39 %\n",
      "\n"
     ]
    }
   ],
   "metadata": {
    "colab": {
     "base_uri": "https://localhost:8080/"
    },
    "id": "C8b5oAH7C3Ya",
    "outputId": "03064f1b-1706-403a-bd46-aa723fcd8a53"
   }
  },
  {
   "cell_type": "markdown",
   "source": [
    "#### Confusion Matrix\n",
    "A confusion matrix is utilized to understand the performance of the classification model or algorithm in machine learning for a given test set where results are known."
   ],
   "metadata": {
    "id": "yas-d-CAC9bz"
   }
  },
  {
   "cell_type": "code",
   "execution_count": 16,
   "source": [
    "plot_confusion_matrix(model,x_test,y_test,cmap=plt.cm.Blues)"
   ],
   "outputs": [
    {
     "output_type": "execute_result",
     "data": {
      "text/plain": [
       "<sklearn.metrics._plot.confusion_matrix.ConfusionMatrixDisplay at 0x1f144b0adf0>"
      ]
     },
     "metadata": {},
     "execution_count": 16
    },
    {
     "output_type": "display_data",
     "data": {
      "image/png": "[encoded data removed]",
      "text/plain": [
       "<Figure size 432x288 with 2 Axes>"
      ]
     },
     "metadata": {
      "needs_background": "light"
     }
    }
   ],
   "metadata": {
    "colab": {
     "base_uri": "https://localhost:8080/",
     "height": 296
    },
    "id": "MXz0euBYC-95",
    "outputId": "6e7b964e-0d72-4182-b497-9c049ef6ba7c"
   }
  },
  {
   "cell_type": "markdown",
   "source": [
    "#### Classification Report\n",
    "A Classification report is used to measure the quality of predictions from a classification algorithm. How many predictions are True, how many are False.\n",
    "* where:\n",
    "  - Precision:- Accuracy of positive predictions.\n",
    "  -  Recall:- Fraction of positives that were correctly identified.\n",
    "  -  f1-score:- percent of positive predictions were correct\n",
    "  -  support:- Support is the number of actual occurrences of the class in the specified dataset."
   ],
   "metadata": {
    "id": "gny6G4OsDBTT"
   }
  },
  {
   "cell_type": "code",
   "execution_count": 17,
   "source": [
    "print(classification_report(y_test,model.predict(x_test)))"
   ],
   "outputs": [
    {
     "output_type": "stream",
     "name": "stdout",
     "text": [
      "              precision    recall  f1-score   support\n",
      "\n",
      "           0       0.99      0.99      0.99       982\n",
      "           1       0.96      0.90      0.93       133\n",
      "\n",
      "    accuracy                           0.98      1115\n",
      "   macro avg       0.97      0.95      0.96      1115\n",
      "weighted avg       0.98      0.98      0.98      1115\n",
      "\n"
     ]
    }
   ],
   "metadata": {
    "colab": {
     "base_uri": "https://localhost:8080/"
    },
    "id": "AowdAdt4DaPh",
    "outputId": "9e53e419-38e2-4f51-8f4e-440260a854cc"
   }
  },
  {
   "cell_type": "markdown",
   "source": [
    "\n",
    "#### Creator: Snehaan Bhawal , Github: [Profile](https://github.com/Sbhawal)"
   ],
   "metadata": {
    "id": "R2tcbGJGDhK4"
   }
  }
 ],
 "metadata": {
  "colab": {
   "collapsed_sections": [],
   "name": "TextClassificationSVC_CountVectorizer",
   "provenance": []
  },
  "kernelspec": {
   "display_name": "Python 3",
   "language": "python",
   "name": "python3"
  },
  "language_info": {
   "codemirror_mode": {
    "name": "ipython",
    "version": 3
   },
   "file_extension": ".py",
   "mimetype": "text/x-python",
   "name": "python",
   "nbconvert_exporter": "python",
   "pygments_lexer": "ipython3",
   "version": "3.8.8"
  }
 },
 "nbformat": 4,
 "nbformat_minor": 1
}